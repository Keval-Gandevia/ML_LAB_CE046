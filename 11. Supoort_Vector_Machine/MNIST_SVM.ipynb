{
  "cells": [
    {
      "cell_type": "markdown",
      "source": [
        "<h1> <b> Lab - 11 </b> </h1>\n",
        "<h3>Support Vector Machine</h3>\n",
        "<br>"
      ],
      "metadata": {
        "id": "QC2B2p3hVIRb"
      }
    },
    {
      "cell_type": "code",
      "execution_count": 1,
      "metadata": {
        "id": "wu0pyPBuZsrL",
        "colab": {
          "base_uri": "https://localhost:8080/"
        },
        "outputId": "7804382e-cd1c-44a3-a665-3e7217bedffc"
      },
      "outputs": [
        {
          "output_type": "stream",
          "name": "stdout",
          "text": [
            "\u001b[K     |████████████████████████████████| 4.2 MB 16.0 MB/s \n",
            "\u001b[K     |████████████████████████████████| 76 kB 6.5 MB/s \n",
            "\u001b[K     |████████████████████████████████| 462 kB 53.0 MB/s \n",
            "\u001b[?25h"
          ]
        }
      ],
      "source": [
        "pip install -q tfds-nightly tensorflow matplotlib"
      ]
    },
    {
      "cell_type": "markdown",
      "source": [
        "<br/><h2> <b> Import necessary modules.</b> </h2><br/>"
      ],
      "metadata": {
        "id": "gmOabHazVKY8"
      }
    },
    {
      "cell_type": "code",
      "execution_count": 2,
      "metadata": {
        "id": "b-ZhP6GzaL5N"
      },
      "outputs": [],
      "source": [
        "import numpy as np\n",
        "import pandas as pd\n",
        "from sklearn.model_selection import train_test_split\n",
        "from sklearn.svm import SVC\n",
        "from sklearn.metrics import confusion_matrix\n",
        "from sklearn.model_selection import validation_curve\n",
        "from sklearn.model_selection import KFold\n",
        "from sklearn.model_selection import cross_val_score\n",
        "from sklearn.model_selection import GridSearchCV\n",
        "import matplotlib.pyplot as plt\n",
        "import seaborn as sns\n",
        "import tensorflow"
      ]
    },
    {
      "cell_type": "markdown",
      "source": [
        "<br/><h2> <b> Load the data.</b> </h2><br/>\n"
      ],
      "metadata": {
        "id": "0DOzpN6QVPta"
      }
    },
    {
      "cell_type": "code",
      "execution_count": 3,
      "metadata": {
        "id": "leKcyk7PaNrv",
        "colab": {
          "base_uri": "https://localhost:8080/"
        },
        "outputId": "f1adfca4-6720-4ac8-adc1-a7bbc9085c81"
      },
      "outputs": [
        {
          "output_type": "stream",
          "name": "stdout",
          "text": [
            "Downloading data from https://storage.googleapis.com/tensorflow/tf-keras-datasets/mnist.npz\n",
            "11493376/11490434 [==============================] - 0s 0us/step\n",
            "11501568/11490434 [==============================] - 0s 0us/step\n"
          ]
        }
      ],
      "source": [
        "from tensorflow.keras.datasets import mnist\n",
        "(features_train, targets_train), (features_test, targets_test) = mnist.load_data()"
      ]
    },
    {
      "cell_type": "markdown",
      "source": [
        "<br/><h2> <b> Convert to float32.</b> </h2><br/>"
      ],
      "metadata": {
        "id": "1AlGNEcxVSYA"
      }
    },
    {
      "cell_type": "code",
      "execution_count": 4,
      "metadata": {
        "id": "9zm3cvrqaQDL"
      },
      "outputs": [],
      "source": [
        "features_train, features_test = np.array(features_train, np.float32), np.array(features_test, np.float32)"
      ]
    },
    {
      "cell_type": "markdown",
      "source": [
        "<br/><h2> <b>Flatten images to 1-D vector of 784 features (28*28).</b> </h2><br/>"
      ],
      "metadata": {
        "id": "4-BXKJxTVWVa"
      }
    },
    {
      "cell_type": "code",
      "execution_count": 5,
      "metadata": {
        "id": "35imvuP8aTAo"
      },
      "outputs": [],
      "source": [
        "features_train, features_test = features_train.reshape([-1, 784]), features_test.reshape([-1, 784])"
      ]
    },
    {
      "cell_type": "markdown",
      "source": [
        "<br/><h2> <b>Normalize images value from [0, 255] to [0, 1].</b> </h2><br/>"
      ],
      "metadata": {
        "id": "qc3IcT36VZY0"
      }
    },
    {
      "cell_type": "code",
      "execution_count": 6,
      "metadata": {
        "id": "YxTu4Cr4aUpN"
      },
      "outputs": [],
      "source": [
        "features_train, features_test = features_train / 255., features_test / 255."
      ]
    },
    {
      "cell_type": "markdown",
      "source": [
        "<br/><h2> <b>Visualize one of the images in data set.</b> </h2><br/>"
      ],
      "metadata": {
        "id": "lrGxbjxrVcbo"
      }
    },
    {
      "cell_type": "code",
      "execution_count": 7,
      "metadata": {
        "colab": {
          "base_uri": "https://localhost:8080/",
          "height": 264
        },
        "id": "VvIxCFBNaWbE",
        "outputId": "5617651b-8d1c-41e3-ddea-18e4d556e339"
      },
      "outputs": [
        {
          "output_type": "display_data",
          "data": {
            "text/plain": [
              "<Figure size 432x288 with 1 Axes>"
            ],
            "image/png": "[encoded data removed]"
          },
          "metadata": {
            "needs_background": "light"
          }
        }
      ],
      "source": [
        "plt.imshow(features_train[15].reshape(28,28))\n",
        "plt.axis(\"off\")\n",
        "plt.title(str(targets_train[15]))\n",
        "plt.savefig('image.png')\n",
        "plt.show()"
      ]
    },
    {
      "cell_type": "markdown",
      "source": [
        "<br/><h2> <b>SVM with 'linear' kernel.</b> </h2><br/>"
      ],
      "metadata": {
        "id": "AGjNLRRKVjIR"
      }
    },
    {
      "cell_type": "code",
      "execution_count": 8,
      "metadata": {
        "id": "oWPtv7YZaYIP"
      },
      "outputs": [],
      "source": [
        "clf = SVC(kernel = 'linear')\n",
        "\n",
        "clf.fit(features_train, targets_train)\n",
        "\n",
        "targets_predict = clf.predict(features_test)"
      ]
    },
    {
      "cell_type": "code",
      "execution_count": 9,
      "metadata": {
        "colab": {
          "base_uri": "https://localhost:8080/"
        },
        "id": "KNO8GX0KaoGn",
        "outputId": "9d3b7e9e-d477-431b-84ef-68670dc67dc0"
      },
      "outputs": [
        {
          "output_type": "stream",
          "name": "stdout",
          "text": [
            "Accuracy: 0.9404\n",
            "Precision: 0.9404744228503641\n",
            "Recall: 0.9404\n"
          ]
        }
      ],
      "source": [
        "#Import scikit-learn metrics module for accuracy calculation\n",
        "from sklearn import metrics\n",
        "\n",
        "print(\"Accuracy:\",metrics.accuracy_score(targets_test, targets_predict))\n",
        "\n",
        "print(\"Precision:\",metrics.precision_score(targets_test, targets_predict, average=\"weighted\"))\n",
        "\n",
        "print(\"Recall:\",metrics.recall_score(targets_test, targets_predict, average=\"weighted\"))"
      ]
    },
    {
      "cell_type": "markdown",
      "source": [
        "<br/><h2> <b>SVM with 'polynomial' kernel.</b> </h2><br/>"
      ],
      "metadata": {
        "id": "xIg6Voe2VtZS"
      }
    },
    {
      "cell_type": "code",
      "execution_count": 10,
      "metadata": {
        "id": "YuuT1Q0ReJpA"
      },
      "outputs": [],
      "source": [
        "poly_classifier = SVC(kernel=\"poly\", degree = 3)\n",
        "\n",
        "poly_classifier.fit(features_train, targets_train)\n",
        "\n",
        "y_pred = poly_classifier.predict(features_test)"
      ]
    },
    {
      "cell_type": "code",
      "execution_count": 11,
      "metadata": {
        "colab": {
          "base_uri": "https://localhost:8080/"
        },
        "id": "O28PZGgKebn3",
        "outputId": "aea301e5-74fd-492a-fc4f-5087e47d27f5"
      },
      "outputs": [
        {
          "output_type": "stream",
          "name": "stdout",
          "text": [
            "Accuracy: 0.9771\n",
            "Precision: 0.9771114199169968\n",
            "Recall: 0.9771\n"
          ]
        }
      ],
      "source": [
        "print(\"Accuracy:\",metrics.accuracy_score(targets_test, y_pred))\n",
        "\n",
        "print(\"Precision:\",metrics.precision_score(targets_test, y_pred, average=\"weighted\"))\n",
        "\n",
        "print(\"Recall:\",metrics.recall_score(targets_test, y_pred, average=\"weighted\"))"
      ]
    },
    {
      "cell_type": "markdown",
      "source": [
        "<br/><h2> <b>SVM with 'rbf' kernel.</b> </h2><br/>"
      ],
      "metadata": {
        "id": "qWCF_wk4Vy9v"
      }
    },
    {
      "cell_type": "code",
      "execution_count": 12,
      "metadata": {
        "id": "cKn4yjumeoCq"
      },
      "outputs": [],
      "source": [
        "rbf_classifier = SVC(kernel = \"rbf\")\n",
        "\n",
        "rbf_classifier.fit(features_train, targets_train)\n",
        "\n",
        "y_pred = rbf_classifier.predict(features_test)"
      ]
    },
    {
      "cell_type": "code",
      "execution_count": 13,
      "metadata": {
        "id": "jmFvZgDdgvr7",
        "colab": {
          "base_uri": "https://localhost:8080/"
        },
        "outputId": "944790a4-faed-4904-86be-37b6a99883c1"
      },
      "outputs": [
        {
          "output_type": "stream",
          "name": "stdout",
          "text": [
            "Accuracy: 0.9792\n",
            "Precision: 0.9792006017788697\n",
            "Recall: 0.9792\n"
          ]
        }
      ],
      "source": [
        "print(\"Accuracy:\",metrics.accuracy_score(targets_test, y_pred))\n",
        "\n",
        "print(\"Precision:\",metrics.precision_score(targets_test, y_pred, average=\"weighted\"))\n",
        "\n",
        "print(\"Recall:\",metrics.recall_score(targets_test, y_pred, average=\"weighted\"))"
      ]
    },
    {
      "cell_type": "markdown",
      "source": [
        "# Observation"
      ],
      "metadata": {
        "id": "85nxI00xX9XY"
      }
    },
    {
      "cell_type": "markdown",
      "source": [
        "<br/><h2> <b>It is observed that there is no much difference between using different kernel functions like 'linear', 'polynomial', 'rbf'. However, we know that their approach of finding the decision boundary between the classes.</b> </h2><br/>"
      ],
      "metadata": {
        "id": "h7GKceteYAnk"
      }
    }
  ],
  "metadata": {
    "colab": {
      "name": "Lab_11_CE046_MNIST_SVM",
      "provenance": [],
      "collapsed_sections": []
    },
    "kernelspec": {
      "display_name": "Python 3",
      "name": "python3"
    },
    "language_info": {
      "name": "python"
    }
  },
  "nbformat": 4,
  "nbformat_minor": 0
}