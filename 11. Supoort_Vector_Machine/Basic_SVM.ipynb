{
  "nbformat": 4,
  "nbformat_minor": 0,
  "metadata": {
    "colab": {
      "name": "Lab_11_CE046_Basic_SVM.ipynb",
      "provenance": []
    },
    "kernelspec": {
      "name": "python3",
      "display_name": "Python 3"
    },
    "language_info": {
      "name": "python"
    }
  },
  "cells": [
    {
      "cell_type": "markdown",
      "source": [
        "<h1> <b> Lab - 11 </b> </h1>\n",
        "<h3>Support Vector Machine</h3>\n",
        "<br>"
      ],
      "metadata": {
        "id": "sqvzw23PRp2i"
      }
    },
    {
      "cell_type": "markdown",
      "source": [
        "<br/><h2> <b> Import necessary modules.</b> </h2><br/>"
      ],
      "metadata": {
        "id": "P4L2eKnQRyGg"
      }
    },
    {
      "cell_type": "code",
      "source": [
        "import sys, os\n",
        "import matplotlib.pyplot as plt\n",
        "from sklearn import svm\n",
        "from sklearn.model_selection import train_test_split\n",
        "import numpy as np"
      ],
      "metadata": {
        "id": "3tUCbjcrMYk-"
      },
      "execution_count": 27,
      "outputs": []
    },
    {
      "cell_type": "markdown",
      "source": [
        "# Basic SVM On Random Dataset"
      ],
      "metadata": {
        "id": "M7vMbPSsStTN"
      }
    },
    {
      "cell_type": "markdown",
      "source": [
        "<br/><h2> <b> Load the data with 2 class labels.</b> </h2><br/>"
      ],
      "metadata": {
        "id": "ID2xunPZR01Z"
      }
    },
    {
      "cell_type": "code",
      "execution_count": 28,
      "metadata": {
        "id": "3FzTcpN0Ln9z"
      },
      "outputs": [],
      "source": [
        "# importing scikit learn with make_blobs\n",
        "from sklearn.datasets import make_blobs\n",
        "\n",
        "# creating datasets X containing n_samples\n",
        "# Y containing two classes\n",
        "\n",
        "X, Y = make_blobs(n_samples = 300, centers = 2, random_state = 46, cluster_std = 0.40)"
      ]
    },
    {
      "cell_type": "markdown",
      "source": [
        "<br/><h2> <b> Plot scatters.</b> </h2><br/>"
      ],
      "metadata": {
        "id": "lhG_VE6oR85n"
      }
    },
    {
      "cell_type": "code",
      "source": [
        "plt.scatter(X[:, 0], X[:, 1], c = Y, s = 50, cmap = 'spring');\n",
        "plt.show()"
      ],
      "metadata": {
        "colab": {
          "base_uri": "https://localhost:8080/",
          "height": 265
        },
        "id": "WK6uBe7VL9x6",
        "outputId": "716614cb-bb59-43f6-8d1e-0b4e0f3ae0d0"
      },
      "execution_count": 29,
      "outputs": [
        {
          "output_type": "display_data",
          "data": {
            "text/plain": [
              "<Figure size 432x288 with 1 Axes>"
            ],
            "image/png": "[encoded data removed]"
          },
          "metadata": {
            "needs_background": "light"
          }
        }
      ]
    },
    {
      "cell_type": "markdown",
      "source": [
        "<br/><h2> <b> Splitting the dataset into training and testing data.</b> </h2><br/>"
      ],
      "metadata": {
        "id": "ouq_GEvBSD1L"
      }
    },
    {
      "cell_type": "code",
      "source": [
        "X_train, X_test, y_train, y_test = train_test_split(X, Y, test_size = 0.20)"
      ],
      "metadata": {
        "id": "CvsgvsbqPmZK"
      },
      "execution_count": 30,
      "outputs": []
    },
    {
      "cell_type": "markdown",
      "source": [
        "<br/><h2> <b> Functions for plotting the decision boundary.</b> </h2><br/>"
      ],
      "metadata": {
        "id": "UsjC3PVdSLLi"
      }
    },
    {
      "cell_type": "code",
      "source": [
        "def make_meshgrid(x, y, h=.02):\n",
        "  x_min, x_max = x.min() - 1, x.max() + 1\n",
        "  y_min, y_max = y.min() - 1, y.max() + 1\n",
        "  xx, yy = np.meshgrid(np.arange(x_min, x_max, h), np.arange(y_min, y_max, h))\n",
        "  return xx, yy"
      ],
      "metadata": {
        "id": "k_sQXsxTQtZ8"
      },
      "execution_count": 31,
      "outputs": []
    },
    {
      "cell_type": "code",
      "source": [
        "def plot_contours(ax, clf, xx, yy, **params):\n",
        "  Z = clf.predict(np.c_[xx.ravel(), yy.ravel()])\n",
        "  Z = Z.reshape(xx.shape)\n",
        "  out = ax.contourf(xx, yy, Z, **params)\n",
        "  return out"
      ],
      "metadata": {
        "id": "UnqEgfnvREtS"
      },
      "execution_count": 32,
      "outputs": []
    },
    {
      "cell_type": "code",
      "source": [
        "from matplotlib.colors import ListedColormap\n",
        "zero_one_colourmap = ListedColormap(('blue', 'red'))\n",
        "\n",
        "def plot_decision_boundary(X, y, clf):\n",
        "  X_set, y_set = X, y\n",
        "  X1, X2 = np.meshgrid(np.arange(start = X_set[:, 0].min() - 1,\n",
        "  stop = X_set[:, 0].max() + 1,\n",
        "  step = 0.01),\n",
        "\n",
        "  np.arange(start = X_set[:, 1].min() - 1,\n",
        "  stop = X_set[:, 1].max() + 1,\n",
        "  step = 0.01))\n",
        "\n",
        "  plt.contourf(X1, X2, clf.predict(np.array([X1.ravel(),\n",
        "\n",
        "  X2.ravel()]).T).reshape(X1.shape),\n",
        "\n",
        "  alpha = 0.75,\n",
        "  cmap = zero_one_colourmap)\n",
        "\n",
        "  plt.xlim(X1.min(), X1.max())\n",
        "  plt.ylim(X2.min(), X2.max())\n",
        "  for i, j in enumerate(np.unique(y_set)):\n",
        "    plt.scatter(X_set[y_set == j, 0], X_set[y_set == j, 1],\n",
        "    c = (zero_one_colourmap)(i), label = j)\n",
        "\n",
        "  plt.title('SVM Decision Boundary')\n",
        "  plt.xlabel('X1')\n",
        "  plt.ylabel('X2')\n",
        "  plt.legend()\n",
        "  return plt.show()"
      ],
      "metadata": {
        "id": "SkkDO7c-RGwc"
      },
      "execution_count": 33,
      "outputs": []
    },
    {
      "cell_type": "markdown",
      "source": [
        "<br/><h2> <b>Create a linear SVM classifier.</b> </h2><br/>"
      ],
      "metadata": {
        "id": "BLqcp01TSVQp"
      }
    },
    {
      "cell_type": "code",
      "source": [
        "clf = svm.SVC(kernel = 'linear')"
      ],
      "metadata": {
        "id": "p_pSMUL5MqXi"
      },
      "execution_count": 34,
      "outputs": []
    },
    {
      "cell_type": "markdown",
      "source": [
        "<br/><h2> <b> Train classifier.</b> </h2><br/>"
      ],
      "metadata": {
        "id": "oxFNuit5ScEf"
      }
    },
    {
      "cell_type": "code",
      "source": [
        "clf = clf.fit(X_train, y_train)"
      ],
      "metadata": {
        "id": "Lb0o499jM_bH"
      },
      "execution_count": 35,
      "outputs": []
    },
    {
      "cell_type": "markdown",
      "source": [
        "<br/><h2> <b> Plot the decision boundary.</b> </h2><br/>"
      ],
      "metadata": {
        "id": "MnSg_HmSSg5H"
      }
    },
    {
      "cell_type": "code",
      "source": [
        "plot_decision_boundary(X_train, y_train, clf)"
      ],
      "metadata": {
        "colab": {
          "base_uri": "https://localhost:8080/",
          "height": 350
        },
        "id": "FHlrxNh1R4ip",
        "outputId": "a883524d-d1bd-4892-d87f-dad986c5a2a8"
      },
      "execution_count": 36,
      "outputs": [
        {
          "output_type": "stream",
          "name": "stderr",
          "text": [
            "*c* argument looks like a single numeric RGB or RGBA sequence, which should be avoided as value-mapping will have precedence in case its length matches with *x* & *y*.  Please use the *color* keyword-argument or provide a 2-D array with a single row if you intend to specify the same RGB or RGBA value for all points.\n",
            "*c* argument looks like a single numeric RGB or RGBA sequence, which should be avoided as value-mapping will have precedence in case its length matches with *x* & *y*.  Please use the *color* keyword-argument or provide a 2-D array with a single row if you intend to specify the same RGB or RGBA value for all points.\n"
          ]
        },
        {
          "output_type": "display_data",
          "data": {
            "text/plain": [
              "<Figure size 432x288 with 1 Axes>"
            ],
            "image/png": "[encoded data removed]"
          },
          "metadata": {
            "needs_background": "light"
          }
        }
      ]
    },
    {
      "cell_type": "markdown",
      "source": [
        "<br/><h2> <b> Make predictions.</b> </h2><br/>"
      ],
      "metadata": {
        "id": "Gkjpu_mCSmi-"
      }
    },
    {
      "cell_type": "code",
      "source": [
        "y_pred = clf.predict(X_test)"
      ],
      "metadata": {
        "id": "8DWFfZLpOSBe"
      },
      "execution_count": 37,
      "outputs": []
    },
    {
      "cell_type": "markdown",
      "source": [
        "<br/><h2> <b> Find accuracy.</b> </h2><br/>"
      ],
      "metadata": {
        "id": "8sMClkHESucs"
      }
    },
    {
      "cell_type": "code",
      "source": [
        "from sklearn.metrics import accuracy_score\n",
        "accuracy_score(y_test, y_pred)"
      ],
      "metadata": {
        "colab": {
          "base_uri": "https://localhost:8080/"
        },
        "id": "FFAwqJwGQn7r",
        "outputId": "890d2740-f772-4133-f27a-030b271aca26"
      },
      "execution_count": 38,
      "outputs": [
        {
          "output_type": "execute_result",
          "data": {
            "text/plain": [
              "1.0"
            ]
          },
          "metadata": {},
          "execution_count": 38
        }
      ]
    },
    {
      "cell_type": "code",
      "source": [
        "fig, ax = plt.subplots()\n",
        "\n",
        "# title for the plots\n",
        "title = ('Decision surface of linear SVC ')\n",
        "\n",
        "# Set-up grid for plotting.\n",
        "X0, X1 = X[:, 0], X[:, 1]\n",
        "xx, yy = make_meshgrid(X0, X1)\n",
        "plot_contours(ax, clf, xx, yy, cmap=plt.cm.coolwarm, alpha=0.8)\n",
        "ax.scatter(X0, X1, c=Y, cmap=plt.cm.coolwarm, s=20, edgecolors='k')\n",
        "ax.set_ylabel('y label here')\n",
        "ax.set_xlabel('x label here')\n",
        "ax.set_xticks(())\n",
        "ax.set_yticks(())\n",
        "ax.set_title(title)\n",
        "ax.legend()"
      ],
      "metadata": {
        "colab": {
          "base_uri": "https://localhost:8080/",
          "height": 313
        },
        "id": "6flulr8ASGaS",
        "outputId": "c124149c-f1ad-4d02-871e-4c4b97716b3d"
      },
      "execution_count": 39,
      "outputs": [
        {
          "output_type": "stream",
          "name": "stderr",
          "text": [
            "No handles with labels found to put in legend.\n"
          ]
        },
        {
          "output_type": "execute_result",
          "data": {
            "text/plain": [
              "<matplotlib.legend.Legend at 0x7f73feb914d0>"
            ]
          },
          "metadata": {},
          "execution_count": 39
        },
        {
          "output_type": "display_data",
          "data": {
            "text/plain": [
              "<Figure size 432x288 with 1 Axes>"
            ],
            "image/png": "[encoded data removed]"
          },
          "metadata": {}
        }
      ]
    },
    {
      "cell_type": "markdown",
      "source": [
        "# SVM On Breast Cancer Dataset"
      ],
      "metadata": {
        "id": "1oMk7D6iSjnU"
      }
    },
    {
      "cell_type": "markdown",
      "source": [
        "<br/><h2> <b> Load the data.</b> </h2><br/>"
      ],
      "metadata": {
        "id": "Pje58uAkS3-X"
      }
    },
    {
      "cell_type": "code",
      "source": [
        "#Import scikit-learn dataset library\n",
        "from sklearn import datasets\n",
        "\n",
        "#Load dataset\n",
        "cancer = datasets.load_breast_cancer()"
      ],
      "metadata": {
        "id": "fhEug1qrSpxs"
      },
      "execution_count": 40,
      "outputs": []
    },
    {
      "cell_type": "markdown",
      "source": [
        "<br/><h2> <b> Print the names of the features.</b> </h2><br/>"
      ],
      "metadata": {
        "id": "0a4LbMpWS784"
      }
    },
    {
      "cell_type": "code",
      "source": [
        "cancer.feature_names"
      ],
      "metadata": {
        "colab": {
          "base_uri": "https://localhost:8080/"
        },
        "id": "GpLbPESMS4FL",
        "outputId": "ac2b9df1-a3ce-487c-9c5f-2d36812d2efd"
      },
      "execution_count": 41,
      "outputs": [
        {
          "output_type": "execute_result",
          "data": {
            "text/plain": [
              "array(['mean radius', 'mean texture', 'mean perimeter', 'mean area',\n",
              "       'mean smoothness', 'mean compactness', 'mean concavity',\n",
              "       'mean concave points', 'mean symmetry', 'mean fractal dimension',\n",
              "       'radius error', 'texture error', 'perimeter error', 'area error',\n",
              "       'smoothness error', 'compactness error', 'concavity error',\n",
              "       'concave points error', 'symmetry error',\n",
              "       'fractal dimension error', 'worst radius', 'worst texture',\n",
              "       'worst perimeter', 'worst area', 'worst smoothness',\n",
              "       'worst compactness', 'worst concavity', 'worst concave points',\n",
              "       'worst symmetry', 'worst fractal dimension'], dtype='<U23')"
            ]
          },
          "metadata": {},
          "execution_count": 41
        }
      ]
    },
    {
      "cell_type": "markdown",
      "source": [
        "<br/><h2> <b> Print the lables of the class.</b> </h2><br/>"
      ],
      "metadata": {
        "id": "EnjFhtghTCmN"
      }
    },
    {
      "cell_type": "code",
      "source": [
        "cancer.target_names"
      ],
      "metadata": {
        "colab": {
          "base_uri": "https://localhost:8080/"
        },
        "id": "cuhImu_YS6nS",
        "outputId": "3fd374c4-bbdd-4907-973e-fbdec0c27e3e"
      },
      "execution_count": 42,
      "outputs": [
        {
          "output_type": "execute_result",
          "data": {
            "text/plain": [
              "array(['malignant', 'benign'], dtype='<U9')"
            ]
          },
          "metadata": {},
          "execution_count": 42
        }
      ]
    },
    {
      "cell_type": "markdown",
      "source": [
        "<br/><h2> <b> Extract features and targets from the data.</b> </h2><br/>"
      ],
      "metadata": {
        "id": "qdIiRvBcTHbQ"
      }
    },
    {
      "cell_type": "code",
      "source": [
        "features = cancer.data\n",
        "targets = cancer.target "
      ],
      "metadata": {
        "id": "Vm9MbUyfTtjN"
      },
      "execution_count": 43,
      "outputs": []
    },
    {
      "cell_type": "markdown",
      "source": [
        "<br/><h2> <b> Print the shape of the feature.</b> </h2><br/>"
      ],
      "metadata": {
        "id": "6Ezf40-LTNhP"
      }
    },
    {
      "cell_type": "code",
      "source": [
        "features.shape"
      ],
      "metadata": {
        "colab": {
          "base_uri": "https://localhost:8080/"
        },
        "id": "RWAtTvM1T1AZ",
        "outputId": "335e8e3e-a7c0-4247-b93e-a9bbea6e26d3"
      },
      "execution_count": 44,
      "outputs": [
        {
          "output_type": "execute_result",
          "data": {
            "text/plain": [
              "(569, 30)"
            ]
          },
          "metadata": {},
          "execution_count": 44
        }
      ]
    },
    {
      "cell_type": "markdown",
      "source": [
        "<br/><h2> <b> Print the cancer labels.</b> </h2><br/>"
      ],
      "metadata": {
        "id": "orzWEH0fTR8k"
      }
    },
    {
      "cell_type": "code",
      "source": [
        "# (0:malignant, 1:benign)\n",
        "targets"
      ],
      "metadata": {
        "colab": {
          "base_uri": "https://localhost:8080/"
        },
        "id": "1r4n8K3eWkNY",
        "outputId": "1e3a65ba-089a-45a1-fba6-ae7cf0206e48"
      },
      "execution_count": 45,
      "outputs": [
        {
          "output_type": "execute_result",
          "data": {
            "text/plain": [
              "array([0, 0, 0, 0, 0, 0, 0, 0, 0, 0, 0, 0, 0, 0, 0, 0, 0, 0, 0, 1, 1, 1,\n",
              "       0, 0, 0, 0, 0, 0, 0, 0, 0, 0, 0, 0, 0, 0, 0, 1, 0, 0, 0, 0, 0, 0,\n",
              "       0, 0, 1, 0, 1, 1, 1, 1, 1, 0, 0, 1, 0, 0, 1, 1, 1, 1, 0, 1, 0, 0,\n",
              "       1, 1, 1, 1, 0, 1, 0, 0, 1, 0, 1, 0, 0, 1, 1, 1, 0, 0, 1, 0, 0, 0,\n",
              "       1, 1, 1, 0, 1, 1, 0, 0, 1, 1, 1, 0, 0, 1, 1, 1, 1, 0, 1, 1, 0, 1,\n",
              "       1, 1, 1, 1, 1, 1, 1, 0, 0, 0, 1, 0, 0, 1, 1, 1, 0, 0, 1, 0, 1, 0,\n",
              "       0, 1, 0, 0, 1, 1, 0, 1, 1, 0, 1, 1, 1, 1, 0, 1, 1, 1, 1, 1, 1, 1,\n",
              "       1, 1, 0, 1, 1, 1, 1, 0, 0, 1, 0, 1, 1, 0, 0, 1, 1, 0, 0, 1, 1, 1,\n",
              "       1, 0, 1, 1, 0, 0, 0, 1, 0, 1, 0, 1, 1, 1, 0, 1, 1, 0, 0, 1, 0, 0,\n",
              "       0, 0, 1, 0, 0, 0, 1, 0, 1, 0, 1, 1, 0, 1, 0, 0, 0, 0, 1, 1, 0, 0,\n",
              "       1, 1, 1, 0, 1, 1, 1, 1, 1, 0, 0, 1, 1, 0, 1, 1, 0, 0, 1, 0, 1, 1,\n",
              "       1, 1, 0, 1, 1, 1, 1, 1, 0, 1, 0, 0, 0, 0, 0, 0, 0, 0, 0, 0, 0, 0,\n",
              "       0, 0, 1, 1, 1, 1, 1, 1, 0, 1, 0, 1, 1, 0, 1, 1, 0, 1, 0, 0, 1, 1,\n",
              "       1, 1, 1, 1, 1, 1, 1, 1, 1, 1, 1, 0, 1, 1, 0, 1, 0, 1, 1, 1, 1, 1,\n",
              "       1, 1, 1, 1, 1, 1, 1, 1, 1, 0, 1, 1, 1, 0, 1, 0, 1, 1, 1, 1, 0, 0,\n",
              "       0, 1, 1, 1, 1, 0, 1, 0, 1, 0, 1, 1, 1, 0, 1, 1, 1, 1, 1, 1, 1, 0,\n",
              "       0, 0, 1, 1, 1, 1, 1, 1, 1, 1, 1, 1, 1, 0, 0, 1, 0, 0, 0, 1, 0, 0,\n",
              "       1, 1, 1, 1, 1, 0, 1, 1, 1, 1, 1, 0, 1, 1, 1, 0, 1, 1, 0, 0, 1, 1,\n",
              "       1, 1, 1, 1, 0, 1, 1, 1, 1, 1, 1, 1, 0, 1, 1, 1, 1, 1, 0, 1, 1, 0,\n",
              "       1, 1, 1, 1, 1, 1, 1, 1, 1, 1, 1, 1, 0, 1, 0, 0, 1, 0, 1, 1, 1, 1,\n",
              "       1, 0, 1, 1, 0, 1, 0, 1, 1, 0, 1, 0, 1, 1, 1, 1, 1, 1, 1, 1, 0, 0,\n",
              "       1, 1, 1, 1, 1, 1, 0, 1, 1, 1, 1, 1, 1, 1, 1, 1, 1, 0, 1, 1, 1, 1,\n",
              "       1, 1, 1, 0, 1, 0, 1, 1, 0, 1, 1, 1, 1, 1, 0, 0, 1, 0, 1, 0, 1, 1,\n",
              "       1, 1, 1, 0, 1, 1, 0, 1, 0, 1, 0, 0, 1, 1, 1, 0, 1, 1, 1, 1, 1, 1,\n",
              "       1, 1, 1, 1, 1, 0, 1, 0, 0, 1, 1, 1, 1, 1, 1, 1, 1, 1, 1, 1, 1, 1,\n",
              "       1, 1, 1, 1, 1, 1, 1, 1, 1, 1, 1, 1, 0, 0, 0, 0, 0, 0, 1])"
            ]
          },
          "metadata": {},
          "execution_count": 45
        }
      ]
    },
    {
      "cell_type": "markdown",
      "source": [
        "<br/><h2> <b> Plotting scatters.</b> </h2><br/>"
      ],
      "metadata": {
        "id": "d5SjjT5XTdVs"
      }
    },
    {
      "cell_type": "code",
      "source": [
        "# plotting scatters\n",
        "\n",
        "plt.scatter(features[:, 0], features[:, 1], c = targets, s=50, cmap = 'bwr')"
      ],
      "metadata": {
        "colab": {
          "base_uri": "https://localhost:8080/",
          "height": 283
        },
        "id": "-OTSb3F4Wrs1",
        "outputId": "2351e993-bd63-44a9-8ff3-a94a4c88141d"
      },
      "execution_count": 46,
      "outputs": [
        {
          "output_type": "execute_result",
          "data": {
            "text/plain": [
              "<matplotlib.collections.PathCollection at 0x7f73febe7710>"
            ]
          },
          "metadata": {},
          "execution_count": 46
        },
        {
          "output_type": "display_data",
          "data": {
            "text/plain": [
              "<Figure size 432x288 with 1 Axes>"
            ],
            "image/png": "[encoded data removed]"
          },
          "metadata": {
            "needs_background": "light"
          }
        }
      ]
    },
    {
      "cell_type": "markdown",
      "source": [
        "<br/><h2> <b> Splitting the dataset into training and testing data.</b> </h2><br/>"
      ],
      "metadata": {
        "id": "2QH8uvIRTs1N"
      }
    },
    {
      "cell_type": "code",
      "source": [
        "X_train, X_test, y_train, y_test = train_test_split(features, targets, test_size = 0.20)"
      ],
      "metadata": {
        "id": "xLQVLQtdZG3z"
      },
      "execution_count": 47,
      "outputs": []
    },
    {
      "cell_type": "markdown",
      "source": [
        "<br/><h2> <b> Creating the model, training the model and making the predictions.</b> </h2><br/>"
      ],
      "metadata": {
        "id": "Jw3bdyRMT62Q"
      }
    },
    {
      "cell_type": "code",
      "source": [
        "# Import svm model\n",
        "from sklearn import svm\n",
        "\n",
        "# Create a svm Classifier\n",
        "classification = svm.SVC(kernel = 'linear')\n",
        "\n",
        "#Train the model using the training sets\n",
        "classfication = classification.fit(X_train, y_train)\n",
        "\n",
        "#Predict the response for test dataset\n",
        "y_pred = classification.predict(X_test)"
      ],
      "metadata": {
        "id": "OwaUVJtwW53H"
      },
      "execution_count": 48,
      "outputs": []
    },
    {
      "cell_type": "markdown",
      "source": [
        "<br/><h2> <b> Finding the accuracy, precision, recall.</b> </h2><br/>"
      ],
      "metadata": {
        "id": "EzZOfi6GUGt2"
      }
    },
    {
      "cell_type": "code",
      "source": [
        "#Import scikit-learn metrics module for accuracy calculation\n",
        "from sklearn import metrics\n",
        "\n",
        "# Model Accuracy: how often is the classifier correct?\n",
        "print(\"Accuracy:\",metrics.accuracy_score(y_test, y_pred))\n",
        "print(\"Precision:\",metrics.precision_score(y_test, y_pred))\n",
        "print(\"Recall:\",metrics.recall_score(y_test, y_pred))"
      ],
      "metadata": {
        "colab": {
          "base_uri": "https://localhost:8080/"
        },
        "id": "E-9ZrixEZR1Q",
        "outputId": "4ad138b5-4f3c-48a5-dbaa-e974341e692d"
      },
      "execution_count": 49,
      "outputs": [
        {
          "output_type": "stream",
          "name": "stdout",
          "text": [
            "Accuracy: 0.9473684210526315\n",
            "Precision: 0.9285714285714286\n",
            "Recall: 0.9848484848484849\n"
          ]
        }
      ]
    }
  ]
}