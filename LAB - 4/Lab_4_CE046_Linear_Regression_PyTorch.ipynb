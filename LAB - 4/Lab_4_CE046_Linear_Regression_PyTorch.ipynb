{
  "nbformat": 4,
  "nbformat_minor": 0,
  "metadata": {
    "colab": {
      "name": "Lab_4_CE046_Linear_Regression_PyTorch.ipynb",
      "provenance": []
    },
    "kernelspec": {
      "name": "python3",
      "display_name": "Python 3"
    },
    "language_info": {
      "name": "python"
    }
  },
  "cells": [
    {
      "cell_type": "markdown",
      "source": [
        "<h1> <b> Lab - 4 </b> </h1>\n",
        "<br>\n",
        "<h3>Linear Regression using PyTorch</h3>\n",
        "<br>"
      ],
      "metadata": {
        "id": "x5XuLABZvuhm"
      }
    },
    {
      "cell_type": "code",
      "execution_count": null,
      "metadata": {
        "id": "We-kVXfkuNJc"
      },
      "outputs": [],
      "source": [
        "# Import necessary libraries\n",
        "import torch\n",
        "import torch.nn as nn\n",
        "import numpy as np\n",
        "import matplotlib.pyplot as plt\n",
        "from torch.autograd import Variable"
      ]
    },
    {
      "cell_type": "markdown",
      "source": [
        "<br/><h2> <b> Declare input features and targets. </b> </h2><br/>"
      ],
      "metadata": {
        "id": "UsCzrMX1v2ZV"
      }
    },
    {
      "cell_type": "code",
      "source": [
        "# Input (temp, rainfall, humidity)\n",
        "inputs = np.array([[73, 67, 43], [91, 88, 64], [87, 134, 58], [102, 43, 37],[69, 96, 70], [73, 67, 43], [91, 88, 64], [87, 134, 58], [102, 43, 37], \n",
        "                   [69,96, 70], [73, 67, 43], [91, 88, 64], [87, 134, 58], [102, 43, 37], [69, 96, 70]], dtype='float32')\n",
        "\n",
        "# Targets (apples, oranges)\n",
        "targets = np.array([[56, 70], [81, 101], [119, 133], [22, 37], [103, 119], [56, 70], [81, 101], [119, 133], [22, 37], [103, 119], \n",
        "                    [56, 70], [81, 101], [119, 133], [22, 37], [103, 119]],dtype='float32')\n",
        "\n",
        "print(\"Inputs: \\n\",  inputs)\n",
        "print(\"\\nTargets: \\n\", targets)"
      ],
      "metadata": {
        "colab": {
          "base_uri": "https://localhost:8080/"
        },
        "id": "un6u__6euN9c",
        "outputId": "a7416ca0-339a-4693-f528-b2852bcdffed"
      },
      "execution_count": null,
      "outputs": [
        {
          "output_type": "stream",
          "name": "stdout",
          "text": [
            "Inputs: \n",
            " [[ 73.  67.  43.]\n",
            " [ 91.  88.  64.]\n",
            " [ 87. 134.  58.]\n",
            " [102.  43.  37.]\n",
            " [ 69.  96.  70.]\n",
            " [ 73.  67.  43.]\n",
            " [ 91.  88.  64.]\n",
            " [ 87. 134.  58.]\n",
            " [102.  43.  37.]\n",
            " [ 69.  96.  70.]\n",
            " [ 73.  67.  43.]\n",
            " [ 91.  88.  64.]\n",
            " [ 87. 134.  58.]\n",
            " [102.  43.  37.]\n",
            " [ 69.  96.  70.]]\n",
            "\n",
            "Targets: \n",
            " [[ 56.  70.]\n",
            " [ 81. 101.]\n",
            " [119. 133.]\n",
            " [ 22.  37.]\n",
            " [103. 119.]\n",
            " [ 56.  70.]\n",
            " [ 81. 101.]\n",
            " [119. 133.]\n",
            " [ 22.  37.]\n",
            " [103. 119.]\n",
            " [ 56.  70.]\n",
            " [ 81. 101.]\n",
            " [119. 133.]\n",
            " [ 22.  37.]\n",
            " [103. 119.]]\n"
          ]
        }
      ]
    },
    {
      "cell_type": "markdown",
      "source": [
        "<br/><h2> <b> Convert inputs and targets to tensors. </b> </h2><br/>"
      ],
      "metadata": {
        "id": "s7KMemqyv44F"
      }
    },
    {
      "cell_type": "code",
      "source": [
        "tensor_inputs = torch.from_numpy(inputs)\n",
        "tensor_targets = torch.from_numpy(targets)\n",
        "\n",
        "print(\"Tensored inputs: \\n\\n\", tensor_inputs)\n",
        "print(\"\\nTensored targets: \\n\\n\", tensor_targets)\n"
      ],
      "metadata": {
        "colab": {
          "base_uri": "https://localhost:8080/"
        },
        "id": "Wu8bfc24uUds",
        "outputId": "8a57f7ea-721a-42d4-e37c-563e4c36fa91"
      },
      "execution_count": null,
      "outputs": [
        {
          "output_type": "stream",
          "name": "stdout",
          "text": [
            "Tensored inputs: \n",
            "\n",
            " tensor([[ 73.,  67.,  43.],\n",
            "        [ 91.,  88.,  64.],\n",
            "        [ 87., 134.,  58.],\n",
            "        [102.,  43.,  37.],\n",
            "        [ 69.,  96.,  70.],\n",
            "        [ 73.,  67.,  43.],\n",
            "        [ 91.,  88.,  64.],\n",
            "        [ 87., 134.,  58.],\n",
            "        [102.,  43.,  37.],\n",
            "        [ 69.,  96.,  70.],\n",
            "        [ 73.,  67.,  43.],\n",
            "        [ 91.,  88.,  64.],\n",
            "        [ 87., 134.,  58.],\n",
            "        [102.,  43.,  37.],\n",
            "        [ 69.,  96.,  70.]])\n",
            "\n",
            "Tensored targets: \n",
            "\n",
            " tensor([[ 56.,  70.],\n",
            "        [ 81., 101.],\n",
            "        [119., 133.],\n",
            "        [ 22.,  37.],\n",
            "        [103., 119.],\n",
            "        [ 56.,  70.],\n",
            "        [ 81., 101.],\n",
            "        [119., 133.],\n",
            "        [ 22.,  37.],\n",
            "        [103., 119.],\n",
            "        [ 56.,  70.],\n",
            "        [ 81., 101.],\n",
            "        [119., 133.],\n",
            "        [ 22.,  37.],\n",
            "        [103., 119.]])\n"
          ]
        }
      ]
    },
    {
      "cell_type": "markdown",
      "source": [
        "<br/><h2> <b> Split the data into training and testing data. </b> </h2><br/>"
      ],
      "metadata": {
        "id": "UZvrP0b-wAaG"
      }
    },
    {
      "cell_type": "code",
      "source": [
        "from sklearn.model_selection import train_test_split\n",
        "inputs_train, inputs_test, targets_train, targets_test = train_test_split(tensor_inputs, tensor_targets, test_size = 0.25, random_state = 46)"
      ],
      "metadata": {
        "id": "lJ4URLQdubg7"
      },
      "execution_count": null,
      "outputs": []
    },
    {
      "cell_type": "markdown",
      "source": [
        "<br/><h2> <b> Create a dataset using inputs and targets.  </b> </h2><br/>"
      ],
      "metadata": {
        "id": "YpvXj0rkwRgG"
      }
    },
    {
      "cell_type": "code",
      "source": [
        "from torch.utils.data import TensorDataset, DataLoader\n",
        "dataset = TensorDataset(inputs_train, targets_train)"
      ],
      "metadata": {
        "id": "kHjtF9OlujVc"
      },
      "execution_count": null,
      "outputs": []
    },
    {
      "cell_type": "markdown",
      "source": [
        "<br/><h2> <b> Convert datasets into DataLoader.  </b> </h2><br/>"
      ],
      "metadata": {
        "id": "h27IOeQDwZDV"
      }
    },
    {
      "cell_type": "code",
      "source": [
        "train_loader = DataLoader(dataset = dataset)"
      ],
      "metadata": {
        "id": "L6pzjh09wW8F"
      },
      "execution_count": null,
      "outputs": []
    },
    {
      "cell_type": "markdown",
      "source": [
        "<br/><h2> <b> Define the linear regression model </b> </h2><br/>"
      ],
      "metadata": {
        "id": "yToudN2Iwke-"
      }
    },
    {
      "cell_type": "code",
      "source": [
        "class LinearRegression(nn.Module):\n",
        "  def __init__(self,input_dim,output_dim):\n",
        "    super(LinearRegression,self).__init__()\n",
        "    self.linear_input = nn.Linear(in_features=input_dim, out_features=256)\n",
        "    self.linear_out = nn.Linear(in_features=256, out_features=output_dim)\n",
        "\n",
        "  \n",
        "  def forward(self,x):\n",
        "    out = self.linear_input(x)\n",
        "    out = self.linear_out(out)\n",
        "    return out"
      ],
      "metadata": {
        "id": "LlW8KjviulWu"
      },
      "execution_count": null,
      "outputs": []
    },
    {
      "cell_type": "code",
      "source": [
        "# Defining the hyperparameters.\n",
        "INPUT_DIMENSION = 3\n",
        "OUTPUT_DIMENSION = 2\n",
        "LR = 0.0001\n",
        "\n",
        "EPOCHS = 200"
      ],
      "metadata": {
        "id": "cf9Rvua9u6FA"
      },
      "execution_count": null,
      "outputs": []
    },
    {
      "cell_type": "code",
      "source": [
        "model = LinearRegression(INPUT_DIMENSION, OUTPUT_DIMENSION)"
      ],
      "metadata": {
        "id": "lQYLNVwju8kO"
      },
      "execution_count": null,
      "outputs": []
    },
    {
      "cell_type": "markdown",
      "source": [
        "<br/><h2> <b> Declare loss function.  </b> </h2><br/>"
      ],
      "metadata": {
        "id": "-C92AXSrwyRj"
      }
    },
    {
      "cell_type": "code",
      "source": [
        "LOSS_FN = nn.MSELoss()"
      ],
      "metadata": {
        "id": "shBWa5GMu-jS"
      },
      "execution_count": null,
      "outputs": []
    },
    {
      "cell_type": "markdown",
      "source": [
        "<br/><h2> <b> Optimizers </b> </h2><br/>"
      ],
      "metadata": {
        "id": "T9YV-mA3w2JY"
      }
    },
    {
      "cell_type": "code",
      "source": [
        "OPTIMIZER = torch.optim.Adam(model.parameters(), lr = LR)"
      ],
      "metadata": {
        "id": "SYev1ZOOw3AE"
      },
      "execution_count": null,
      "outputs": []
    },
    {
      "cell_type": "markdown",
      "source": [
        "<br/><h2> <b> Fit the data into model  </b> </h2><br/>"
      ],
      "metadata": {
        "id": "rifJ9idyw7km"
      }
    },
    {
      "cell_type": "code",
      "source": [
        "def fit(lr, EPOCHS, LOSS_FN, OPTIMIZER, loader):\n",
        "  converted_losses = []\n",
        "  all_losses = []\n",
        "  for i in range(EPOCHS):\n",
        "    batch_losses = []\n",
        "    for idx,(X,Y) in enumerate(loader):\n",
        "      features = Variable(X).float()\n",
        "      targets = Variable(Y).float()\n",
        "\n",
        "      #  Forward pass\n",
        "      predictions = lr(features)\n",
        "      loss = LOSS_FN(predictions,targets)\n",
        "\n",
        "      OPTIMIZER.zero_grad()\n",
        "      loss.backward()\n",
        "      OPTIMIZER.step()\n",
        "      batch_losses.append(loss.data)\n",
        "      all_losses.append(loss.data)\n",
        "      # print(loss.data)\n",
        "    mbl = np.mean(np.sqrt(batch_losses)).round(3)\n",
        "    converted_losses.append(mbl)\n",
        "    if i%5==0:\n",
        "      print(\"Epoch [{}/{}], Batch loss: {}\".format(i, EPOCHS, mbl))\n",
        "  return converted_losses\n",
        "  "
      ],
      "metadata": {
        "id": "OEtGYRe7vAfj"
      },
      "execution_count": null,
      "outputs": []
    },
    {
      "cell_type": "code",
      "source": [
        "losses = fit(model, EPOCHS, LOSS_FN, OPTIMIZER, train_loader)"
      ],
      "metadata": {
        "colab": {
          "base_uri": "https://localhost:8080/"
        },
        "id": "15qpn6navCAy",
        "outputId": "f38a2307-775c-4692-aa87-85aa45cf4aa9"
      },
      "execution_count": null,
      "outputs": [
        {
          "output_type": "stream",
          "name": "stdout",
          "text": [
            "Epoch [0/200], Batch loss: 92.81300354003906\n",
            "Epoch [5/200], Batch loss: 52.11899948120117\n",
            "Epoch [10/200], Batch loss: 34.13800048828125\n",
            "Epoch [15/200], Batch loss: 24.530000686645508\n",
            "Epoch [20/200], Batch loss: 19.836000442504883\n",
            "Epoch [25/200], Batch loss: 17.070999145507812\n",
            "Epoch [30/200], Batch loss: 14.87399959564209\n",
            "Epoch [35/200], Batch loss: 12.963000297546387\n",
            "Epoch [40/200], Batch loss: 11.253999710083008\n",
            "Epoch [45/200], Batch loss: 9.720999717712402\n",
            "Epoch [50/200], Batch loss: 8.354999542236328\n",
            "Epoch [55/200], Batch loss: 7.151000022888184\n",
            "Epoch [60/200], Batch loss: 6.377999782562256\n",
            "Epoch [65/200], Batch loss: 5.827000141143799\n",
            "Epoch [70/200], Batch loss: 5.340000152587891\n",
            "Epoch [75/200], Batch loss: 4.9120001792907715\n",
            "Epoch [80/200], Batch loss: 4.535999774932861\n",
            "Epoch [85/200], Batch loss: 4.206999778747559\n",
            "Epoch [90/200], Batch loss: 3.9179999828338623\n",
            "Epoch [95/200], Batch loss: 3.6640000343322754\n",
            "Epoch [100/200], Batch loss: 3.440000057220459\n",
            "Epoch [105/200], Batch loss: 3.242000102996826\n",
            "Epoch [110/200], Batch loss: 3.065999984741211\n",
            "Epoch [115/200], Batch loss: 2.9070000648498535\n",
            "Epoch [120/200], Batch loss: 2.76200008392334\n",
            "Epoch [125/200], Batch loss: 2.630000114440918\n",
            "Epoch [130/200], Batch loss: 2.507999897003174\n",
            "Epoch [135/200], Batch loss: 2.3940000534057617\n",
            "Epoch [140/200], Batch loss: 2.2869999408721924\n",
            "Epoch [145/200], Batch loss: 2.184999942779541\n",
            "Epoch [150/200], Batch loss: 2.0889999866485596\n",
            "Epoch [155/200], Batch loss: 1.996000051498413\n",
            "Epoch [160/200], Batch loss: 1.9079999923706055\n",
            "Epoch [165/200], Batch loss: 1.8229999542236328\n",
            "Epoch [170/200], Batch loss: 1.7410000562667847\n",
            "Epoch [175/200], Batch loss: 1.6619999408721924\n",
            "Epoch [180/200], Batch loss: 1.5859999656677246\n",
            "Epoch [185/200], Batch loss: 1.5130000114440918\n",
            "Epoch [190/200], Batch loss: 1.4429999589920044\n",
            "Epoch [195/200], Batch loss: 1.3760000467300415\n"
          ]
        }
      ]
    },
    {
      "cell_type": "code",
      "source": [
        "plt.plot(losses)"
      ],
      "metadata": {
        "colab": {
          "base_uri": "https://localhost:8080/",
          "height": 283
        },
        "id": "oVQXw2-FvDwG",
        "outputId": "5d69bf78-9a86-455b-81fe-03d1e790ba4b"
      },
      "execution_count": null,
      "outputs": [
        {
          "output_type": "execute_result",
          "data": {
            "text/plain": [
              "[<matplotlib.lines.Line2D at 0x7f96bf11c4d0>]"
            ]
          },
          "metadata": {},
          "execution_count": 61
        },
        {
          "output_type": "display_data",
          "data": {
            "image/png": "[encoded data removed]",
            "text/plain": [
              "<Figure size 432x288 with 1 Axes>"
            ]
          },
          "metadata": {
            "needs_background": "light"
          }
        }
      ]
    },
    {
      "cell_type": "markdown",
      "source": [
        "<br/><h2> <b> Make prediction.  </b> </h2><br/>"
      ],
      "metadata": {
        "id": "oDX3Sd8YxZ7P"
      }
    },
    {
      "cell_type": "code",
      "source": [
        "target_pred = model(inputs_test)\n",
        "\n",
        "print(\"Predicted target: \", target_pred)\n",
        "\n",
        "print(\"\\n\\nActual targets: \", targets_test)"
      ],
      "metadata": {
        "colab": {
          "base_uri": "https://localhost:8080/"
        },
        "id": "PDnIwsorvMPG",
        "outputId": "ec0ffe34-ae3a-41d4-f70e-c363e3ab3ec7"
      },
      "execution_count": null,
      "outputs": [
        {
          "output_type": "stream",
          "name": "stdout",
          "text": [
            "Predicted target:  tensor([[ 82.3553,  99.3439],\n",
            "        [ 82.3553,  99.3439],\n",
            "        [119.4339, 135.8196],\n",
            "        [ 57.4623,  70.5100]], grad_fn=<AddmmBackward0>)\n",
            "\n",
            "\n",
            "Actual targets:  tensor([[ 81., 101.],\n",
            "        [ 81., 101.],\n",
            "        [119., 133.],\n",
            "        [ 56.,  70.]])\n"
          ]
        }
      ]
    },
    {
      "cell_type": "code",
      "source": [
        "test_loss = LOSS_FN(target_pred, targets_test)\n",
        "print(\"Test Loss\",test_loss.detach().numpy())"
      ],
      "metadata": {
        "colab": {
          "base_uri": "https://localhost:8080/"
        },
        "id": "ovZreb2PvMre",
        "outputId": "cd4ef270-27c0-4e97-a53a-2ecbc9af98d2"
      },
      "execution_count": null,
      "outputs": [
        {
          "output_type": "stream",
          "name": "stdout",
          "text": [
            "Test Loss 2.4618814\n"
          ]
        }
      ]
    }
  ]
}