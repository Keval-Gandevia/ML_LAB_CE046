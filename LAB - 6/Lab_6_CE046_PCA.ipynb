{
  "nbformat": 4,
  "nbformat_minor": 0,
  "metadata": {
    "colab": {
      "name": "Lab_6_CE046_PCA.ipynb",
      "provenance": [],
      "collapsed_sections": []
    },
    "kernelspec": {
      "name": "python3",
      "display_name": "Python 3"
    },
    "language_info": {
      "name": "python"
    }
  },
  "cells": [
    {
      "cell_type": "markdown",
      "source": [
        "<h1> <b> Lab - 6 </b> </h1>\n",
        "<h3>PCA</h3>\n",
        "<br>"
      ],
      "metadata": {
        "id": "f33YuIIwr4KR"
      }
    },
    {
      "cell_type": "code",
      "execution_count": 1,
      "metadata": {
        "id": "IvvHRy8X5zqL"
      },
      "outputs": [],
      "source": [
        "# Linear algebra library\n",
        "import numpy as np \n",
        "\n",
        "# library for visualization\n",
        "import matplotlib.pyplot as plt\n",
        "\n",
        "# PCA library\n",
        "from sklearn.decomposition import PCA\n",
        "\n",
        "# Data frame library\n",
        "import pandas as pd\n",
        "\n",
        "# Library for math functions\n",
        "import math \n",
        "import random"
      ]
    },
    {
      "cell_type": "markdown",
      "source": [
        "<br/><h2> <b> Taking random numbers x and y. Making them correlated to each other.</b> </h2><br/>"
      ],
      "metadata": {
        "id": "G5hAngfFsRCj"
      }
    },
    {
      "cell_type": "code",
      "source": [
        "# The amount of the correlation\n",
        "n = 1 \n",
        "\n",
        "# Generate 1000 samples from a uniform random variable\n",
        "x = np.random.uniform(1, 2, 1000) \n",
        "\n",
        "# Make y = n * x\n",
        "y = x.copy() * n "
      ],
      "metadata": {
        "id": "Z0_6zlMs6YeE"
      },
      "execution_count": 2,
      "outputs": []
    },
    {
      "cell_type": "markdown",
      "source": [
        "<br/><h2> <b> PCA works better if data is centered. So, we are removing mean from the data. </b> </h2><br/>"
      ],
      "metadata": {
        "id": "9tTIjgYIsy0g"
      }
    },
    {
      "cell_type": "code",
      "source": [
        "# Center x. Remove its mean\n",
        "x = x - np.mean(x) \n",
        "\n",
        "# Center y. Remove its mean\n",
        "y = y - np.mean(y) "
      ],
      "metadata": {
        "id": "UgvQ3qmXtEQs"
      },
      "execution_count": 3,
      "outputs": []
    },
    {
      "cell_type": "markdown",
      "source": [
        "<br/><h2> <b> Create a data frame using x and y. Plot the graph of the original dataset.</b> </h2><br/>"
      ],
      "metadata": {
        "id": "L0k3YHvDtNQm"
      }
    },
    {
      "cell_type": "code",
      "source": [
        "# Create a data frame with x and y\n",
        "data = pd.DataFrame({'x': x, 'y': y}) \n",
        "\n",
        "# Plot the original correlated data in blue\n",
        "plt.scatter(data.x, data.y) "
      ],
      "metadata": {
        "colab": {
          "base_uri": "https://localhost:8080/",
          "height": 283
        },
        "id": "HrydjwCptZN3",
        "outputId": "d38eed52-59ed-49e6-9953-0b7d967134b3"
      },
      "execution_count": 4,
      "outputs": [
        {
          "output_type": "execute_result",
          "data": {
            "text/plain": [
              "<matplotlib.collections.PathCollection at 0x7f76cb5f8710>"
            ]
          },
          "metadata": {},
          "execution_count": 4
        },
        {
          "output_type": "display_data",
          "data": {
            "image/png": "[encoded data removed]",
            "text/plain": [
              "<Figure size 432x288 with 1 Axes>"
            ]
          },
          "metadata": {
            "needs_background": "light"
          }
        }
      ]
    },
    {
      "cell_type": "markdown",
      "source": [
        "<br/><h2> <b> Instantiate a PCA. Choosing to get 2 output variables. </b> </h2><br/>"
      ],
      "metadata": {
        "id": "xL21zvEUv0aH"
      }
    },
    {
      "cell_type": "code",
      "source": [
        "pca = PCA(n_components = 2)"
      ],
      "metadata": {
        "id": "AFZipQq_wJE7"
      },
      "execution_count": 5,
      "outputs": []
    },
    {
      "cell_type": "markdown",
      "source": [
        "<br/><h2> <b> Creating a transformation model for this data. </b> </h2><br/>"
      ],
      "metadata": {
        "id": "2ftqlMo_wT_F"
      }
    },
    {
      "cell_type": "code",
      "source": [
        "pcaTr = pca.fit(data)"
      ],
      "metadata": {
        "id": "j-pKDaxAwZzN"
      },
      "execution_count": 6,
      "outputs": []
    },
    {
      "cell_type": "markdown",
      "source": [
        "<br/><h2> <b> Transform the data base on the rotation matrix of pcaTr. </b> </h2><br/>"
      ],
      "metadata": {
        "id": "wpJGaEoiwqzP"
      }
    },
    {
      "cell_type": "code",
      "source": [
        "rotatedData = pcaTr.transform(data)"
      ],
      "metadata": {
        "id": "NYFAMonJwx7x"
      },
      "execution_count": 7,
      "outputs": []
    },
    {
      "cell_type": "markdown",
      "source": [
        "<br/><h2> <b> Creating a data frame with new variables naming them as PC1 and PC2. </b> </h2><br/>"
      ],
      "metadata": {
        "id": "pcVsP1Qcw03D"
      }
    },
    {
      "cell_type": "code",
      "source": [
        "dataPCA = pd.DataFrame(data = rotatedData, columns = ['PC1', 'PC2'])"
      ],
      "metadata": {
        "id": "gtaDlsXhwz8w"
      },
      "execution_count": 8,
      "outputs": []
    },
    {
      "cell_type": "markdown",
      "source": [
        "<br/><h2> <b> Plot the transformed data in orange. </b> </h2><br/>"
      ],
      "metadata": {
        "id": "ajPzkcuNxL9P"
      }
    },
    {
      "cell_type": "code",
      "source": [
        "# Plot the original correlated data in blue\n",
        "plt.scatter(data.x, data.y)\n",
        "\n",
        "# plot the transformed data in orange\n",
        "plt.scatter(dataPCA.PC1, dataPCA.PC2)\n",
        "plt.show()"
      ],
      "metadata": {
        "colab": {
          "base_uri": "https://localhost:8080/",
          "height": 265
        },
        "id": "tzA3oKcdxHlZ",
        "outputId": "8afb235e-ef87-4d56-d872-833595c9b007"
      },
      "execution_count": 9,
      "outputs": [
        {
          "output_type": "display_data",
          "data": {
            "image/png": "[encoded data removed]",
            "text/plain": [
              "<Figure size 432x288 with 1 Axes>"
            ]
          },
          "metadata": {
            "needs_background": "light"
          }
        }
      ]
    },
    {
      "cell_type": "markdown",
      "source": [
        "<br/><h2> <b> Finding the Eigenvectors and Eigenvalues. </b> </h2><br/>"
      ],
      "metadata": {
        "id": "QRUZJhVmx-Ev"
      }
    },
    {
      "cell_type": "code",
      "source": [
        "print('Eigenvectors or principal component: First row must be in the direction of [1, n]')\n",
        "print(pcaTr.components_)\n",
        "print('\\nEigenvalues or explained variance')\n",
        "print(pcaTr.explained_variance_)"
      ],
      "metadata": {
        "colab": {
          "base_uri": "https://localhost:8080/"
        },
        "id": "iozCApFCGrJa",
        "outputId": "bdc77294-38b1-4a11-e83c-f1a87fe836d0"
      },
      "execution_count": 11,
      "outputs": [
        {
          "output_type": "stream",
          "name": "stdout",
          "text": [
            "Eigenvectors or principal component: First row must be in the direction of [1, n]\n",
            "[[ 0.70710678  0.70710678]\n",
            " [ 0.70710678 -0.70710678]]\n",
            "\n",
            "Eigenvalues or explained variance\n",
            "[1.66886270e-01 1.85406818e-33]\n"
          ]
        }
      ]
    },
    {
      "cell_type": "markdown",
      "source": [
        "<br/><h2> <b> Creating a random variables with desired variances. </b> </h2><br/>"
      ],
      "metadata": {
        "id": "_S5vdo0zzdWy"
      }
    },
    {
      "cell_type": "code",
      "source": [
        "import matplotlib.lines as mlines\n",
        "import matplotlib.transforms as mtransforms\n",
        "\n",
        "random.seed(100)\n",
        "\n",
        "# The desired standard deviation of our first random variable\n",
        "std1 = 1 \n",
        "\n",
        "# The desired standard deviation of our second random variable\n",
        "std2 = 0.333\n",
        "\n",
        "# Get 1000 samples from x ~ N(0, std1)\n",
        "x = np.random.normal(0, std1, 1000) \n",
        "\n",
        "# Get 1000 samples from y ~ N(0, std2)\n",
        "y = np.random.normal(0, std2, 1000) "
      ],
      "metadata": {
        "id": "otmBW1teG-H8"
      },
      "execution_count": 12,
      "outputs": []
    },
    {
      "cell_type": "markdown",
      "source": [
        "<br/><h2> <b> PCA works better if data is centered. So, we are removing mean from the data. </b> </h2><br/>"
      ],
      "metadata": {
        "id": "_YDNQNf1GlVT"
      }
    },
    {
      "cell_type": "code",
      "source": [
        "# Center x\n",
        "x = x - np.mean(x)\n",
        "\n",
        "# Center y\n",
        "y = y - np.mean(y) "
      ],
      "metadata": {
        "id": "CgQl1mVTGsst"
      },
      "execution_count": 13,
      "outputs": []
    },
    {
      "cell_type": "markdown",
      "source": [
        "<br/><h2> <b> Defining a pair of dependent variables with desired amount of covariance. </b> </h2><br/>"
      ],
      "metadata": {
        "id": "ZdwMRGewG1mi"
      }
    },
    {
      "cell_type": "code",
      "source": [
        "# Magnitude of covariance.\n",
        "n = 1 \n",
        "\n",
        "# Convert the covariance to and angle\n",
        "angle = np.arctan(1 / n)\n",
        " \n",
        "print('angle: ', angle * 180 / math.pi)"
      ],
      "metadata": {
        "colab": {
          "base_uri": "https://localhost:8080/"
        },
        "id": "LEPKICFiHAAL",
        "outputId": "38c20c06-750b-4d33-f55e-4d4007b9ea09"
      },
      "execution_count": 14,
      "outputs": [
        {
          "output_type": "stream",
          "name": "stdout",
          "text": [
            "angle:  45.0\n"
          ]
        }
      ]
    },
    {
      "cell_type": "markdown",
      "source": [
        "<br/><h2> <b> Creating a rotation matrix using the given angle. </b> </h2><br/>"
      ],
      "metadata": {
        "id": "Qk2wM1bLHIvZ"
      }
    },
    {
      "cell_type": "code",
      "source": [
        "rotationMatrix = np.array([[np.cos(angle), np.sin(angle)],\n",
        "[-np.sin(angle), np.cos(angle)]])\n",
        "\n",
        "print('rotationMatrix')\n",
        "print(rotationMatrix)"
      ],
      "metadata": {
        "colab": {
          "base_uri": "https://localhost:8080/"
        },
        "id": "U6zfWHTKHCXX",
        "outputId": "25265f0d-3357-4e56-f955-ae37faa06a2c"
      },
      "execution_count": 15,
      "outputs": [
        {
          "output_type": "stream",
          "name": "stdout",
          "text": [
            "rotationMatrix\n",
            "[[ 0.70710678  0.70710678]\n",
            " [-0.70710678  0.70710678]]\n"
          ]
        }
      ]
    },
    {
      "cell_type": "markdown",
      "source": [
        "<br/><h2> <b> Creating a matrix with columns x and y. </b> </h2><br/>"
      ],
      "metadata": {
        "id": "bnYsjdLAHeBp"
      }
    },
    {
      "cell_type": "code",
      "source": [
        "xy = np.concatenate(([x] , [y]), axis=0).T "
      ],
      "metadata": {
        "id": "TrrlvzHjHQ6F"
      },
      "execution_count": 16,
      "outputs": []
    },
    {
      "cell_type": "markdown",
      "source": [
        "<br/><h2> <b> Transforming the data using the rotation matrix. Plotting the graph of rotated data. </b> </h2><br/>"
      ],
      "metadata": {
        "id": "lOM5T8FOHpGC"
      }
    },
    {
      "cell_type": "code",
      "source": [
        "data = np.dot(xy, rotationMatrix)\n",
        "\n",
        "# Print the rotated data\n",
        "plt.scatter(data[:,0], data[:,1])\n",
        "plt.show()"
      ],
      "metadata": {
        "colab": {
          "base_uri": "https://localhost:8080/",
          "height": 265
        },
        "id": "mFj0CfwXHoEj",
        "outputId": "f5f31b00-cff3-4ddb-f072-df013b25d3d5"
      },
      "execution_count": 17,
      "outputs": [
        {
          "output_type": "display_data",
          "data": {
            "image/png": "[encoded data removed]",
            "text/plain": [
              "<Figure size 432x288 with 1 Axes>"
            ]
          },
          "metadata": {
            "needs_background": "light"
          }
        }
      ]
    },
    {
      "cell_type": "markdown",
      "source": [
        "<br/><h2> <b> Applying PCA and finding the Eigenvecgtors and Eigenvalues. </b> </h2><br/>"
      ],
      "metadata": {
        "id": "ABvHyUkXIC8i"
      }
    },
    {
      "cell_type": "code",
      "source": [
        "# Instantiate a PCA. Choose to get 2 output variables\n",
        "pca = PCA(n_components = 2)\n",
        "\n",
        "# Create the transformation model for this data. Internally it gets the rotation\n",
        "# matrix and the explained variance\n",
        "pcaTr = pca.fit(data)\n",
        "\n",
        "# Create an array with the transformed data\n",
        "dataPCA = pcaTr.transform(data)\n",
        "print('Eigenvectors or principal component: First row must be in the direction of [1, n]')\n",
        "print(pcaTr.components_)\n",
        "print('\\nEigenvalues or explained variance')\n",
        "print(pcaTr.explained_variance_)"
      ],
      "metadata": {
        "colab": {
          "base_uri": "https://localhost:8080/"
        },
        "id": "uHKpDd7UIAx8",
        "outputId": "9dda11c0-e9bc-40e7-fc90-1774286fe6a6"
      },
      "execution_count": 18,
      "outputs": [
        {
          "output_type": "stream",
          "name": "stdout",
          "text": [
            "Eigenvectors or principal component: First row must be in the direction of [1, n]\n",
            "[[-0.70906821 -0.7051399 ]\n",
            " [-0.7051399   0.70906821]]\n",
            "\n",
            "Eigenvalues or explained variance\n",
            "[1.01224813 0.11891726]\n"
          ]
        }
      ]
    },
    {
      "cell_type": "markdown",
      "source": [
        "<br/><h2> <b> Plot the graph of original data in blue and rotated data in orange. </b> </h2><br/>"
      ],
      "metadata": {
        "id": "STNU4KBmIdfR"
      }
    },
    {
      "cell_type": "code",
      "source": [
        "# Print the original data in blue\n",
        "plt.scatter(data[:,0], data[:,1])\n",
        "\n",
        "# Print the rotated data\n",
        "plt.scatter(dataPCA[:,0], dataPCA[:,1])\n",
        "\n",
        "# Plot the first component axe. Use the explained variance to scale the vector\n",
        "plt.plot([0, rotationMatrix[0][0] * std1 * 3], [0, rotationMatrix[0][1] * std1 * 3], 'k', color='red')\n",
        "\n",
        "# Plot the second component axe. Use the explained variance to scale the vector\n",
        "plt.plot([0, rotationMatrix[1][0] * std2 * 3], [0, rotationMatrix[1][1] * std2 * 3], 'k', color='green')\n",
        "plt.show()"
      ],
      "metadata": {
        "colab": {
          "base_uri": "https://localhost:8080/",
          "height": 265
        },
        "id": "xZ2urywkIWuR",
        "outputId": "e92fc5a4-cc1d-41c1-f839-48435ec0f59a"
      },
      "execution_count": 19,
      "outputs": [
        {
          "output_type": "display_data",
          "data": {
            "image/png": "[encoded data removed]",
            "text/plain": [
              "<Figure size 432x288 with 1 Axes>"
            ]
          },
          "metadata": {
            "needs_background": "light"
          }
        }
      ]
    },
    {
      "cell_type": "markdown",
      "source": [
        "<br/><h2> <b> Dimensionality Reduction. </b> </h2><br/>"
      ],
      "metadata": {
        "id": "dioNpi5cI3Bd"
      }
    },
    {
      "cell_type": "code",
      "source": [
        "nPoints = len(data)\n",
        "\n",
        "# Plot the original data in blue\n",
        "plt.scatter(data[:,0], data[:,1])\n",
        "\n",
        "#Plot the projection along the first component in orange\n",
        "plt.scatter(data[:,0], np.zeros(nPoints))\n",
        "\n",
        "#Plot the projection along the second component in green\n",
        "plt.scatter(np.zeros(nPoints), data[:,1])\n",
        "plt.show()"
      ],
      "metadata": {
        "colab": {
          "base_uri": "https://localhost:8080/",
          "height": 265
        },
        "id": "-2SrZXQeIx0s",
        "outputId": "426018c6-7166-4767-e046-125d76300de7"
      },
      "execution_count": 20,
      "outputs": [
        {
          "output_type": "display_data",
          "data": {
            "image/png": "[encoded data removed]",
            "text/plain": [
              "<Figure size 432x288 with 1 Axes>"
            ]
          },
          "metadata": {
            "needs_background": "light"
          }
        }
      ]
    }
  ]
}