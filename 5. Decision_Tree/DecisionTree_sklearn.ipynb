{
  "nbformat": 4,
  "nbformat_minor": 0,
  "metadata": {
    "colab": {
      "name": "Lab_5_CE046_DecisionTree_sklearn.ipynb",
      "provenance": [],
      "collapsed_sections": [
        "R7NkwLtvrWCr",
        "a9Veez_lr0tb"
      ]
    },
    "kernelspec": {
      "name": "python3",
      "display_name": "Python 3"
    },
    "language_info": {
      "name": "python"
    }
  },
  "cells": [
    {
      "cell_type": "markdown",
      "source": [
        "<h1> <b> Lab - 5 </b> </h1>\n",
        "<br>\n",
        "<h3>Decision Tree using sklearn</h3>\n",
        "<br>"
      ],
      "metadata": {
        "id": "M7qP1K3Oz9vr"
      }
    },
    {
      "cell_type": "code",
      "execution_count": 2,
      "metadata": {
        "id": "QzNlVm6NcqGE"
      },
      "outputs": [],
      "source": [
        "from sklearn import preprocessing\n",
        "from sklearn.tree import DecisionTreeClassifier\n",
        "import pandas as pd\n",
        "import numpy as np"
      ]
    },
    {
      "cell_type": "markdown",
      "source": [
        "<br/><h2> <b> Declare inputs and targets </b> </h2><br/>"
      ],
      "metadata": {
        "id": "GEDVuzmh02-y"
      }
    },
    {
      "cell_type": "code",
      "source": [
        "#Predictor variables\n",
        "Outlook = ['Rainy', 'Rainy', 'Overcast', 'Sunny', 'Sunny', 'Sunny','Overcast', 'Rainy', 'Rainy', 'Sunny', 'Rainy','Overcast', 'Overcast', 'Sunny']\n",
        "\n",
        "Temperature = ['Hot', 'Hot', 'Hot', 'Mild', 'Cool', 'Cool', 'Cool', 'Mild', 'Cool', 'Mild', 'Mild', 'Mild', 'Hot', 'Mild']\n",
        "\n",
        "Humidity = ['High', 'High', 'High', 'High', 'Normal', 'Normal', 'Normal', 'High', 'Normal', 'Normal', 'Normal', 'High', 'Normal', 'High']\n",
        "\n",
        "Wind = ['False', 'True', 'False', 'False', 'False', 'True', 'True', 'False', 'False', 'False', 'True', 'True', 'False', 'True']\n",
        "\n",
        "#Class Label:\n",
        "Play = ['No', 'No', 'Yes', 'Yes', 'Yes', 'No', 'Yes', 'No', 'Yes', 'Yes', 'Yes', 'Yes', 'Yes', 'No']"
      ],
      "metadata": {
        "id": "DL2_3fekdfLU"
      },
      "execution_count": 3,
      "outputs": []
    },
    {
      "cell_type": "markdown",
      "source": [
        "<br/><h2> <b> Perform label encoding  </b> </h2><br/>"
      ],
      "metadata": {
        "id": "co9NXKGX08BF"
      }
    },
    {
      "cell_type": "code",
      "source": [
        "#creating labelEncoder\n",
        "le = preprocessing.LabelEncoder()"
      ],
      "metadata": {
        "id": "eDeriWcKd4tN"
      },
      "execution_count": 4,
      "outputs": []
    },
    {
      "cell_type": "code",
      "source": [
        "# Converting string labels into numbers.\n",
        "Outlook_encoded = le.fit_transform(Outlook)\n",
        "Outlook_name_mapping = dict(zip(le.classes_, le.transform(le.classes_)))\n",
        "print(\"Outlook mapping:\",Outlook_name_mapping)"
      ],
      "metadata": {
        "colab": {
          "base_uri": "https://localhost:8080/"
        },
        "id": "6RbZQQgKeAPX",
        "outputId": "c46f0246-2fc0-4c17-ada2-e2616523b8f1"
      },
      "execution_count": 5,
      "outputs": [
        {
          "output_type": "stream",
          "name": "stdout",
          "text": [
            "Outlook mapping: {'Overcast': 0, 'Rainy': 1, 'Sunny': 2}\n"
          ]
        }
      ]
    },
    {
      "cell_type": "code",
      "source": [
        "Temperature_encoded = le.fit_transform(Temperature)\n",
        "Temperature_name_mapping = dict(zip(le.classes_, le.transform(le.classes_)))\n",
        "print(\"Temperature mapping:\", Temperature_name_mapping)"
      ],
      "metadata": {
        "colab": {
          "base_uri": "https://localhost:8080/"
        },
        "id": "uxRH0ihreP0x",
        "outputId": "7c58150a-c17e-4cfe-ff25-2475ea67596c"
      },
      "execution_count": 6,
      "outputs": [
        {
          "output_type": "stream",
          "name": "stdout",
          "text": [
            "Temperature mapping: {'Cool': 0, 'Hot': 1, 'Mild': 2}\n"
          ]
        }
      ]
    },
    {
      "cell_type": "code",
      "source": [
        "Humidity_encoded = le.fit_transform(Humidity)\n",
        "Humidity_name_mapping = dict(zip(le.classes_, le.transform(le.classes_)))\n",
        "print(\"Humidity mapping:\",Humidity_name_mapping)"
      ],
      "metadata": {
        "colab": {
          "base_uri": "https://localhost:8080/"
        },
        "id": "LCE_E32Ler8Z",
        "outputId": "7921425a-2355-42ac-e2a2-bb9ea72c9909"
      },
      "execution_count": 7,
      "outputs": [
        {
          "output_type": "stream",
          "name": "stdout",
          "text": [
            "Humidity mapping: {'High': 0, 'Normal': 1}\n"
          ]
        }
      ]
    },
    {
      "cell_type": "code",
      "source": [
        "Wind_encoded = le.fit_transform(Wind)\n",
        "Wind_name_mapping = dict(zip(le.classes_, le.transform(le.classes_)))\n",
        "print(\"Wind mapping:\",Wind_name_mapping)"
      ],
      "metadata": {
        "colab": {
          "base_uri": "https://localhost:8080/"
        },
        "id": "0G4vsrz3exDV",
        "outputId": "407a467f-e54d-4bb2-c9b2-604a9e3f7f4b"
      },
      "execution_count": 8,
      "outputs": [
        {
          "output_type": "stream",
          "name": "stdout",
          "text": [
            "Wind mapping: {'False': 0, 'True': 1}\n"
          ]
        }
      ]
    },
    {
      "cell_type": "code",
      "source": [
        "Play_encoded = le.fit_transform(Play)\n",
        "Play_name_mapping = dict(zip(le.classes_, le.transform(le.classes_)))\n",
        "print(\"Play mapping:\",Play_name_mapping)"
      ],
      "metadata": {
        "colab": {
          "base_uri": "https://localhost:8080/"
        },
        "id": "Hdf9V7H6e0bi",
        "outputId": "99b47fe5-bc55-41a9-b7cf-59bcda343e74"
      },
      "execution_count": 9,
      "outputs": [
        {
          "output_type": "stream",
          "name": "stdout",
          "text": [
            "Play mapping: {'No': 0, 'Yes': 1}\n"
          ]
        }
      ]
    },
    {
      "cell_type": "code",
      "source": [
        "# print all encoded features values\n",
        "\n",
        "print(\"Weather:\" ,Outlook_encoded)\n",
        "print(\"Temerature:\" ,Temperature_encoded)\n",
        "print(\"Humidity:\" ,Humidity_encoded)\n",
        "print(\"Wind:\" ,Wind_encoded)\n",
        "print(\"Play:\" ,Play_encoded)"
      ],
      "metadata": {
        "colab": {
          "base_uri": "https://localhost:8080/"
        },
        "id": "7ZgAszfKe1IO",
        "outputId": "787280af-6018-42b6-8ea7-1201e55d853e"
      },
      "execution_count": 10,
      "outputs": [
        {
          "output_type": "stream",
          "name": "stdout",
          "text": [
            "Weather: [1 1 0 2 2 2 0 1 1 2 1 0 0 2]\n",
            "Temerature: [1 1 1 2 0 0 0 2 0 2 2 2 1 2]\n",
            "Humidity: [0 0 0 0 1 1 1 0 1 1 1 0 1 0]\n",
            "Wind: [0 1 0 0 0 1 1 0 0 0 1 1 0 1]\n",
            "Play: [0 0 1 1 1 0 1 0 1 1 1 1 1 0]\n"
          ]
        }
      ]
    },
    {
      "cell_type": "markdown",
      "source": [
        "<br/><h2> <b> Prepare dataset  </b> </h2><br/>"
      ],
      "metadata": {
        "id": "Yj2bwmTt1FMi"
      }
    },
    {
      "cell_type": "code",
      "source": [
        "# merge dataset\n",
        "\n",
        "Outlook_encoded = Outlook_encoded.reshape(14,1)\n",
        "Temperature_encoded = Temperature_encoded.reshape(14,1)\n",
        "Humidity_encoded = Humidity_encoded.reshape(14,1)\n",
        "Wind_encoded = Wind_encoded.reshape(14,1)\n",
        "\n",
        "\n",
        "features = np.concatenate((Outlook_encoded, Temperature_encoded, Humidity_encoded, Wind_encoded), axis=1)\n",
        "print(\"Features: \\n\", features)\n",
        "\n",
        "\n",
        "targets = Play_encoded\n",
        "print(\"\\nTargets: \\n\", targets)"
      ],
      "metadata": {
        "colab": {
          "base_uri": "https://localhost:8080/"
        },
        "id": "0vhnjH-He8de",
        "outputId": "a067d82a-500f-4a96-f6cd-9dda6b867613"
      },
      "execution_count": 11,
      "outputs": [
        {
          "output_type": "stream",
          "name": "stdout",
          "text": [
            "Features: \n",
            " [[1 1 0 0]\n",
            " [1 1 0 1]\n",
            " [0 1 0 0]\n",
            " [2 2 0 0]\n",
            " [2 0 1 0]\n",
            " [2 0 1 1]\n",
            " [0 0 1 1]\n",
            " [1 2 0 0]\n",
            " [1 0 1 0]\n",
            " [2 2 1 0]\n",
            " [1 2 1 1]\n",
            " [0 2 0 1]\n",
            " [0 1 1 0]\n",
            " [2 2 0 1]]\n",
            "\n",
            "Targets: \n",
            " [0 0 1 1 1 0 1 0 1 1 1 1 1 0]\n"
          ]
        }
      ]
    },
    {
      "cell_type": "markdown",
      "source": [
        "<br/><h2> <b> Split the data into training and testing data  </b> </h2><br/>"
      ],
      "metadata": {
        "id": "gYXjXI351LGK"
      }
    },
    {
      "cell_type": "code",
      "source": [
        "from sklearn.model_selection import train_test_split\n",
        "\n",
        "# Splitting the dataset into train and test\n",
        "inputs_train, inputs_test, targets_train, targets_test = train_test_split( \n",
        "    features, targets, test_size = 0.2, random_state = 46)\n",
        "\n",
        "\n",
        "print(\"Training Inputs: \\n\", inputs_train)\n",
        "print(\"\\nTesting Inputs: \\n\", inputs_test)\n",
        "print(\"\\nTraining Targets: \\n\", targets_train)\n",
        "print(\"\\nTesting Targets: \\n\", targets_test)\n",
        "\n"
      ],
      "metadata": {
        "colab": {
          "base_uri": "https://localhost:8080/"
        },
        "id": "yjC1wPZBls-r",
        "outputId": "34930d5d-0040-4982-dec4-b37b0fbbce6a"
      },
      "execution_count": 12,
      "outputs": [
        {
          "output_type": "stream",
          "name": "stdout",
          "text": [
            "Training Inputs: \n",
            " [[1 1 0 0]\n",
            " [1 2 0 0]\n",
            " [1 2 1 1]\n",
            " [0 1 1 0]\n",
            " [2 2 1 0]\n",
            " [0 1 0 0]\n",
            " [2 2 0 0]\n",
            " [2 0 1 0]\n",
            " [1 0 1 0]\n",
            " [2 0 1 1]\n",
            " [2 2 0 1]]\n",
            "\n",
            "Testing Inputs: \n",
            " [[1 1 0 1]\n",
            " [0 0 1 1]\n",
            " [0 2 0 1]]\n",
            "\n",
            "Training Targets: \n",
            " [0 0 1 1 1 1 1 1 1 0 0]\n",
            "\n",
            "Testing Targets: \n",
            " [0 1 1]\n"
          ]
        }
      ]
    },
    {
      "cell_type": "markdown",
      "source": [
        "# Decision tree classifiction using Entropy"
      ],
      "metadata": {
        "id": "R7NkwLtvrWCr"
      }
    },
    {
      "cell_type": "code",
      "source": [
        "#Create a Decision Tree Classifier (using Entropy)\n",
        "\n",
        "from sklearn.tree import DecisionTreeClassifier\n",
        "\n",
        "clf_entropy = DecisionTreeClassifier( criterion = \"entropy\", random_state = 46, max_depth = 3, min_samples_leaf = 46)\n",
        "\n",
        "# Train the model using the training sets\n",
        "clf_entropy.fit(inputs_train, targets_train)"
      ],
      "metadata": {
        "colab": {
          "base_uri": "https://localhost:8080/"
        },
        "id": "nWV0qvALmM1E",
        "outputId": "31b023e1-4ae3-41f2-b01d-4fed365c0ee8"
      },
      "execution_count": 13,
      "outputs": [
        {
          "output_type": "execute_result",
          "data": {
            "text/plain": [
              "DecisionTreeClassifier(criterion='entropy', max_depth=3, min_samples_leaf=46,\n",
              "                       random_state=46)"
            ]
          },
          "metadata": {},
          "execution_count": 13
        }
      ]
    },
    {
      "cell_type": "code",
      "source": [
        "#Predict Output\n",
        "\n",
        "target_pred = clf_entropy.predict(inputs_test)\n",
        "print(\"Predicted ouptut: \\n\", target_pred)"
      ],
      "metadata": {
        "colab": {
          "base_uri": "https://localhost:8080/"
        },
        "id": "WGwOExiymtrr",
        "outputId": "c67c1fd5-aa6a-4a13-ff56-ec8540d0940c"
      },
      "execution_count": 14,
      "outputs": [
        {
          "output_type": "stream",
          "name": "stdout",
          "text": [
            "Predicted ouptut: \n",
            " [1 1 1]\n"
          ]
        }
      ]
    },
    {
      "cell_type": "markdown",
      "source": [
        "<br/><h2> <b> What will be the value of Play, if Outlook is ’Rainy’, Temperature is ’Mild’, Humidity =’Nor-\n",
        "mal’, and Wind = ’False’?  </b> </h2><br/>"
      ],
      "metadata": {
        "id": "e2fxHzYF1mrs"
      }
    },
    {
      "cell_type": "code",
      "source": [
        "# Rainy => 1\n",
        "# Mild => 2\n",
        "# Normal => 1\n",
        "# False => 0\n",
        "\n",
        "p = clf_entropy.predict([[1, 2, 1, 0]])\n",
        "print(\"Predicted class: \", p)"
      ],
      "metadata": {
        "colab": {
          "base_uri": "https://localhost:8080/"
        },
        "id": "RTiwAAv9uoa-",
        "outputId": "6547620d-7d2a-40f6-9708-151a0ffd9a62"
      },
      "execution_count": 15,
      "outputs": [
        {
          "output_type": "stream",
          "name": "stdout",
          "text": [
            "Predicted class:  [1]\n"
          ]
        }
      ]
    },
    {
      "cell_type": "markdown",
      "source": [
        "<br/><h2> <b> What will be the value of Play, if Outlook is ’Sunny’, Temeprature is ’Cool’, Humidity\n",
        "=’High’, and Wind = ’True’?  </b> </h2><br/>"
      ],
      "metadata": {
        "id": "Xw79uFRT1tEp"
      }
    },
    {
      "cell_type": "code",
      "source": [
        "# sunny => 2\n",
        "# Cool => 0\n",
        "# High => 0\n",
        "# True => 1\n",
        "\n",
        "p = clf_entropy.predict([[2, 0, 0, 1]])\n",
        "print(\"Predicted class: \", p)"
      ],
      "metadata": {
        "colab": {
          "base_uri": "https://localhost:8080/"
        },
        "id": "xJePCqWDvYQJ",
        "outputId": "f08845af-70f1-448b-c62c-5c1bce3b1a95"
      },
      "execution_count": 16,
      "outputs": [
        {
          "output_type": "stream",
          "name": "stdout",
          "text": [
            "Predicted class:  [1]\n"
          ]
        }
      ]
    },
    {
      "cell_type": "markdown",
      "source": [
        "<br/><h2> <b> Calculate accuracy, precision, and recall. </b> </h2><br/>"
      ],
      "metadata": {
        "id": "0G-0YQbwBT_m"
      }
    },
    {
      "cell_type": "code",
      "source": [
        "from sklearn import metrics\n",
        "print(\"Accuracy: \", metrics.accuracy_score(targets_test, target_pred))\n",
        "\n",
        "print(\"\\n\\nPrecision: \", metrics.precision_score(targets_test, target_pred, average = 'binary'))\n",
        "\n",
        "print(\"\\n\\nRecall: \", metrics.recall_score(targets_test, target_pred, average = 'binary'))\n"
      ],
      "metadata": {
        "colab": {
          "base_uri": "https://localhost:8080/"
        },
        "id": "kEX6Kp2Ln_RS",
        "outputId": "4b2d8e56-7d2a-43ef-9908-0dce25dff7bf"
      },
      "execution_count": 30,
      "outputs": [
        {
          "output_type": "stream",
          "name": "stdout",
          "text": [
            "Accuracy:  0.6666666666666666\n",
            "\n",
            "\n",
            "Precision:  0.6666666666666666\n",
            "\n",
            "\n",
            "Recall:  1.0\n"
          ]
        }
      ]
    },
    {
      "cell_type": "code",
      "source": [
        "!pip install graphviz"
      ],
      "metadata": {
        "colab": {
          "base_uri": "https://localhost:8080/"
        },
        "id": "iTSR3HyCohPK",
        "outputId": "d36c6c20-f4d5-4796-de4f-2c9f5592c056"
      },
      "execution_count": 18,
      "outputs": [
        {
          "output_type": "stream",
          "name": "stdout",
          "text": [
            "Requirement already satisfied: graphviz in /usr/local/lib/python3.7/dist-packages (0.10.1)\n"
          ]
        }
      ]
    },
    {
      "cell_type": "code",
      "source": [
        "!pip install pydotplus"
      ],
      "metadata": {
        "colab": {
          "base_uri": "https://localhost:8080/"
        },
        "id": "BP48Y3CVonJB",
        "outputId": "3fa80987-75e3-4daa-e610-0e4e95e4a604"
      },
      "execution_count": 19,
      "outputs": [
        {
          "output_type": "stream",
          "name": "stdout",
          "text": [
            "Requirement already satisfied: pydotplus in /usr/local/lib/python3.7/dist-packages (2.0.2)\n",
            "Requirement already satisfied: pyparsing>=2.0.1 in /usr/local/lib/python3.7/dist-packages (from pydotplus) (3.0.7)\n"
          ]
        }
      ]
    },
    {
      "cell_type": "code",
      "source": [
        "from sklearn.tree import export_graphviz\n",
        "export_graphviz(clf_entropy,out_file='tree_entropy.dot',feature_names=['outlook','temperature','humidity','wind'],\n",
        "class_names=['play_no','play_yes'],\n",
        "filled=True)\n",
        "\n",
        "# Convert to png\n",
        "from subprocess import call\n",
        "call(['dot', '-Tpng', 'tree_entropy.dot', '-o', 'tree_entropy.png','Gdpi=600'])\n",
        "\n",
        "# Display in python\n",
        "import matplotlib.pyplot as plt\n",
        "# plt.figure(figsize = (10, 10))\n",
        "plt.imshow(plt.imread('tree_entropy.png'))\n",
        "plt.axis('off');"
      ],
      "metadata": {
        "colab": {
          "base_uri": "https://localhost:8080/",
          "height": 222
        },
        "id": "2RS0QYueqnfm",
        "outputId": "0ef78783-b426-45b9-9347-dfe208627235"
      },
      "execution_count": 21,
      "outputs": [
        {
          "output_type": "display_data",
          "data": {
            "image/png": "[encoded data removed]",
            "text/plain": [
              "<Figure size 432x288 with 1 Axes>"
            ]
          },
          "metadata": {
            "needs_background": "light"
          }
        }
      ]
    },
    {
      "cell_type": "markdown",
      "source": [
        "# Decision tree classifiction using Gini Index"
      ],
      "metadata": {
        "id": "a9Veez_lr0tb"
      }
    },
    {
      "cell_type": "code",
      "source": [
        "#Create a Decision Tree Classifier (using Gini index)\n",
        "\n",
        "clf_gini = DecisionTreeClassifier(criterion = \"gini\", random_state = 46, max_depth = 3, min_samples_leaf = 46)\n",
        "\n",
        "# Train the model using the training sets\n",
        "\n",
        "clf_gini.fit(inputs_train, targets_train)"
      ],
      "metadata": {
        "colab": {
          "base_uri": "https://localhost:8080/"
        },
        "id": "qPfHI4uhr5Bu",
        "outputId": "d2f130fa-7d66-40f3-e4a9-a2bec5b673dc"
      },
      "execution_count": 31,
      "outputs": [
        {
          "output_type": "execute_result",
          "data": {
            "text/plain": [
              "DecisionTreeClassifier(max_depth=3, min_samples_leaf=46, random_state=46)"
            ]
          },
          "metadata": {},
          "execution_count": 31
        }
      ]
    },
    {
      "cell_type": "code",
      "source": [
        "#Predict Output\n",
        "\n",
        "target_pred = clf_gini.predict(inputs_test)\n",
        "print(\"Predicted ouptut: \\n\", target_pred)"
      ],
      "metadata": {
        "colab": {
          "base_uri": "https://localhost:8080/"
        },
        "id": "K3a0LHOdyeze",
        "outputId": "fc1ca9b9-6688-4302-ece0-d7555af864ca"
      },
      "execution_count": 32,
      "outputs": [
        {
          "output_type": "stream",
          "name": "stdout",
          "text": [
            "Predicted ouptut: \n",
            " [1 1 1]\n"
          ]
        }
      ]
    },
    {
      "cell_type": "markdown",
      "source": [
        "<br/><h2> <b> What will be the value of Play, if Outlook is ’Rainy’, Temperature is ’Mild’, Humidity =’Nor-\n",
        "mal’, and Wind = ’False’?  </b> </h2><br/>"
      ],
      "metadata": {
        "id": "vNFcXjHw1_Pz"
      }
    },
    {
      "cell_type": "code",
      "source": [
        "# Rainy => 1\n",
        "# Mild => 2\n",
        "# Normal => 1\n",
        "# False => 0\n",
        "\n",
        "p = clf_gini.predict([[1, 2, 1, 0]])\n",
        "print(\"Predicted class: \", p)"
      ],
      "metadata": {
        "colab": {
          "base_uri": "https://localhost:8080/"
        },
        "id": "Dkm6CsVSyngS",
        "outputId": "a545d575-1e27-4cc3-d116-0a9aed0d6b65"
      },
      "execution_count": 25,
      "outputs": [
        {
          "output_type": "stream",
          "name": "stdout",
          "text": [
            "Predicted class:  [1]\n"
          ]
        }
      ]
    },
    {
      "cell_type": "markdown",
      "source": [
        "<br/><h2> <b> What will be the value of Play, if Outlook is ’Sunny’, Temeprature is ’Cool’, Humidity\n",
        "=’High’, and Wind = ’True’?  </b> </h2><br/>"
      ],
      "metadata": {
        "id": "_DSthFnv2APq"
      }
    },
    {
      "cell_type": "code",
      "source": [
        "# sunny => 2\n",
        "# Cool => 0\n",
        "# High => 0\n",
        "# True => 1\n",
        "\n",
        "p = clf_gini.predict([[2, 0, 0, 1]])\n",
        "print(\"Predicted class: \", p)"
      ],
      "metadata": {
        "colab": {
          "base_uri": "https://localhost:8080/"
        },
        "id": "59Ya8AylzQVe",
        "outputId": "36ff13ec-c3d8-480d-c4fd-b95de614cee9"
      },
      "execution_count": 27,
      "outputs": [
        {
          "output_type": "stream",
          "name": "stdout",
          "text": [
            "Predicted class:  [1]\n"
          ]
        }
      ]
    },
    {
      "cell_type": "markdown",
      "source": [
        "<br/><h2> <b> Calculate accuracy, precision, and recall. </b> </h2><br/>"
      ],
      "metadata": {
        "id": "bEwz6gXQBmfB"
      }
    },
    {
      "cell_type": "code",
      "source": [
        "from sklearn import metrics\n",
        "print(\"Accuracy: \", metrics.accuracy_score(targets_test, target_pred))\n",
        "\n",
        "print(\"\\n\\nPrecision: \", metrics.precision_score(targets_test, target_pred, average = 'binary'))\n",
        "\n",
        "print(\"\\n\\nRecall: \", metrics.recall_score(targets_test, target_pred, average = 'binary'))"
      ],
      "metadata": {
        "colab": {
          "base_uri": "https://localhost:8080/"
        },
        "id": "DVWs5U70zQpk",
        "outputId": "e46da7c2-31f1-4df6-86e8-d45da20d4c62"
      },
      "execution_count": 33,
      "outputs": [
        {
          "output_type": "stream",
          "name": "stdout",
          "text": [
            "Accuracy:  0.6666666666666666\n",
            "\n",
            "\n",
            "Precision:  0.6666666666666666\n",
            "\n",
            "\n",
            "Recall:  1.0\n"
          ]
        }
      ]
    },
    {
      "cell_type": "code",
      "source": [
        "import graphviz\n",
        "from sklearn import tree\n",
        "\n",
        "dot_data = tree.export_graphviz(clf_gini, out_file=None, \n",
        "                                feature_names=[\"Outlook\", \"Temperature\", \"Humidity\", \"Wind\"],  \n",
        "                                class_names=['play_no','play_yes'], filled=True)\n",
        "\n",
        "# Draw graph\n",
        "graph = graphviz.Source(dot_data, format=\"png\") \n",
        "graph"
      ],
      "metadata": {
        "colab": {
          "base_uri": "https://localhost:8080/",
          "height": 123
        },
        "id": "UPDUcoNizT1w",
        "outputId": "5e845256-6ff4-469b-b41f-3eda340b7d72"
      },
      "execution_count": 34,
      "outputs": [
        {
          "output_type": "execute_result",
          "data": {
            "text/plain": [
              "<graphviz.files.Source at 0x7f1fb1eeaa50>"
            ],
            "image/svg+xml": "<?xml version=\"1.0\" encoding=\"UTF-8\" standalone=\"no\"?>\n<!DOCTYPE svg PUBLIC \"-//W3C//DTD SVG 1.1//EN\"\n \"http://www.w3.org/Graphics/SVG/1.1/DTD/svg11.dtd\">\n<!-- Generated by graphviz version 2.40.1 (20161225.0304)\n -->\n<!-- Title: Tree Pages: 1 -->\n<svg width=\"133pt\" height=\"76pt\"\n viewBox=\"0.00 0.00 133.00 76.00\" xmlns=\"http://www.w3.org/2000/svg\" xmlns:xlink=\"http://www.w3.org/1999/xlink\">\n<g id=\"graph0\" class=\"graph\" transform=\"scale(1 1) rotate(0) translate(4 72)\">\n<title>Tree</title>\n<polygon fill=\"#ffffff\" stroke=\"transparent\" points=\"-4,4 -4,-72 129,-72 129,4 -4,4\"/>\n<!-- 0 -->\n<g id=\"node1\" class=\"node\">\n<title>0</title>\n<polygon fill=\"#aad5f4\" stroke=\"#000000\" points=\"125,-68 0,-68 0,0 125,0 125,-68\"/>\n<text text-anchor=\"middle\" x=\"62.5\" y=\"-52.8\" font-family=\"Helvetica,sans-Serif\" font-size=\"14.00\" fill=\"#000000\">gini = 0.463</text>\n<text text-anchor=\"middle\" x=\"62.5\" y=\"-37.8\" font-family=\"Helvetica,sans-Serif\" font-size=\"14.00\" fill=\"#000000\">samples = 11</text>\n<text text-anchor=\"middle\" x=\"62.5\" y=\"-22.8\" font-family=\"Helvetica,sans-Serif\" font-size=\"14.00\" fill=\"#000000\">value = [4, 7]</text>\n<text text-anchor=\"middle\" x=\"62.5\" y=\"-7.8\" font-family=\"Helvetica,sans-Serif\" font-size=\"14.00\" fill=\"#000000\">class = play_yes</text>\n</g>\n</g>\n</svg>\n"
          },
          "metadata": {},
          "execution_count": 34
        }
      ]
    }
  ]
}