{
  "nbformat": 4,
  "nbformat_minor": 0,
  "metadata": {
    "colab": {
      "name": "Lab_10_CE046_Artificial_Neural_Network.ipynb",
      "provenance": [],
      "collapsed_sections": []
    },
    "kernelspec": {
      "name": "python3",
      "display_name": "Python 3"
    },
    "language_info": {
      "name": "python"
    }
  },
  "cells": [
    {
      "cell_type": "markdown",
      "source": [
        "<h1> <b> Lab - 10 </b> </h1>\n",
        "<h3>Artificial Neural Network on mnist dataset.</h3>\n",
        "<br>"
      ],
      "metadata": {
        "id": "P9r7cyols-o3"
      }
    },
    {
      "cell_type": "code",
      "source": [
        "pip install -q tfds-nightly tensorflow matplotlib"
      ],
      "metadata": {
        "id": "ftz8jdMlGyaY",
        "colab": {
          "base_uri": "https://localhost:8080/"
        },
        "outputId": "0d017e86-e7d8-4055-e4e3-63dfb7671525"
      },
      "execution_count": 1,
      "outputs": [
        {
          "output_type": "stream",
          "name": "stdout",
          "text": [
            "\u001b[K     |████████████████████████████████| 4.2 MB 4.3 MB/s \n",
            "\u001b[K     |████████████████████████████████| 76 kB 5.1 MB/s \n",
            "\u001b[K     |████████████████████████████████| 462 kB 45.1 MB/s \n",
            "\u001b[?25h"
          ]
        }
      ]
    },
    {
      "cell_type": "markdown",
      "source": [
        "<br/><h2> <b> Import necessary modules.</b> </h2><br/>"
      ],
      "metadata": {
        "id": "kIPcqtgPtGQ7"
      }
    },
    {
      "cell_type": "code",
      "execution_count": 2,
      "metadata": {
        "id": "BuEoUzRHFQtm"
      },
      "outputs": [],
      "source": [
        "# Import Libraries\n",
        "import matplotlib.pyplot as plt\n",
        "import numpy as np\n",
        "import pandas as pd\n",
        "import torch\n",
        "import torch.nn as nn\n",
        "from torch.autograd import Variable\n",
        "from torch.utils.data import DataLoader\n",
        "import tensorflow\n",
        "from sklearn.model_selection import train_test_split\n",
        "from torch.utils.data import DataLoader, TensorDataset"
      ]
    },
    {
      "cell_type": "markdown",
      "source": [
        "<br/><h2> <b> Load the data.</b> </h2><br/>\n"
      ],
      "metadata": {
        "id": "IavzLDWytO1H"
      }
    },
    {
      "cell_type": "code",
      "source": [
        "from tensorflow.keras.datasets import mnist\n",
        "(features_train, targets_train), (features_test, targets_test) = mnist.load_data()"
      ],
      "metadata": {
        "id": "EBbFhOVfGgSL",
        "colab": {
          "base_uri": "https://localhost:8080/"
        },
        "outputId": "4af6f231-a80c-48f1-a9ce-f3f58cfb8896"
      },
      "execution_count": 3,
      "outputs": [
        {
          "output_type": "stream",
          "name": "stdout",
          "text": [
            "Downloading data from https://storage.googleapis.com/tensorflow/tf-keras-datasets/mnist.npz\n",
            "11493376/11490434 [==============================] - 0s 0us/step\n",
            "11501568/11490434 [==============================] - 0s 0us/step\n"
          ]
        }
      ]
    },
    {
      "cell_type": "markdown",
      "source": [
        "<br/><h2> <b> Convert to float32.</b> </h2><br/>"
      ],
      "metadata": {
        "id": "1vxqDAG9tfSP"
      }
    },
    {
      "cell_type": "code",
      "source": [
        "features_train, features_test = np.array(features_train, np.float32), np.array(features_test, np.float32)"
      ],
      "metadata": {
        "id": "_enWLMUiGiov"
      },
      "execution_count": 4,
      "outputs": []
    },
    {
      "cell_type": "markdown",
      "source": [
        "<br/><h2> <b>Flatten images to 1-D vector of 784 features (28*28).</b> </h2><br/>"
      ],
      "metadata": {
        "id": "iIn4h1betkTZ"
      }
    },
    {
      "cell_type": "code",
      "source": [
        "features_train, features_test = features_train.reshape([-1, 784]), features_test.reshape([-1, 784])"
      ],
      "metadata": {
        "id": "NYF2zbawI8Bi"
      },
      "execution_count": 5,
      "outputs": []
    },
    {
      "cell_type": "markdown",
      "source": [
        "<br/><h2> <b>Normalize images value from [0, 255] to [0, 1].</b> </h2><br/>"
      ],
      "metadata": {
        "id": "Juj5azYStwze"
      }
    },
    {
      "cell_type": "code",
      "source": [
        "features_train, features_test = features_train / 255., features_test / 255."
      ],
      "metadata": {
        "id": "DC7KrzXAHYyb"
      },
      "execution_count": 6,
      "outputs": []
    },
    {
      "cell_type": "markdown",
      "source": [
        "<br/><h2> <b>Create feature and targets tensor for train set. As you remember we need variable to accumulate gradients. Therefore first we create tensor, then we will create variable[0, 255] to [0, 1].</b> </h2><br/>"
      ],
      "metadata": {
        "id": "LReA6IAxt3sS"
      }
    },
    {
      "cell_type": "code",
      "source": [
        "torch_features_train = torch.from_numpy(features_train)\n",
        "torch_targets_train = torch.from_numpy(targets_train).type(torch.LongTensor)"
      ],
      "metadata": {
        "id": "OCbICCUZJ2-F"
      },
      "execution_count": 7,
      "outputs": []
    },
    {
      "cell_type": "markdown",
      "source": [
        "<br/><h2> <b>Create feature and targets tensor for test set.</b> </h2><br/>"
      ],
      "metadata": {
        "id": "TT9HoihKuAw6"
      }
    },
    {
      "cell_type": "code",
      "source": [
        "torch_features_test = torch.from_numpy(features_test)\n",
        "torch_targets_test = torch.from_numpy(targets_test).type(torch.LongTensor)"
      ],
      "metadata": {
        "id": "Uu4WvenaKd59"
      },
      "execution_count": 8,
      "outputs": []
    },
    {
      "cell_type": "markdown",
      "source": [
        "<br/><h2> <b>Batch_size, epoch and iteration</b> </h2><br/>"
      ],
      "metadata": {
        "id": "BtxtYPejuOC2"
      }
    },
    {
      "cell_type": "code",
      "source": [
        "batch_size = 100\n",
        "n_iters = 5000\n",
        "num_epochs = n_iters / (len(features_train) / batch_size)\n",
        "num_epochs = int(num_epochs)"
      ],
      "metadata": {
        "id": "oF12JvZAKsYw"
      },
      "execution_count": 9,
      "outputs": []
    },
    {
      "cell_type": "markdown",
      "source": [
        "<br/><h2> <b>Pytorch train and test sets - Tensordataset.</b> </h2><br/>"
      ],
      "metadata": {
        "id": "1RXG7UzZuTCJ"
      }
    },
    {
      "cell_type": "code",
      "source": [
        "train_data = TensorDataset(torch_features_train, torch_targets_train)\n",
        "test_data = TensorDataset(torch_features_test,torch_targets_test)\n"
      ],
      "metadata": {
        "id": "KosPx3B0K4j2"
      },
      "execution_count": 10,
      "outputs": []
    },
    {
      "cell_type": "markdown",
      "source": [
        "<br/><h2> <b>Data loader.</b> </h2><br/>"
      ],
      "metadata": {
        "id": "aGlnflQuumpU"
      }
    },
    {
      "cell_type": "code",
      "source": [
        "train_loader = DataLoader(train_data, batch_size = batch_size, shuffle = False)\n",
        "test_loader = DataLoader(test_data, batch_size = batch_size, shuffle = False)"
      ],
      "metadata": {
        "id": "GFMNqK8fLZqb"
      },
      "execution_count": 11,
      "outputs": []
    },
    {
      "cell_type": "markdown",
      "source": [
        "<br/><h2> <b>Visualize one of the images in data set.</b> </h2><br/>\n",
        "\n"
      ],
      "metadata": {
        "id": "jYqA_yy8us-S"
      }
    },
    {
      "cell_type": "code",
      "source": [
        "plt.imshow(features_train[15].reshape(28,28))\n",
        "plt.axis(\"off\")\n",
        "plt.title(str(targets_train[15]))\n",
        "plt.savefig('image.png')\n",
        "plt.show()"
      ],
      "metadata": {
        "colab": {
          "base_uri": "https://localhost:8080/",
          "height": 264
        },
        "id": "NpS4QSsNLg6j",
        "outputId": "1caf7cf1-da6d-424c-8d02-70ffb8a862a0"
      },
      "execution_count": 13,
      "outputs": [
        {
          "output_type": "display_data",
          "data": {
            "image/png": "[encoded data removed]",
            "text/plain": [
              "<Figure size 432x288 with 1 Axes>"
            ]
          },
          "metadata": {
            "needs_background": "light"
          }
        }
      ]
    },
    {
      "cell_type": "markdown",
      "source": [
        "<br/><h2> <b>Create ANN Model</b> </h2><br/>"
      ],
      "metadata": {
        "id": "C59iF-v3u0px"
      }
    },
    {
      "cell_type": "code",
      "source": [
        "class ANNModel(nn.Module):\n",
        "  def __init__(self, input_dim, hidden_dim, output_dim):\n",
        "    super(ANNModel, self).__init__()\n",
        "\n",
        "    # hidden layer dimensions\n",
        "    self.hidden_dim = hidden_dim\n",
        "\n",
        "    self.fc1 = nn.Linear(input_dim, hidden_dim) \n",
        "    self.relu1 = nn.ReLU()\n",
        "    self.fc2 = nn.Linear(hidden_dim, hidden_dim)\n",
        "    self.relu2 = nn.ReLU()\n",
        "    self.fc3 = nn.Linear(hidden_dim, hidden_dim)\n",
        "    self.relu3 = nn.ReLU()\n",
        "    self.fc4 = nn.Linear(hidden_dim, output_dim) \n",
        "\n",
        "  def forward(self, x):\n",
        "        out = self.fc1(x)\n",
        "        out = self.relu1(out)\n",
        "        out = self.fc2(out)\n",
        "        out = self.relu2(out)\n",
        "        out = self.fc3(out)\n",
        "        out = self.relu3(out)\n",
        "        out = self.fc4(out)\n",
        "        return out"
      ],
      "metadata": {
        "id": "oXxyfG3JL8Aw"
      },
      "execution_count": 14,
      "outputs": []
    },
    {
      "cell_type": "markdown",
      "source": [
        "<br/><h2> <b>Instantiate ANN</b> </h2><br/>"
      ],
      "metadata": {
        "id": "sNZdl2Fxu9DB"
      }
    },
    {
      "cell_type": "code",
      "source": [
        "input_dim = 28 * 28\n",
        "hidden_dim = 150 \n",
        "output_dim = 10"
      ],
      "metadata": {
        "id": "ngLJWVFVaNZl"
      },
      "execution_count": 15,
      "outputs": []
    },
    {
      "cell_type": "markdown",
      "source": [
        "<br/><h2> <b>Create ANN</b> </h2><br/>"
      ],
      "metadata": {
        "id": "n2SCpqCAvCBX"
      }
    },
    {
      "cell_type": "code",
      "source": [
        "model = ANNModel(input_dim, hidden_dim, output_dim)"
      ],
      "metadata": {
        "id": "8z8OQWwqaeZG"
      },
      "execution_count": 16,
      "outputs": []
    },
    {
      "cell_type": "markdown",
      "source": [
        "<br/><h2> <b>Cross Entropy Loss.</b> </h2><br/>"
      ],
      "metadata": {
        "id": "I81RwRSEvF__"
      }
    },
    {
      "cell_type": "code",
      "source": [
        "error = nn.CrossEntropyLoss()"
      ],
      "metadata": {
        "id": "GmzgImR0af58"
      },
      "execution_count": 17,
      "outputs": []
    },
    {
      "cell_type": "markdown",
      "source": [
        "<br/><h2> <b>SGD Optimizer.</b> </h2><br/>"
      ],
      "metadata": {
        "id": "adRSHUF9vPDw"
      }
    },
    {
      "cell_type": "code",
      "source": [
        "learning_rate = 0.02\n",
        "optimizer = torch.optim.SGD(model.parameters(), lr = learning_rate)"
      ],
      "metadata": {
        "id": "kxSh5UGMarzd"
      },
      "execution_count": 19,
      "outputs": []
    },
    {
      "cell_type": "markdown",
      "source": [
        "<br/><h2> <b>ANN model training.</b> </h2><br/>"
      ],
      "metadata": {
        "id": "SMl2Gr1qvT5Y"
      }
    },
    {
      "cell_type": "code",
      "source": [
        "count = 0\n",
        "loss_list = []\n",
        "iteration_list = []\n",
        "accuracy_list = []\n",
        "\n",
        "for epoch in range(num_epochs):\n",
        "    for i, (images, labels) in enumerate(train_loader):\n",
        "\n",
        "        train = Variable(images.view(-1, 28*28))\n",
        "        labels = Variable(labels)\n",
        "        \n",
        "        \n",
        "        # Clear gradients\n",
        "        optimizer.zero_grad()\n",
        "\n",
        "        # Forward propagation\n",
        "        outputs = model(train) \n",
        "        \n",
        "        # Calculate softmax and cross entropy loss\n",
        "        loss = error(outputs, labels) \n",
        "        \n",
        "        # Calculating gradients\n",
        "        loss.backward() \n",
        "        \n",
        "        # Update parameters\n",
        "        optimizer.step() \n",
        "        \n",
        "        count += 1\n",
        "        \n",
        "        if count % 50 == 0:\n",
        "            # Calculate Accuracy         \n",
        "            correct = 0\n",
        "            total = 0\n",
        "            \n",
        "            # Predict test dataset\n",
        "            for images, labels in test_loader:\n",
        "                test = Variable(images.view(-1, 28*28))\n",
        "                \n",
        "                # Forward propagation\n",
        "                outputs = model(test) \n",
        "                \n",
        "                # Get predictions from the maximum value\n",
        "                predicted = torch.max(outputs.data, 1)[1] \n",
        "                \n",
        "                # Total number of labels\n",
        "                total += len(labels) \n",
        "                \n",
        "                # Total correct predictions\n",
        "                correct += (predicted == labels).sum() \n",
        "            \n",
        "            accuracy = 100.0 * correct.item() / total\n",
        "            \n",
        "            # store loss and iteration\n",
        "            loss_list.append(loss.data.item())\n",
        "            iteration_list.append(count)\n",
        "            accuracy_list.append(accuracy)\n",
        "\n",
        "            # print loss\n",
        "            if count % 500 == 0:\n",
        "                print('Iteration: {}  Loss: {}  Accuracy: {} %'.format(count, loss.data.item(), accuracy))"
      ],
      "metadata": {
        "colab": {
          "base_uri": "https://localhost:8080/"
        },
        "id": "hpMhmyRpasa8",
        "outputId": "fc7422c5-40df-4649-de83-3ceaef23f9e3"
      },
      "execution_count": 20,
      "outputs": [
        {
          "output_type": "stream",
          "name": "stdout",
          "text": [
            "Iteration: 500  Loss: 1.9405499696731567  Accuracy: 56.49 %\n",
            "Iteration: 1000  Loss: 0.6305919885635376  Accuracy: 84.7 %\n",
            "Iteration: 1500  Loss: 0.6315626502037048  Accuracy: 88.03 %\n",
            "Iteration: 2000  Loss: 0.3100878596305847  Accuracy: 89.03 %\n",
            "Iteration: 2500  Loss: 0.21487699449062347  Accuracy: 91.04 %\n",
            "Iteration: 3000  Loss: 0.3391537070274353  Accuracy: 91.64 %\n",
            "Iteration: 3500  Loss: 0.21304219961166382  Accuracy: 92.51 %\n",
            "Iteration: 4000  Loss: 0.27803483605384827  Accuracy: 93.57 %\n",
            "Iteration: 4500  Loss: 0.36640116572380066  Accuracy: 93.73 %\n"
          ]
        }
      ]
    },
    {
      "cell_type": "markdown",
      "source": [
        "<br/><h2> <b>Visualize loss and accuracy.</b> </h2><br/>"
      ],
      "metadata": {
        "id": "O-aujhl-vgCM"
      }
    },
    {
      "cell_type": "code",
      "source": [
        "plt.plot(iteration_list, loss_list)\n",
        "plt.xlabel(\"Number of iteration\")\n",
        "plt.ylabel(\"Loss\")\n",
        "plt.title(\"ANN: Loss vs Number of iteration\")\n",
        "plt.show()\n",
        "\n",
        "\n",
        "plt.plot(iteration_list,accuracy_list,color = \"red\")\n",
        "plt.xlabel(\"Number of iteration\")\n",
        "plt.ylabel(\"Accuracy\")\n",
        "plt.title(\"ANN: Accuracy vs Number of iteration\")\n",
        "plt.show()"
      ],
      "metadata": {
        "colab": {
          "base_uri": "https://localhost:8080/",
          "height": 573
        },
        "id": "1KSK1opibzoW",
        "outputId": "a2a00ff2-a7e2-4c6a-c2da-f0f56eef39da"
      },
      "execution_count": 21,
      "outputs": [
        {
          "output_type": "display_data",
          "data": {
            "image/png": "[encoded data removed]",
            "text/plain": [
              "<Figure size 432x288 with 1 Axes>"
            ]
          },
          "metadata": {
            "needs_background": "light"
          }
        },
        {
          "output_type": "display_data",
          "data": {
            "image/png": "[encoded data removed]",
            "text/plain": [
              "<Figure size 432x288 with 1 Axes>"
            ]
          },
          "metadata": {
            "needs_background": "light"
          }
        }
      ]
    }
  ]
}