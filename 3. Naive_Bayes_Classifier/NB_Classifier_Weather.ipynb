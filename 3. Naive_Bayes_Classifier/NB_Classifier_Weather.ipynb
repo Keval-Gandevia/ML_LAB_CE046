{
  "nbformat": 4,
  "nbformat_minor": 0,
  "metadata": {
    "colab": {
      "name": "Lab_3_CE046_NB_Classifier_Weather.ipynb",
      "provenance": [],
      "collapsed_sections": []
    },
    "kernelspec": {
      "name": "python3",
      "display_name": "Python 3"
    },
    "language_info": {
      "name": "python"
    }
  },
  "cells": [
    {
      "cell_type": "markdown",
      "source": [
        "<h1> <b> Lab - 3 </b> </h1>\n",
        "<br>\n",
        "<br>"
      ],
      "metadata": {
        "id": "PZeBZM3yhXiK"
      }
    },
    {
      "cell_type": "code",
      "execution_count": 21,
      "metadata": {
        "id": "P3R1Rw5enzoi"
      },
      "outputs": [],
      "source": [
        "# import necessary libraries\n",
        "\n",
        "from sklearn import preprocessing\n",
        "from sklearn.naive_bayes import GaussianNB, MultinomialNB\n",
        "from sklearn.datasets import make_blobs"
      ]
    },
    {
      "cell_type": "code",
      "source": [
        "# Prepare dataset.\n",
        "\n",
        "weather = ['Sunny', 'Sunny', 'Overcast', 'Rainy', 'Rainy','Rainy', 'Overcast',\n",
        "'Sunny', 'Sunny', 'Rainy', 'Sunny', 'Overcast', 'Overcast', 'Rainy']\n",
        "\n",
        "temp = ['Hot','Hot','Hot','Mild','Cool','Cool','Cool',\n",
        "'Mild', 'Cool','Mild','Mild','Mild','Hot','Mild']\n",
        "\n",
        "play = ['No','No','Yes','Yes','Yes','No','Yes',\n",
        "'No','Yes','Yes','Yes','Yes','Yes','No']"
      ],
      "metadata": {
        "id": "Z2P8Gzc6rEkY"
      },
      "execution_count": 22,
      "outputs": []
    },
    {
      "cell_type": "code",
      "source": [
        "#creating labelEncoder\n",
        "le = preprocessing.LabelEncoder()\n",
        "\n",
        "# Converting string labels into numbers.\n",
        "weather_encoded = le.fit_transform(weather)\n",
        "print(\"Weather:\", weather_encoded)\n",
        "\n",
        "# overcast = 0\n",
        "# rainy = 1\n",
        "# sunny = 2"
      ],
      "metadata": {
        "colab": {
          "base_uri": "https://localhost:8080/"
        },
        "id": "Kn-N_jCzrcCj",
        "outputId": "b36ba2f3-9c42-4733-bbe4-3d0263b7c343"
      },
      "execution_count": 23,
      "outputs": [
        {
          "output_type": "stream",
          "name": "stdout",
          "text": [
            "Weather: [2 2 0 1 1 1 0 2 2 1 2 0 0 1]\n"
          ]
        }
      ]
    },
    {
      "cell_type": "code",
      "source": [
        "temp_encoded = le.fit_transform(temp)\n",
        "print(\"Temperature: \", temp_encoded);\n",
        "\n",
        "# Cool = 0 \n",
        "# Hot = 1\n",
        "# Mild = 2"
      ],
      "metadata": {
        "colab": {
          "base_uri": "https://localhost:8080/"
        },
        "id": "AB8GhA6mrukv",
        "outputId": "43e280bc-13e8-4463-f172-8a84426212df"
      },
      "execution_count": 24,
      "outputs": [
        {
          "output_type": "stream",
          "name": "stdout",
          "text": [
            "Temperature:  [1 1 1 2 0 0 0 2 0 2 2 2 1 2]\n"
          ]
        }
      ]
    },
    {
      "cell_type": "code",
      "source": [
        "class_label = le.fit_transform(play)\n",
        "print(\"Play: \", class_label)\n",
        "\n",
        "# No = 0\n",
        "# Yes = 1"
      ],
      "metadata": {
        "colab": {
          "base_uri": "https://localhost:8080/"
        },
        "id": "xUQQ4sLEsKuR",
        "outputId": "934e67bb-7334-493f-8a74-d70ea514851c"
      },
      "execution_count": 25,
      "outputs": [
        {
          "output_type": "stream",
          "name": "stdout",
          "text": [
            "Play:  [0 0 1 1 1 0 1 0 1 1 1 1 1 0]\n"
          ]
        }
      ]
    },
    {
      "cell_type": "code",
      "source": [
        "#Combinig weather and temp into single listof tuples\n",
        "features = tuple(zip(weather_encoded,temp_encoded))\n",
        "print(\"Features:\", features)"
      ],
      "metadata": {
        "colab": {
          "base_uri": "https://localhost:8080/"
        },
        "id": "p-JCGdeGskMB",
        "outputId": "c7c8d17b-98eb-4f72-bff8-c7e1afdcc143"
      },
      "execution_count": 26,
      "outputs": [
        {
          "output_type": "stream",
          "name": "stdout",
          "text": [
            "Features: ((2, 1), (2, 1), (0, 1), (1, 2), (1, 0), (1, 0), (0, 0), (2, 2), (2, 0), (1, 2), (2, 2), (0, 2), (0, 1), (1, 2))\n"
          ]
        }
      ]
    },
    {
      "cell_type": "code",
      "source": [
        "#Create a Classifier\n",
        "model = MultinomialNB()\n",
        "\n",
        "# Train the model using the training sets\n",
        "model.fit(features, class_label)"
      ],
      "metadata": {
        "colab": {
          "base_uri": "https://localhost:8080/"
        },
        "id": "s3B1oL8tsm5t",
        "outputId": "c401cddc-72c4-47de-d2cb-f530d778b315"
      },
      "execution_count": 27,
      "outputs": [
        {
          "output_type": "execute_result",
          "data": {
            "text/plain": [
              "MultinomialNB()"
            ]
          },
          "metadata": {},
          "execution_count": 27
        }
      ]
    },
    {
      "cell_type": "markdown",
      "source": [
        "<h1> <b> Exercises </b> </h1>"
      ],
      "metadata": {
        "id": "vCgHwYekhLV_"
      }
    },
    {
      "cell_type": "markdown",
      "source": [
        "<h2> <b> Q.1) Will you play if the temperature is ‘Hot’ and weather is ‘overcast’? </b> </h2>"
      ],
      "metadata": {
        "id": "0mopQIeshh5c"
      }
    },
    {
      "cell_type": "code",
      "source": [
        "# Will you play if the temperature is ‘Hot’ and weather is ‘overcast’?\n",
        "\n",
        "# overcast = 0\n",
        "# hot = 1\n",
        "\n",
        "#Predict Output\n",
        "predicted= model.predict([[0,1]])\n",
        "print(\"Predicted Value:\", predicted)"
      ],
      "metadata": {
        "colab": {
          "base_uri": "https://localhost:8080/"
        },
        "id": "K6Q0xvkzstdx",
        "outputId": "cc3929c3-468a-4fe6-b0d4-78ed879fcfa2"
      },
      "execution_count": 28,
      "outputs": [
        {
          "output_type": "stream",
          "name": "stdout",
          "text": [
            "Predicted Value: [1]\n"
          ]
        }
      ]
    },
    {
      "cell_type": "markdown",
      "source": [
        "<h2> <b> Q.2) Will you play if the temperature is ‘Mild’ and weather is ‘Sunny’? </b> </h2>"
      ],
      "metadata": {
        "id": "OpTLwvV6h0tP"
      }
    },
    {
      "cell_type": "code",
      "source": [
        "# Will you play if the temperature is ‘Mild’ and weather is ‘Sunny’?\n",
        "\n",
        "# sunny = 2\n",
        "# mild = 2\n",
        "\n",
        "#Predict Output\n",
        "predicted= model.predict([[2,2]])\n",
        "print(\"Predicted Value:\", predicted)"
      ],
      "metadata": {
        "colab": {
          "base_uri": "https://localhost:8080/"
        },
        "id": "YLTs87ERwE9L",
        "outputId": "9f3ba92c-69c6-43c4-c964-48f6c5f3420f"
      },
      "execution_count": 29,
      "outputs": [
        {
          "output_type": "stream",
          "name": "stdout",
          "text": [
            "Predicted Value: [1]\n"
          ]
        }
      ]
    }
  ]
}