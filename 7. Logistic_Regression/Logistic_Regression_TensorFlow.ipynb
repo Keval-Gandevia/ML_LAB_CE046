{
  "nbformat": 4,
  "nbformat_minor": 0,
  "metadata": {
    "colab": {
      "name": "Lab_7_CE046_Logistic_Regression_TensorFlow.ipynb",
      "provenance": [],
      "collapsed_sections": []
    },
    "kernelspec": {
      "name": "python3",
      "display_name": "Python 3"
    },
    "language_info": {
      "name": "python"
    }
  },
  "cells": [
    {
      "cell_type": "markdown",
      "source": [
        "<h1> <b> Lab - 6 </b> </h1>\n",
        "<h3>Logistic Regression on MNIST dataset using Tensorflow.</h3>\n",
        "<br>"
      ],
      "metadata": {
        "id": "an_yZghs5nTH"
      }
    },
    {
      "cell_type": "markdown",
      "source": [
        "<br/><h2> <b> Import Necessary libraries.</b> </h2><br/>"
      ],
      "metadata": {
        "id": "iayPB65l5t5D"
      }
    },
    {
      "cell_type": "code",
      "source": [
        "from __future__ import absolute_import, division, print_function\n",
        "import tensorflow as tf\n",
        "import numpy as np"
      ],
      "metadata": {
        "id": "cAH94XckaUd4"
      },
      "execution_count": 4,
      "outputs": []
    },
    {
      "cell_type": "markdown",
      "source": [
        "<br/><h2> <b> Initializing the hyperparameters and data set parameters. </b> </h2><br/>"
      ],
      "metadata": {
        "id": "WN_D8wso6JJJ"
      }
    },
    {
      "cell_type": "code",
      "source": [
        "# MNIST dataset parameters.\n",
        "\n",
        "# 0 to 9 digits\n",
        "num_classes = 10 \n",
        "\n",
        "# 28*28\n",
        "num_features = 784\n",
        "\n",
        "# Training parameters.\n",
        "learning_rate = 0.01\n",
        "training_steps = 1000\n",
        "batch_size = 256\n",
        "display_step = 50"
      ],
      "metadata": {
        "id": "gAr8h2TuaiTA"
      },
      "execution_count": 5,
      "outputs": []
    },
    {
      "cell_type": "markdown",
      "source": [
        "<br/><h2> <b> Loading and preparing the MNIST dataset.</b> </h2><br/>"
      ],
      "metadata": {
        "id": "mPxE1OdH50Yd"
      }
    },
    {
      "cell_type": "code",
      "source": [
        "from tensorflow.keras.datasets import mnist\n",
        "\n",
        "(inputs_train, targets_train), (inputs_test, targets_test) = mnist.load_data()\n",
        "\n",
        "# Convert to float32.\n",
        "inputs_train, inputs_test = np.array(inputs_train, np.float32), np.array(inputs_test, np.float32)\n",
        "\n",
        "# Flatten images to 1-D vector of 784 features (28*28).\n",
        "inputs_train, inputs_test = inputs_train.reshape([-1, num_features]), inputs_test.reshape([-1, num_features])\n",
        "\n",
        "# Normalize images value from [0, 255] to [0, 1].\n",
        "inputs_train, inputs_test = inputs_train / 255., inputs_test / 255."
      ],
      "metadata": {
        "id": "GURgbEiPaVdf"
      },
      "execution_count": 9,
      "outputs": []
    },
    {
      "cell_type": "markdown",
      "source": [
        "<br/><h2> <b> Shuffling and batching the data.</b> </h2><br/>"
      ],
      "metadata": {
        "id": "UDQTe5146l57"
      }
    },
    {
      "cell_type": "code",
      "source": [
        "# Use tf.data API to shuffle and batch data.\n",
        "\n",
        "train_data = tf.data.Dataset.from_tensor_slices((inputs_train, targets_train))\n",
        "train_data = train_data.repeat().shuffle(5000).batch(batch_size).prefetch(1)"
      ],
      "metadata": {
        "id": "7PcvYJq0aptV"
      },
      "execution_count": 11,
      "outputs": []
    },
    {
      "cell_type": "markdown",
      "source": [
        "<br/><h2> <b> Initializing the weights and biases.</b> </h2><br/>"
      ],
      "metadata": {
        "id": "MBNlXZj37Q8R"
      }
    },
    {
      "cell_type": "code",
      "source": [
        "# Weight of shape [784, 10], the 28*28 image features, and a total number of classes.\n",
        "W = tf.Variable(tf.ones([num_features, num_classes]), name = \"weight\")\n",
        "\n",
        "# Bias of shape [10], the total number of classes.\n",
        "\n",
        "b = tf.Variable(tf.zeros([num_classes]), name = \"bias\")"
      ],
      "metadata": {
        "id": "z3dMmL--axEt"
      },
      "execution_count": 12,
      "outputs": []
    },
    {
      "cell_type": "markdown",
      "source": [
        "<br/><h2> <b> Defining the logistic regression and cost function.</b> </h2><br/>"
      ],
      "metadata": {
        "id": "e6ql7FpT7dZ1"
      }
    },
    {
      "cell_type": "code",
      "source": [
        "# Logistic regression (Wx + b).\n",
        "\n",
        "def logistic_regression(x):\n",
        "\n",
        "    # Apply softmax to normalize the logits to a probability distribution.\n",
        "\n",
        "    return tf.nn.softmax(tf.matmul(x, W) + b)\n",
        "\n",
        "# Cross-Entropy loss function.\n",
        "\n",
        "def cross_entropy(y_pred, y_true):\n",
        "\n",
        "    # Encode label to a one hot vector.\n",
        "\n",
        "    y_true = tf.one_hot(y_true, depth=num_classes)\n",
        "\n",
        "    # Clip prediction values to avoid log(0) error.\n",
        "\n",
        "    y_pred = tf.clip_by_value(y_pred, 1e-9, 1.)\n",
        "\n",
        "    # Compute cross-entropy.\n",
        "\n",
        "    return tf.reduce_mean(-tf.reduce_sum(y_true * tf.math.log(y_pred)))"
      ],
      "metadata": {
        "id": "iLbiFgiea0kV"
      },
      "execution_count": 13,
      "outputs": []
    },
    {
      "cell_type": "markdown",
      "source": [
        "<br/><h2> <b> Defining optimizers and accuracy metrics.</b> </h2><br/>"
      ],
      "metadata": {
        "id": "BNjMoQ-A7nJt"
      }
    },
    {
      "cell_type": "code",
      "source": [
        "# Accuracy metric.\n",
        "\n",
        "def accuracy(y_pred, y_true):\n",
        "\n",
        "  # Predicted class is the index of the highest score in prediction vector (i.e. argmax).\n",
        "\n",
        "  correct_prediction = tf.equal(tf.argmax(y_pred, 1), tf.cast(y_true, tf.int64))\n",
        "\n",
        "  return tf.reduce_mean(tf.cast(correct_prediction, tf.float32))\n",
        "\n",
        "# Stochastic gradient descent optimizer.\n",
        "\n",
        "optimizer = tf.optimizers.SGD(learning_rate)"
      ],
      "metadata": {
        "id": "fVhCB8K8a7CX"
      },
      "execution_count": 14,
      "outputs": []
    },
    {
      "cell_type": "markdown",
      "source": [
        "<br/><h2> <b> Optimization process and updating weights and biases.</b> </h2><br/>"
      ],
      "metadata": {
        "id": "a6kvpriD7yL-"
      }
    },
    {
      "cell_type": "code",
      "source": [
        "# Optimization process. \n",
        "\n",
        "def run_optimization(x, y):\n",
        "\n",
        "# Wrap computation inside a GradientTape for automatic differentiation.\n",
        "\n",
        "    with tf.GradientTape() as g:\n",
        "\n",
        "        pred = logistic_regression(x)\n",
        "\n",
        "        loss = cross_entropy(pred, y)\n",
        "\n",
        "    # Compute gradients.\n",
        "\n",
        "    gradients = g.gradient(loss, [W, b])\n",
        "\n",
        "    # Update W and b following gradients.\n",
        "\n",
        "    optimizer.apply_gradients(zip(gradients, [W, b]))"
      ],
      "metadata": {
        "id": "RmPXiQ4vbDCm"
      },
      "execution_count": 15,
      "outputs": []
    },
    {
      "cell_type": "markdown",
      "source": [
        "<br/><h2> <b> The traning loop.</b> </h2><br/>"
      ],
      "metadata": {
        "id": "cQwP_M4n8BZu"
      }
    },
    {
      "cell_type": "code",
      "source": [
        "# Run training for the given number of steps.\n",
        "\n",
        "for step, (batch_x, batch_y) in enumerate(train_data.take(training_steps), 1):\n",
        "\n",
        "    # Run the optimization to update W and b values.\n",
        "\n",
        "    run_optimization(batch_x, batch_y)\n",
        "\n",
        "    if step % display_step == 0:\n",
        "\n",
        "        pred = logistic_regression(batch_x)\n",
        "\n",
        "        loss = cross_entropy(pred, batch_y)\n",
        "\n",
        "        acc = accuracy(pred, batch_y)\n",
        "\n",
        "        print(\"step: %i, loss: %f, accuracy: %f\" % (step, loss, acc))"
      ],
      "metadata": {
        "colab": {
          "base_uri": "https://localhost:8080/"
        },
        "id": "26d4lV1ObQkc",
        "outputId": "6e22f77d-e26a-4834-e642-ef76688a27f1"
      },
      "execution_count": 16,
      "outputs": [
        {
          "output_type": "stream",
          "name": "stdout",
          "text": [
            "step: 50, loss: 528.999451, accuracy: 0.839844\n",
            "step: 100, loss: 108.224426, accuracy: 0.894531\n",
            "step: 150, loss: 305.229431, accuracy: 0.730469\n",
            "step: 200, loss: 135.933777, accuracy: 0.890625\n",
            "step: 250, loss: 80.160927, accuracy: 0.921875\n",
            "step: 300, loss: 324.033691, accuracy: 0.746094\n",
            "step: 350, loss: 71.844398, accuracy: 0.917969\n",
            "step: 400, loss: 192.744522, accuracy: 0.820312\n",
            "step: 450, loss: 58.223103, accuracy: 0.921875\n",
            "step: 500, loss: 81.265228, accuracy: 0.910156\n",
            "step: 550, loss: 100.616714, accuracy: 0.851562\n",
            "step: 600, loss: 142.453857, accuracy: 0.851562\n",
            "step: 650, loss: 72.150513, accuracy: 0.906250\n",
            "step: 700, loss: 70.402649, accuracy: 0.925781\n",
            "step: 750, loss: 165.765366, accuracy: 0.871094\n",
            "step: 800, loss: 41.746349, accuracy: 0.941406\n",
            "step: 850, loss: 39.642990, accuracy: 0.941406\n",
            "step: 900, loss: 183.746918, accuracy: 0.855469\n",
            "step: 950, loss: 234.977417, accuracy: 0.847656\n",
            "step: 1000, loss: 40.009808, accuracy: 0.945312\n"
          ]
        }
      ]
    },
    {
      "cell_type": "markdown",
      "source": [
        "<br/><h2> <b> Testing model accuracy using testing data.</b> </h2><br/>"
      ],
      "metadata": {
        "id": "dRFrKzdV8Kvb"
      }
    },
    {
      "cell_type": "code",
      "source": [
        "# Test model on validation set.\n",
        "\n",
        "pred = logistic_regression(inputs_test)\n",
        "\n",
        "print(\"Test Accuracy: %f\" % accuracy(pred, targets_test))"
      ],
      "metadata": {
        "colab": {
          "base_uri": "https://localhost:8080/"
        },
        "id": "GjHSB4O8bVNP",
        "outputId": "bf646ae8-11bd-4c61-f26d-9114f29ec1eb"
      },
      "execution_count": 17,
      "outputs": [
        {
          "output_type": "stream",
          "name": "stdout",
          "text": [
            "Test Accuracy: 0.913900\n"
          ]
        }
      ]
    }
  ]
}