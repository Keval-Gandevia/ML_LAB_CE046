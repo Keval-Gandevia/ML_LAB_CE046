{
  "nbformat": 4,
  "nbformat_minor": 0,
  "metadata": {
    "colab": {
      "name": "Lab_7_CE046_Logistic_Regression_sklearn.ipynb",
      "provenance": [],
      "collapsed_sections": [
        "CfCUHEjq3rGD"
      ]
    },
    "kernelspec": {
      "name": "python3",
      "display_name": "Python 3"
    },
    "language_info": {
      "name": "python"
    }
  },
  "cells": [
    {
      "cell_type": "markdown",
      "source": [
        "<h1> <b> Lab - 6 </b> </h1>\n",
        "<h3>Logistic Regression on BuyComputer dataset.</h3>\n",
        "<br>"
      ],
      "metadata": {
        "id": "2mxZHMKe9Mpr"
      }
    },
    {
      "cell_type": "markdown",
      "source": [
        "<br/><h2> <b> Import Necessary libraries.</b> </h2><br/>"
      ],
      "metadata": {
        "id": "rd7K7m8g9hmV"
      }
    },
    {
      "cell_type": "code",
      "execution_count": 11,
      "metadata": {
        "id": "gpvi3-9l6vkF"
      },
      "outputs": [],
      "source": [
        "import numpy as np\n",
        "import pandas as pd\n",
        "import io\n",
        "import matplotlib.pyplot as plt"
      ]
    },
    {
      "cell_type": "code",
      "source": [
        "# want to import files from drive\n",
        "\n",
        "from google.colab import drive\n",
        "drive.mount('/content/drive')"
      ],
      "metadata": {
        "colab": {
          "base_uri": "https://localhost:8080/"
        },
        "id": "xo0qijDG87-h",
        "outputId": "cb75e176-421f-45bf-dc7b-7c0d6fd2c831"
      },
      "execution_count": 12,
      "outputs": [
        {
          "output_type": "stream",
          "name": "stdout",
          "text": [
            "Drive already mounted at /content/drive; to attempt to forcibly remount, call drive.mount(\"/content/drive\", force_remount=True).\n"
          ]
        }
      ]
    },
    {
      "cell_type": "markdown",
      "source": [
        "<br/><h2> <b> Read the data.</b> </h2><br/>"
      ],
      "metadata": {
        "id": "UWOwFHvt9qtZ"
      }
    },
    {
      "cell_type": "code",
      "source": [
        "data = pd.read_csv(\"/content/drive/MyDrive/ML LAB/BuyComputer.csv\")\n",
        "\n",
        "# drop User_Id column\n",
        "data.drop(columns = [\"User ID\",], axis = 1, inplace = True)\n",
        "\n",
        "data.head()"
      ],
      "metadata": {
        "colab": {
          "base_uri": "https://localhost:8080/",
          "height": 206
        },
        "id": "TbzWwGVm_DN3",
        "outputId": "8b14b74f-0a09-48fe-e54a-11533c9eced7"
      },
      "execution_count": 13,
      "outputs": [
        {
          "output_type": "execute_result",
          "data": {
            "text/html": [
              "\n",
              "  <div id=\"df-5874d43c-5078-4221-92b7-ba4fd37a43d3\">\n",
              "    <div class=\"colab-df-container\">\n",
              "      <div>\n",
              "<style scoped>\n",
              "    .dataframe tbody tr th:only-of-type {\n",
              "        vertical-align: middle;\n",
              "    }\n",
              "\n",
              "    .dataframe tbody tr th {\n",
              "        vertical-align: top;\n",
              "    }\n",
              "\n",
              "    .dataframe thead th {\n",
              "        text-align: right;\n",
              "    }\n",
              "</style>\n",
              "<table border=\"1\" class=\"dataframe\">\n",
              "  <thead>\n",
              "    <tr style=\"text-align: right;\">\n",
              "      <th></th>\n",
              "      <th>Age</th>\n",
              "      <th>EstimatedSalary</th>\n",
              "      <th>Purchased</th>\n",
              "    </tr>\n",
              "  </thead>\n",
              "  <tbody>\n",
              "    <tr>\n",
              "      <th>0</th>\n",
              "      <td>19</td>\n",
              "      <td>19000</td>\n",
              "      <td>0</td>\n",
              "    </tr>\n",
              "    <tr>\n",
              "      <th>1</th>\n",
              "      <td>35</td>\n",
              "      <td>20000</td>\n",
              "      <td>0</td>\n",
              "    </tr>\n",
              "    <tr>\n",
              "      <th>2</th>\n",
              "      <td>26</td>\n",
              "      <td>43000</td>\n",
              "      <td>0</td>\n",
              "    </tr>\n",
              "    <tr>\n",
              "      <th>3</th>\n",
              "      <td>27</td>\n",
              "      <td>57000</td>\n",
              "      <td>0</td>\n",
              "    </tr>\n",
              "    <tr>\n",
              "      <th>4</th>\n",
              "      <td>19</td>\n",
              "      <td>76000</td>\n",
              "      <td>0</td>\n",
              "    </tr>\n",
              "  </tbody>\n",
              "</table>\n",
              "</div>\n",
              "      <button class=\"colab-df-convert\" onclick=\"convertToInteractive('df-5874d43c-5078-4221-92b7-ba4fd37a43d3')\"\n",
              "              title=\"Convert this dataframe to an interactive table.\"\n",
              "              style=\"display:none;\">\n",
              "        \n",
              "  <svg xmlns=\"http://www.w3.org/2000/svg\" height=\"24px\"viewBox=\"0 0 24 24\"\n",
              "       width=\"24px\">\n",
              "    <path d=\"M0 0h24v24H0V0z\" fill=\"none\"/>\n",
              "    <path d=\"M18.56 5.44l.94 2.06.94-2.06 2.06-.94-2.06-.94-.94-2.06-.94 2.06-2.06.94zm-11 1L8.5 8.5l.94-2.06 2.06-.94-2.06-.94L8.5 2.5l-.94 2.06-2.06.94zm10 10l.94 2.06.94-2.06 2.06-.94-2.06-.94-.94-2.06-.94 2.06-2.06.94z\"/><path d=\"M17.41 7.96l-1.37-1.37c-.4-.4-.92-.59-1.43-.59-.52 0-1.04.2-1.43.59L10.3 9.45l-7.72 7.72c-.78.78-.78 2.05 0 2.83L4 21.41c.39.39.9.59 1.41.59.51 0 1.02-.2 1.41-.59l7.78-7.78 2.81-2.81c.8-.78.8-2.07 0-2.86zM5.41 20L4 18.59l7.72-7.72 1.47 1.35L5.41 20z\"/>\n",
              "  </svg>\n",
              "      </button>\n",
              "      \n",
              "  <style>\n",
              "    .colab-df-container {\n",
              "      display:flex;\n",
              "      flex-wrap:wrap;\n",
              "      gap: 12px;\n",
              "    }\n",
              "\n",
              "    .colab-df-convert {\n",
              "      background-color: #E8F0FE;\n",
              "      border: none;\n",
              "      border-radius: 50%;\n",
              "      cursor: pointer;\n",
              "      display: none;\n",
              "      fill: #1967D2;\n",
              "      height: 32px;\n",
              "      padding: 0 0 0 0;\n",
              "      width: 32px;\n",
              "    }\n",
              "\n",
              "    .colab-df-convert:hover {\n",
              "      background-color: #E2EBFA;\n",
              "      box-shadow: 0px 1px 2px rgba(60, 64, 67, 0.3), 0px 1px 3px 1px rgba(60, 64, 67, 0.15);\n",
              "      fill: #174EA6;\n",
              "    }\n",
              "\n",
              "    [theme=dark] .colab-df-convert {\n",
              "      background-color: #3B4455;\n",
              "      fill: #D2E3FC;\n",
              "    }\n",
              "\n",
              "    [theme=dark] .colab-df-convert:hover {\n",
              "      background-color: #434B5C;\n",
              "      box-shadow: 0px 1px 3px 1px rgba(0, 0, 0, 0.15);\n",
              "      filter: drop-shadow(0px 1px 2px rgba(0, 0, 0, 0.3));\n",
              "      fill: #FFFFFF;\n",
              "    }\n",
              "  </style>\n",
              "\n",
              "      <script>\n",
              "        const buttonEl =\n",
              "          document.querySelector('#df-5874d43c-5078-4221-92b7-ba4fd37a43d3 button.colab-df-convert');\n",
              "        buttonEl.style.display =\n",
              "          google.colab.kernel.accessAllowed ? 'block' : 'none';\n",
              "\n",
              "        async function convertToInteractive(key) {\n",
              "          const element = document.querySelector('#df-5874d43c-5078-4221-92b7-ba4fd37a43d3');\n",
              "          const dataTable =\n",
              "            await google.colab.kernel.invokeFunction('convertToInteractive',\n",
              "                                                     [key], {});\n",
              "          if (!dataTable) return;\n",
              "\n",
              "          const docLinkHtml = 'Like what you see? Visit the ' +\n",
              "            '<a target=\"_blank\" href=https://colab.research.google.com/notebooks/data_table.ipynb>data table notebook</a>'\n",
              "            + ' to learn more about interactive tables.';\n",
              "          element.innerHTML = '';\n",
              "          dataTable['output_type'] = 'display_data';\n",
              "          await google.colab.output.renderOutput(dataTable, element);\n",
              "          const docLink = document.createElement('div');\n",
              "          docLink.innerHTML = docLinkHtml;\n",
              "          element.appendChild(docLink);\n",
              "        }\n",
              "      </script>\n",
              "    </div>\n",
              "  </div>\n",
              "  "
            ],
            "text/plain": [
              "   Age  EstimatedSalary  Purchased\n",
              "0   19            19000          0\n",
              "1   35            20000          0\n",
              "2   26            43000          0\n",
              "3   27            57000          0\n",
              "4   19            76000          0"
            ]
          },
          "metadata": {},
          "execution_count": 13
        }
      ]
    },
    {
      "cell_type": "markdown",
      "source": [
        "<br/><h2> <b> Extract inputs and targets from the dataset.</b> </h2><br/>"
      ],
      "metadata": {
        "id": "hkTC4vfl9wRZ"
      }
    },
    {
      "cell_type": "code",
      "source": [
        "targets = data.loc[:, data.columns == \"Purchased\"].values\n",
        "# print(\"Targets: \\n\", targets)"
      ],
      "metadata": {
        "id": "t1gbyFNf_ux8"
      },
      "execution_count": 14,
      "outputs": []
    },
    {
      "cell_type": "code",
      "source": [
        "features = data.loc[:, data.columns != \"Purchased\"].values\n",
        "# print(\"Features: \\n\", features)"
      ],
      "metadata": {
        "id": "HVdkM878AS1U"
      },
      "execution_count": 15,
      "outputs": []
    },
    {
      "cell_type": "markdown",
      "source": [
        "<br/><h2> <b> Split the dataset into training and testing dataset.</b> </h2><br/>"
      ],
      "metadata": {
        "id": "U9VaXaML97jI"
      }
    },
    {
      "cell_type": "code",
      "source": [
        "# Splitting the dataset into train and test\n",
        "from sklearn.model_selection import train_test_split\n",
        "\n",
        "inputs_train, inputs_test, targets_train, targets_test = train_test_split( \n",
        "    features, targets, test_size = 0.2, random_state = 46)\n",
        "\n",
        "print(\"Shape of training data: \", inputs_train.shape)\n",
        "print(\"\\nShape of testing data: \", inputs_test.shape)"
      ],
      "metadata": {
        "colab": {
          "base_uri": "https://localhost:8080/"
        },
        "id": "D1-rLR2fAsdI",
        "outputId": "68c8febb-4899-4b51-c626-3a57de8ddb9f"
      },
      "execution_count": 16,
      "outputs": [
        {
          "output_type": "stream",
          "name": "stdout",
          "text": [
            "Shape of training data:  (320, 2)\n",
            "\n",
            "Shape of testing data:  (80, 2)\n"
          ]
        }
      ]
    },
    {
      "cell_type": "markdown",
      "source": [
        "# Logistic Regression from the scratch"
      ],
      "metadata": {
        "id": "pRqV-46e_Fvr"
      }
    },
    {
      "cell_type": "markdown",
      "source": [
        "<br/><h2> <b> Scale the data.</b> </h2><br/>"
      ],
      "metadata": {
        "id": "zqZkKWIx-G7C"
      }
    },
    {
      "cell_type": "code",
      "source": [
        "# Sacaling data\n",
        "from sklearn.preprocessing import StandardScaler\n",
        "sc = StandardScaler()\n",
        "inputs_train = sc.fit_transform(inputs_train)\n",
        "inputs_test = sc.fit_transform(inputs_test)\n"
      ],
      "metadata": {
        "id": "AkQUGZ5lAyZA"
      },
      "execution_count": 17,
      "outputs": []
    },
    {
      "cell_type": "markdown",
      "source": [
        "<br/><h2> <b> Defining the class LogisticRegression.</b> </h2><br/>"
      ],
      "metadata": {
        "id": "9M_mhjrY-V-f"
      }
    },
    {
      "cell_type": "code",
      "source": [
        "class LogisticRegression:\n",
        "  \n",
        "  # used to initialize the values\n",
        "  def initialize(self, x):\n",
        "    weights = np.zeros((np.shape(x)[1] + 1, 1))\n",
        "    x = np.c_[np.ones((np.shape(x)[0], 1)), x]\n",
        "    return weights, x\n",
        "\n",
        "  # sigmoid function\n",
        "  def sigmoid(self, z):\n",
        "    sig = 1 / (1 + np.exp(-z))\n",
        "    return sig\n",
        "\n",
        "  def fit(self, x, y, alpha = 0.001, iter = 3000):\n",
        "    weights, x = self.initialize(x)\n",
        "\n",
        "    def cost(theta):\n",
        "      z = np.dot(x, theta)\n",
        "      cost0 = y.T.dot(np.log(self.sigmoid(z)))\n",
        "      cost1 = (1-y).T.dot(np.log(1 - self.sigmoid(z)))\n",
        "      cost = -((cost1 + cost0)) / len(y)\n",
        "      return cost\n",
        "    \n",
        "    cost_list = np.zeros(iter,)\n",
        "    for i in range(iter):\n",
        "      weights = weights - alpha * np.dot(x.T, self.sigmoid(np.dot(x, weights)) - np.reshape(y, (len(y), 1)))\n",
        "      cost_list[i] = cost(weights)\n",
        "      self.weights = weights\n",
        "      return cost_list\n",
        "\n",
        "  # used to make prediction\n",
        "  def predict(self, x):\n",
        "    z = np.dot(self.initialize(x)[1], self.weights)\n",
        "    lis = []\n",
        "    for i in self.sigmoid(z):\n",
        "      if i > 0.5:\n",
        "        lis.append(1)\n",
        "      else:\n",
        "        lis.append(0)\n",
        "    return lis\n",
        "  \n",
        "  \n",
        "    "
      ],
      "metadata": {
        "id": "OQeYJvil0Ety"
      },
      "execution_count": 18,
      "outputs": []
    },
    {
      "cell_type": "markdown",
      "source": [
        "<br/><h2> <b> Making the prediction.</b> </h2><br/>"
      ],
      "metadata": {
        "id": "SnJvAzHf-lA3"
      }
    },
    {
      "cell_type": "code",
      "source": [
        "obj = LogisticRegression()\n",
        "model = obj.fit(inputs_train, targets_train)\n",
        "y_pred = obj.predict(inputs_test)\n",
        "# y_pred\n"
      ],
      "metadata": {
        "id": "tE9jNvkG1_T6"
      },
      "execution_count": 20,
      "outputs": []
    },
    {
      "cell_type": "code",
      "source": [
        "from sklearn import metrics\n",
        "print(\"Accuracy: \", metrics.accuracy_score(targets_test, y_pred))"
      ],
      "metadata": {
        "colab": {
          "base_uri": "https://localhost:8080/"
        },
        "id": "UMXwn4kc22rf",
        "outputId": "396d2478-024e-4d5d-9b84-fcc3fba5dd5b"
      },
      "execution_count": 21,
      "outputs": [
        {
          "output_type": "stream",
          "name": "stdout",
          "text": [
            "Accuracy:  0.8375\n"
          ]
        }
      ]
    },
    {
      "cell_type": "markdown",
      "source": [
        "# Using in-built LogisticRegression of sklearn"
      ],
      "metadata": {
        "id": "0SKF46kj-3th"
      }
    },
    {
      "cell_type": "code",
      "source": [
        "# import the class\n",
        "from sklearn.linear_model import LogisticRegression\n",
        "\n",
        "# instantiate the model (using the default parameters)\n",
        "logreg = LogisticRegression()\n",
        "\n",
        "# fit the model with data\n",
        "logreg.fit(inputs_train, targets_train)\n",
        "\n",
        "y_prediction = logreg.predict(inputs_test)"
      ],
      "metadata": {
        "colab": {
          "base_uri": "https://localhost:8080/"
        },
        "id": "HDwA9a3y82uU",
        "outputId": "08eeced2-c107-4578-ee04-f6a82d94a5cd"
      },
      "execution_count": 22,
      "outputs": [
        {
          "output_type": "stream",
          "name": "stderr",
          "text": [
            "/usr/local/lib/python3.7/dist-packages/sklearn/utils/validation.py:993: DataConversionWarning: A column-vector y was passed when a 1d array was expected. Please change the shape of y to (n_samples, ), for example using ravel().\n",
            "  y = column_or_1d(y, warn=True)\n"
          ]
        }
      ]
    },
    {
      "cell_type": "code",
      "source": [
        "from sklearn import metrics\n",
        "print(\"Accuracy: \", metrics.accuracy_score(targets_test, y_prediction))"
      ],
      "metadata": {
        "colab": {
          "base_uri": "https://localhost:8080/"
        },
        "id": "SFkPLO8q821u",
        "outputId": "7f63b971-18e0-4315-af44-6bd1a821642d"
      },
      "execution_count": 24,
      "outputs": [
        {
          "output_type": "stream",
          "name": "stdout",
          "text": [
            "Accuracy:  0.85\n"
          ]
        }
      ]
    },
    {
      "cell_type": "markdown",
      "source": [
        "# Observation"
      ],
      "metadata": {
        "id": "CfCUHEjq3rGD"
      }
    },
    {
      "cell_type": "markdown",
      "source": [
        "<br/><h2> <b> If we take a look at the accuracies of the both model one using scracth and one using in-built library of sklearn. In both cases, we are achieving the good accuracy.</b> </h2><br/>"
      ],
      "metadata": {
        "id": "n_m8buQy3uJU"
      }
    }
  ]
}