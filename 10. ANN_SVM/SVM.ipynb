{
  "nbformat": 4,
  "nbformat_minor": 0,
  "metadata": {
    "colab": {
      "name": "Lab_10_CE046_SVM.ipynb",
      "provenance": []
    },
    "kernelspec": {
      "name": "python3",
      "display_name": "Python 3"
    },
    "language_info": {
      "name": "python"
    }
  },
  "cells": [
    {
      "cell_type": "markdown",
      "source": [
        "<h1> <b> Lab - 10 </b> </h1>\n",
        "<h3>Support Vector Machine on mnist dataset.</h3>\n",
        "<br>"
      ],
      "metadata": {
        "id": "EHuHg33W3DVi"
      }
    },
    {
      "cell_type": "code",
      "source": [
        "pip install -q tfds-nightly tensorflow matplotlib"
      ],
      "metadata": {
        "colab": {
          "base_uri": "https://localhost:8080/"
        },
        "id": "40vCIc8Dwx_p",
        "outputId": "db591fa3-ad11-4f3f-a034-5885c37514be"
      },
      "execution_count": 2,
      "outputs": [
        {
          "output_type": "stream",
          "name": "stdout",
          "text": [
            "\u001b[K     |████████████████████████████████| 4.2 MB 4.1 MB/s \n",
            "\u001b[K     |████████████████████████████████| 76 kB 5.0 MB/s \n",
            "\u001b[K     |████████████████████████████████| 462 kB 49.2 MB/s \n",
            "\u001b[?25h"
          ]
        }
      ]
    },
    {
      "cell_type": "markdown",
      "source": [
        "<br/><h2> <b> Import necessary modules.</b> </h2><br/>"
      ],
      "metadata": {
        "id": "xXfgJ2F63KPp"
      }
    },
    {
      "cell_type": "code",
      "execution_count": 2,
      "metadata": {
        "id": "13ASV08Fwgsz"
      },
      "outputs": [],
      "source": [
        "import numpy as np\n",
        "import pandas as pd\n",
        "from sklearn.model_selection import train_test_split\n",
        "from sklearn.svm import SVC\n",
        "from sklearn.metrics import confusion_matrix\n",
        "from sklearn.model_selection import validation_curve\n",
        "from sklearn.model_selection import KFold\n",
        "from sklearn.model_selection import cross_val_score\n",
        "from sklearn.model_selection import GridSearchCV\n",
        "import matplotlib.pyplot as plt\n",
        "import seaborn as sns\n",
        "import tensorflow"
      ]
    },
    {
      "cell_type": "markdown",
      "source": [
        "<br/><h2> <b> Load the data.</b> </h2><br/>\n"
      ],
      "metadata": {
        "id": "ewMiAKE03Lad"
      }
    },
    {
      "cell_type": "code",
      "source": [
        "from tensorflow.keras.datasets import mnist\n",
        "(features_train, targets_train), (features_test, targets_test) = mnist.load_data()"
      ],
      "metadata": {
        "id": "w8JLva32w8aK"
      },
      "execution_count": 3,
      "outputs": []
    },
    {
      "cell_type": "markdown",
      "source": [
        "<br/><h2> <b> Convert to float32.</b> </h2><br/>"
      ],
      "metadata": {
        "id": "sRAUUfsI3Nb7"
      }
    },
    {
      "cell_type": "code",
      "source": [
        "features_train, features_test = np.array(features_train, np.float32), np.array(features_test, np.float32)"
      ],
      "metadata": {
        "id": "Stqjx0iNxjhF"
      },
      "execution_count": 4,
      "outputs": []
    },
    {
      "cell_type": "markdown",
      "source": [
        "<br/><h2> <b>Flatten images to 1-D vector of 784 features (28*28).</b> </h2><br/>"
      ],
      "metadata": {
        "id": "K8FsKwXW3P6Z"
      }
    },
    {
      "cell_type": "code",
      "source": [
        "features_train, features_test = features_train.reshape([-1, 784]), features_test.reshape([-1, 784])"
      ],
      "metadata": {
        "id": "XAYibT9IymY-"
      },
      "execution_count": 5,
      "outputs": []
    },
    {
      "cell_type": "markdown",
      "source": [
        "<br/><h2> <b>Normalize images value from [0, 255] to [0, 1].</b> </h2><br/>"
      ],
      "metadata": {
        "id": "poRn0-m53SZQ"
      }
    },
    {
      "cell_type": "code",
      "source": [
        "features_train, features_test = features_train / 255., features_test / 255."
      ],
      "metadata": {
        "id": "NNKtrUQ9ym74"
      },
      "execution_count": 6,
      "outputs": []
    },
    {
      "cell_type": "markdown",
      "source": [
        "<br/><h2> <b>Visualize one of the images in data set.</b> </h2><br/>"
      ],
      "metadata": {
        "id": "6_I_EgDy3VZc"
      }
    },
    {
      "cell_type": "code",
      "source": [
        "plt.imshow(features_train[15].reshape(28,28))\n",
        "plt.axis(\"off\")\n",
        "plt.title(str(targets_train[15]))\n",
        "plt.savefig('image.png')\n",
        "plt.show()"
      ],
      "metadata": {
        "colab": {
          "base_uri": "https://localhost:8080/",
          "height": 264
        },
        "id": "e-2DnL2dyovr",
        "outputId": "f928866b-e5a6-426a-93d3-1f1154834222"
      },
      "execution_count": 7,
      "outputs": [
        {
          "output_type": "display_data",
          "data": {
            "image/png": "[encoded data removed]",
            "text/plain": [
              "<Figure size 432x288 with 1 Axes>"
            ]
          },
          "metadata": {
            "needs_background": "light"
          }
        }
      ]
    },
    {
      "cell_type": "markdown",
      "source": [
        "<br/><h2> <b>Create SVM model and predict.</b> </h2><br/>\n",
        "\n"
      ],
      "metadata": {
        "id": "d7iyDstm3YYG"
      }
    },
    {
      "cell_type": "code",
      "source": [
        "model = SVC(gamma=\"auto\")"
      ],
      "metadata": {
        "id": "7G9tbNeeytl8"
      },
      "execution_count": 9,
      "outputs": []
    },
    {
      "cell_type": "code",
      "source": [
        "model.fit(features_train, targets_train)"
      ],
      "metadata": {
        "colab": {
          "base_uri": "https://localhost:8080/"
        },
        "id": "rd_p924_1vGM",
        "outputId": "3114d446-c530-4ccc-e6a9-45d750a8143b"
      },
      "execution_count": 11,
      "outputs": [
        {
          "output_type": "execute_result",
          "data": {
            "text/plain": [
              "SVC(gamma='auto')"
            ]
          },
          "metadata": {},
          "execution_count": 11
        }
      ]
    },
    {
      "cell_type": "code",
      "source": [
        "targets_predict = model.predict(features_test)"
      ],
      "metadata": {
        "id": "kwBeXozty8Dl"
      },
      "execution_count": 12,
      "outputs": []
    },
    {
      "cell_type": "markdown",
      "source": [
        "<br/><h2> <b>Find accuracy.</b> </h2><br/>\n",
        "\n"
      ],
      "metadata": {
        "id": "B5ozI4jL3fNk"
      }
    },
    {
      "cell_type": "code",
      "source": [
        "from sklearn import metrics\n",
        "\n",
        "# accuracy\n",
        "print(\"Accuracy: \", metrics.accuracy_score(targets_test, targets_predict))"
      ],
      "metadata": {
        "colab": {
          "base_uri": "https://localhost:8080/"
        },
        "id": "iY2w6Typ2ls4",
        "outputId": "6e6727aa-8b8f-4208-d4cb-94a05d202430"
      },
      "execution_count": 13,
      "outputs": [
        {
          "output_type": "stream",
          "name": "stdout",
          "text": [
            "Accuracy:  0.9446 \n",
            "\n"
          ]
        }
      ]
    }
  ]
}