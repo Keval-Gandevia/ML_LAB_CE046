{
  "nbformat": 4,
  "nbformat_minor": 0,
  "metadata": {
    "colab": {
      "name": "Lab_4_CE046_Linear_Regression_SkLearn.ipynb",
      "provenance": [],
      "collapsed_sections": []
    },
    "kernelspec": {
      "name": "python3",
      "display_name": "Python 3"
    },
    "language_info": {
      "name": "python"
    }
  },
  "cells": [
    {
      "cell_type": "markdown",
      "source": [
        "<h1> <b> Lab - 4 </b> </h1>\n",
        "<br>\n",
        "\n",
        "<h3>Linear Regression using sklearn</h2>\n",
        "<br>"
      ],
      "metadata": {
        "id": "I9LRq170-alx"
      }
    },
    {
      "cell_type": "code",
      "execution_count": 1,
      "metadata": {
        "id": "zwMs85AU9i-B"
      },
      "outputs": [],
      "source": [
        "# Import necessary libraries\n",
        "import numpy as np\n",
        "import matplotlib.pyplot as plt\n",
        "from sklearn.linear_model import LinearRegression"
      ]
    },
    {
      "cell_type": "markdown",
      "source": [
        "<br/><h2> <b> Declare inputs and targets using numpy array  </b> </h2><br/>"
      ],
      "metadata": {
        "id": "v_ztosI__GAd"
      }
    },
    {
      "cell_type": "code",
      "source": [
        "# Input (temp, rainfall, humidity)\n",
        "inputs = np.array([[73, 67, 43], [91, 88, 64], [87, 134, 58], [102, 43, 37],[69, 96, 70], [73, 67, 43], [91, 88, 64], [87, 134, 58], [102, 43, 37], \n",
        "                   [69,96, 70], [73, 67, 43], [91, 88, 64], [87, 134, 58], [102, 43, 37], [69, 96, 70]], dtype='float32')\n",
        "\n",
        "# Targets (apples, oranges)\n",
        "targets = np.array([[56, 70], [81, 101], [119, 133], [22, 37], [103, 119], [56, 70], [81, 101], [119, 133], [22, 37], [103, 119], \n",
        "                    [56, 70], [81, 101], [119, 133], [22, 37], [103, 119]],dtype='float32')"
      ],
      "metadata": {
        "id": "t1aQk4ZO-yyH"
      },
      "execution_count": 2,
      "outputs": []
    },
    {
      "cell_type": "markdown",
      "source": [
        "<br/><h2> <b> Split the dataset into training and testing data. </b> </h2><br/>"
      ],
      "metadata": {
        "id": "O85_1noz85VN"
      }
    },
    {
      "cell_type": "code",
      "source": [
        "from sklearn.model_selection import train_test_split\n",
        "\n",
        "inputs_train, inputs_test, targets_train, targets_test = train_test_split(inputs, targets, test_size = 0.25)\n"
      ],
      "metadata": {
        "id": "0Io4kOGr_t0f"
      },
      "execution_count": 3,
      "outputs": []
    },
    {
      "cell_type": "markdown",
      "source": [
        "<br/><h2> <b> Create model  </b> </h2><br/>"
      ],
      "metadata": {
        "id": "9hhkvHNY_bCc"
      }
    },
    {
      "cell_type": "code",
      "source": [
        "model = LinearRegression().fit(inputs_train, targets_train)"
      ],
      "metadata": {
        "id": "h-_fEIsd_AKa"
      },
      "execution_count": 4,
      "outputs": []
    },
    {
      "cell_type": "markdown",
      "source": [
        "<br/><h2> <b> Get the results </b> </h2> <br/>"
      ],
      "metadata": {
        "id": "W02cBWvx_z_U"
      }
    },
    {
      "cell_type": "code",
      "source": [
        "score = model.score(inputs_test, targets_test)\n",
        "print(\"Score is: \", score)\n",
        "\n",
        "intercept = model.intercept_\n",
        "print(\"\\nIntercept is: \", intercept)\n",
        "\n",
        "slope = model.coef_\n",
        "print(\"\\nSlope is: \", slope)"
      ],
      "metadata": {
        "colab": {
          "base_uri": "https://localhost:8080/"
        },
        "id": "8brX7UFwDPjc",
        "outputId": "718a3c5c-4468-49e1-8583-4e63ab8225b5"
      },
      "execution_count": 5,
      "outputs": [
        {
          "output_type": "stream",
          "name": "stdout",
          "text": [
            "Score is:  0.997648405363033\n",
            "\n",
            "Intercept is:  [-2.9530487 -2.126114 ]\n",
            "\n",
            "Slope is:  [[-0.37444544  0.84065974  0.712081  ]\n",
            " [-0.28607827  0.79450464  0.9240006 ]]\n"
          ]
        }
      ]
    },
    {
      "cell_type": "code",
      "source": [
        "target_pred = model.predict(inputs_test)\n",
        "print(\"Predicted value is: \\n\", target_pred)\n",
        "print(\"\\n\\n\")\n",
        "\n",
        "print(\"Actual targets: \\n\", targets_test)"
      ],
      "metadata": {
        "colab": {
          "base_uri": "https://localhost:8080/"
        },
        "id": "bhNlsHlGETzQ",
        "outputId": "6443da8c-d66a-4389-a463-fec12be6ee77"
      },
      "execution_count": 6,
      "outputs": [
        {
          "output_type": "stream",
          "name": "stdout",
          "text": [
            "Predicted value is: \n",
            " [[118.419304 133.04074 ]\n",
            " [118.419304 133.04074 ]\n",
            " [ 82.52366  100.89321 ]\n",
            " [101.759224 119.086975]]\n",
            "\n",
            "\n",
            "\n",
            "Actual targets: \n",
            " [[119. 133.]\n",
            " [119. 133.]\n",
            " [ 81. 101.]\n",
            " [103. 119.]]\n"
          ]
        }
      ]
    },
    {
      "cell_type": "code",
      "source": [
        "plt.scatter(targets_test[:, 0], targets_test[:, 1], color = 'r')\n",
        "plt.scatter(target_pred[:, 0], target_pred[:, 1], color = 'g')\n",
        "plt.show()"
      ],
      "metadata": {
        "colab": {
          "base_uri": "https://localhost:8080/",
          "height": 265
        },
        "id": "bk8UnqGh28S9",
        "outputId": "316d9d11-b4a8-4e07-a0a7-2b342be7fe11"
      },
      "execution_count": 7,
      "outputs": [
        {
          "output_type": "display_data",
          "data": {
            "image/png": "[encoded data removed]",
            "text/plain": [
              "<Figure size 432x288 with 1 Axes>"
            ]
          },
          "metadata": {
            "needs_background": "light"
          }
        }
      ]
    },
    {
      "cell_type": "markdown",
      "source": [
        "<br/><h2> <b> Compute the loss </b> </h2> <br/>"
      ],
      "metadata": {
        "id": "eER_7I2vGao5"
      }
    },
    {
      "cell_type": "code",
      "source": [
        "from sklearn.metrics import mean_squared_error\n",
        "\n",
        "MSE = mean_squared_error(targets_test, target_pred)\n",
        "print(MSE)"
      ],
      "metadata": {
        "colab": {
          "base_uri": "https://localhost:8080/"
        },
        "id": "gNay2X69Geol",
        "outputId": "645b92f9-f726-4bb6-93f7-a9f04fa0caa0"
      },
      "execution_count": 8,
      "outputs": [
        {
          "output_type": "stream",
          "name": "stdout",
          "text": [
            "0.56972075\n"
          ]
        }
      ]
    }
  ]
}