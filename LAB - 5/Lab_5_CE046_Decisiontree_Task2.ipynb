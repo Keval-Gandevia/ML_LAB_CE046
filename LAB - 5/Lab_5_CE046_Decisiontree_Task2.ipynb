{
  "nbformat": 4,
  "nbformat_minor": 0,
  "metadata": {
    "colab": {
      "name": "Lab_5_CE046_Decisiontree_Task2.ipynb",
      "provenance": [],
      "collapsed_sections": []
    },
    "kernelspec": {
      "name": "python3",
      "display_name": "Python 3"
    },
    "language_info": {
      "name": "python"
    }
  },
  "cells": [
    {
      "cell_type": "markdown",
      "source": [
        "<h1> <b> Lab - 5 </b> </h1>\n",
        "<br>\n",
        "<h3>Decision tree implementation on digits dataset</h3>\n",
        "<br>"
      ],
      "metadata": {
        "id": "iqNcvN4z2ajL"
      }
    },
    {
      "cell_type": "code",
      "execution_count": 1,
      "metadata": {
        "id": "yE-8MiAR2RsX"
      },
      "outputs": [],
      "source": [
        "#Import scikit-learn dataset library\n",
        "from sklearn import datasets\n",
        "from sklearn.tree import DecisionTreeClassifier\n",
        "import pandas as pd\n",
        "import numpy as np"
      ]
    },
    {
      "cell_type": "markdown",
      "source": [
        "<br/><h2> <b> Load dataset </b> </h2><br/>"
      ],
      "metadata": {
        "id": "wD6cBUc-B04a"
      }
    },
    {
      "cell_type": "code",
      "source": [
        "digits = datasets.load_digits()\n",
        "digits"
      ],
      "metadata": {
        "colab": {
          "base_uri": "https://localhost:8080/"
        },
        "id": "7ctMaFdJdGXq",
        "outputId": "3220e3ee-6667-4c77-f122-1f7e353c6136"
      },
      "execution_count": 2,
      "outputs": [
        {
          "output_type": "execute_result",
          "data": {
            "text/plain": [
              "{'DESCR': \".. _digits_dataset:\\n\\nOptical recognition of handwritten digits dataset\\n--------------------------------------------------\\n\\n**Data Set Characteristics:**\\n\\n    :Number of Instances: 1797\\n    :Number of Attributes: 64\\n    :Attribute Information: 8x8 image of integer pixels in the range 0..16.\\n    :Missing Attribute Values: None\\n    :Creator: E. Alpaydin (alpaydin '@' boun.edu.tr)\\n    :Date: July; 1998\\n\\nThis is a copy of the test set of the UCI ML hand-written digits datasets\\nhttps://archive.ics.uci.edu/ml/datasets/Optical+Recognition+of+Handwritten+Digits\\n\\nThe data set contains images of hand-written digits: 10 classes where\\neach class refers to a digit.\\n\\nPreprocessing programs made available by NIST were used to extract\\nnormalized bitmaps of handwritten digits from a preprinted form. From a\\ntotal of 43 people, 30 contributed to the training set and different 13\\nto the test set. 32x32 bitmaps are divided into nonoverlapping blocks of\\n4x4 and the number of on pixels are counted in each block. This generates\\nan input matrix of 8x8 where each element is an integer in the range\\n0..16. This reduces dimensionality and gives invariance to small\\ndistortions.\\n\\nFor info on NIST preprocessing routines, see M. D. Garris, J. L. Blue, G.\\nT. Candela, D. L. Dimmick, J. Geist, P. J. Grother, S. A. Janet, and C.\\nL. Wilson, NIST Form-Based Handprint Recognition System, NISTIR 5469,\\n1994.\\n\\n.. topic:: References\\n\\n  - C. Kaynak (1995) Methods of Combining Multiple Classifiers and Their\\n    Applications to Handwritten Digit Recognition, MSc Thesis, Institute of\\n    Graduate Studies in Science and Engineering, Bogazici University.\\n  - E. Alpaydin, C. Kaynak (1998) Cascading Classifiers, Kybernetika.\\n  - Ken Tang and Ponnuthurai N. Suganthan and Xi Yao and A. Kai Qin.\\n    Linear dimensionalityreduction using relevance weighted LDA. School of\\n    Electrical and Electronic Engineering Nanyang Technological University.\\n    2005.\\n  - Claudio Gentile. A New Approximate Maximal Margin Classification\\n    Algorithm. NIPS. 2000.\\n\",\n",
              " 'data': array([[ 0.,  0.,  5., ...,  0.,  0.,  0.],\n",
              "        [ 0.,  0.,  0., ..., 10.,  0.,  0.],\n",
              "        [ 0.,  0.,  0., ..., 16.,  9.,  0.],\n",
              "        ...,\n",
              "        [ 0.,  0.,  1., ...,  6.,  0.,  0.],\n",
              "        [ 0.,  0.,  2., ..., 12.,  0.,  0.],\n",
              "        [ 0.,  0., 10., ..., 12.,  1.,  0.]]),\n",
              " 'feature_names': ['pixel_0_0',\n",
              "  'pixel_0_1',\n",
              "  'pixel_0_2',\n",
              "  'pixel_0_3',\n",
              "  'pixel_0_4',\n",
              "  'pixel_0_5',\n",
              "  'pixel_0_6',\n",
              "  'pixel_0_7',\n",
              "  'pixel_1_0',\n",
              "  'pixel_1_1',\n",
              "  'pixel_1_2',\n",
              "  'pixel_1_3',\n",
              "  'pixel_1_4',\n",
              "  'pixel_1_5',\n",
              "  'pixel_1_6',\n",
              "  'pixel_1_7',\n",
              "  'pixel_2_0',\n",
              "  'pixel_2_1',\n",
              "  'pixel_2_2',\n",
              "  'pixel_2_3',\n",
              "  'pixel_2_4',\n",
              "  'pixel_2_5',\n",
              "  'pixel_2_6',\n",
              "  'pixel_2_7',\n",
              "  'pixel_3_0',\n",
              "  'pixel_3_1',\n",
              "  'pixel_3_2',\n",
              "  'pixel_3_3',\n",
              "  'pixel_3_4',\n",
              "  'pixel_3_5',\n",
              "  'pixel_3_6',\n",
              "  'pixel_3_7',\n",
              "  'pixel_4_0',\n",
              "  'pixel_4_1',\n",
              "  'pixel_4_2',\n",
              "  'pixel_4_3',\n",
              "  'pixel_4_4',\n",
              "  'pixel_4_5',\n",
              "  'pixel_4_6',\n",
              "  'pixel_4_7',\n",
              "  'pixel_5_0',\n",
              "  'pixel_5_1',\n",
              "  'pixel_5_2',\n",
              "  'pixel_5_3',\n",
              "  'pixel_5_4',\n",
              "  'pixel_5_5',\n",
              "  'pixel_5_6',\n",
              "  'pixel_5_7',\n",
              "  'pixel_6_0',\n",
              "  'pixel_6_1',\n",
              "  'pixel_6_2',\n",
              "  'pixel_6_3',\n",
              "  'pixel_6_4',\n",
              "  'pixel_6_5',\n",
              "  'pixel_6_6',\n",
              "  'pixel_6_7',\n",
              "  'pixel_7_0',\n",
              "  'pixel_7_1',\n",
              "  'pixel_7_2',\n",
              "  'pixel_7_3',\n",
              "  'pixel_7_4',\n",
              "  'pixel_7_5',\n",
              "  'pixel_7_6',\n",
              "  'pixel_7_7'],\n",
              " 'frame': None,\n",
              " 'images': array([[[ 0.,  0.,  5., ...,  1.,  0.,  0.],\n",
              "         [ 0.,  0., 13., ..., 15.,  5.,  0.],\n",
              "         [ 0.,  3., 15., ..., 11.,  8.,  0.],\n",
              "         ...,\n",
              "         [ 0.,  4., 11., ..., 12.,  7.,  0.],\n",
              "         [ 0.,  2., 14., ..., 12.,  0.,  0.],\n",
              "         [ 0.,  0.,  6., ...,  0.,  0.,  0.]],\n",
              " \n",
              "        [[ 0.,  0.,  0., ...,  5.,  0.,  0.],\n",
              "         [ 0.,  0.,  0., ...,  9.,  0.,  0.],\n",
              "         [ 0.,  0.,  3., ...,  6.,  0.,  0.],\n",
              "         ...,\n",
              "         [ 0.,  0.,  1., ...,  6.,  0.,  0.],\n",
              "         [ 0.,  0.,  1., ...,  6.,  0.,  0.],\n",
              "         [ 0.,  0.,  0., ..., 10.,  0.,  0.]],\n",
              " \n",
              "        [[ 0.,  0.,  0., ..., 12.,  0.,  0.],\n",
              "         [ 0.,  0.,  3., ..., 14.,  0.,  0.],\n",
              "         [ 0.,  0.,  8., ..., 16.,  0.,  0.],\n",
              "         ...,\n",
              "         [ 0.,  9., 16., ...,  0.,  0.,  0.],\n",
              "         [ 0.,  3., 13., ..., 11.,  5.,  0.],\n",
              "         [ 0.,  0.,  0., ..., 16.,  9.,  0.]],\n",
              " \n",
              "        ...,\n",
              " \n",
              "        [[ 0.,  0.,  1., ...,  1.,  0.,  0.],\n",
              "         [ 0.,  0., 13., ...,  2.,  1.,  0.],\n",
              "         [ 0.,  0., 16., ..., 16.,  5.,  0.],\n",
              "         ...,\n",
              "         [ 0.,  0., 16., ..., 15.,  0.,  0.],\n",
              "         [ 0.,  0., 15., ..., 16.,  0.,  0.],\n",
              "         [ 0.,  0.,  2., ...,  6.,  0.,  0.]],\n",
              " \n",
              "        [[ 0.,  0.,  2., ...,  0.,  0.,  0.],\n",
              "         [ 0.,  0., 14., ..., 15.,  1.,  0.],\n",
              "         [ 0.,  4., 16., ..., 16.,  7.,  0.],\n",
              "         ...,\n",
              "         [ 0.,  0.,  0., ..., 16.,  2.,  0.],\n",
              "         [ 0.,  0.,  4., ..., 16.,  2.,  0.],\n",
              "         [ 0.,  0.,  5., ..., 12.,  0.,  0.]],\n",
              " \n",
              "        [[ 0.,  0., 10., ...,  1.,  0.,  0.],\n",
              "         [ 0.,  2., 16., ...,  1.,  0.,  0.],\n",
              "         [ 0.,  0., 15., ..., 15.,  0.,  0.],\n",
              "         ...,\n",
              "         [ 0.,  4., 16., ..., 16.,  6.,  0.],\n",
              "         [ 0.,  8., 16., ..., 16.,  8.,  0.],\n",
              "         [ 0.,  1.,  8., ..., 12.,  1.,  0.]]]),\n",
              " 'target': array([0, 1, 2, ..., 8, 9, 8]),\n",
              " 'target_names': array([0, 1, 2, 3, 4, 5, 6, 7, 8, 9])}"
            ]
          },
          "metadata": {},
          "execution_count": 2
        }
      ]
    },
    {
      "cell_type": "markdown",
      "source": [
        "<br/><h2> <b> Extract features. </b> </h2><br/>"
      ],
      "metadata": {
        "id": "UvduVY8yB5RE"
      }
    },
    {
      "cell_type": "code",
      "source": [
        "features = digits.data\n",
        "print(\"Features: \\n\", features)"
      ],
      "metadata": {
        "colab": {
          "base_uri": "https://localhost:8080/"
        },
        "id": "TAOxyJcodcef",
        "outputId": "a6ae8022-5933-4f29-d977-1b9430f6a02e"
      },
      "execution_count": 3,
      "outputs": [
        {
          "output_type": "stream",
          "name": "stdout",
          "text": [
            "Features: \n",
            " [[ 0.  0.  5. ...  0.  0.  0.]\n",
            " [ 0.  0.  0. ... 10.  0.  0.]\n",
            " [ 0.  0.  0. ... 16.  9.  0.]\n",
            " ...\n",
            " [ 0.  0.  1. ...  6.  0.  0.]\n",
            " [ 0.  0.  2. ... 12.  0.  0.]\n",
            " [ 0.  0. 10. ... 12.  1.  0.]]\n"
          ]
        }
      ]
    },
    {
      "cell_type": "markdown",
      "source": [
        "<br/><h2> <b> Extract targets. </b> </h2><br/>"
      ],
      "metadata": {
        "id": "LOXpYZWfB-15"
      }
    },
    {
      "cell_type": "code",
      "source": [
        "targets = digits.target\n",
        "print(\"Targets: \", targets)"
      ],
      "metadata": {
        "colab": {
          "base_uri": "https://localhost:8080/"
        },
        "id": "qCrcWeUTdi-j",
        "outputId": "2e6b60ff-2df9-4ade-8917-388b91152d7d"
      },
      "execution_count": 4,
      "outputs": [
        {
          "output_type": "stream",
          "name": "stdout",
          "text": [
            "Targets:  [0 1 2 ... 8 9 8]\n"
          ]
        }
      ]
    },
    {
      "cell_type": "code",
      "source": [
        "# print the names of the features\n",
        "\n",
        "print(\"Features name: \", digits.feature_names)"
      ],
      "metadata": {
        "colab": {
          "base_uri": "https://localhost:8080/"
        },
        "id": "1xulTSfHds6U",
        "outputId": "6c28a7c0-ad7a-4a99-f108-f9a755f4deb7"
      },
      "execution_count": 5,
      "outputs": [
        {
          "output_type": "stream",
          "name": "stdout",
          "text": [
            "Features name:  ['pixel_0_0', 'pixel_0_1', 'pixel_0_2', 'pixel_0_3', 'pixel_0_4', 'pixel_0_5', 'pixel_0_6', 'pixel_0_7', 'pixel_1_0', 'pixel_1_1', 'pixel_1_2', 'pixel_1_3', 'pixel_1_4', 'pixel_1_5', 'pixel_1_6', 'pixel_1_7', 'pixel_2_0', 'pixel_2_1', 'pixel_2_2', 'pixel_2_3', 'pixel_2_4', 'pixel_2_5', 'pixel_2_6', 'pixel_2_7', 'pixel_3_0', 'pixel_3_1', 'pixel_3_2', 'pixel_3_3', 'pixel_3_4', 'pixel_3_5', 'pixel_3_6', 'pixel_3_7', 'pixel_4_0', 'pixel_4_1', 'pixel_4_2', 'pixel_4_3', 'pixel_4_4', 'pixel_4_5', 'pixel_4_6', 'pixel_4_7', 'pixel_5_0', 'pixel_5_1', 'pixel_5_2', 'pixel_5_3', 'pixel_5_4', 'pixel_5_5', 'pixel_5_6', 'pixel_5_7', 'pixel_6_0', 'pixel_6_1', 'pixel_6_2', 'pixel_6_3', 'pixel_6_4', 'pixel_6_5', 'pixel_6_6', 'pixel_6_7', 'pixel_7_0', 'pixel_7_1', 'pixel_7_2', 'pixel_7_3', 'pixel_7_4', 'pixel_7_5', 'pixel_7_6', 'pixel_7_7']\n"
          ]
        }
      ]
    },
    {
      "cell_type": "code",
      "source": [
        "print(\"Targets name: \", digits.target_names)"
      ],
      "metadata": {
        "colab": {
          "base_uri": "https://localhost:8080/"
        },
        "id": "jn_XQs_KerDU",
        "outputId": "ef17637c-f1d5-4323-9f4f-f663f3d101c7"
      },
      "execution_count": 6,
      "outputs": [
        {
          "output_type": "stream",
          "name": "stdout",
          "text": [
            "Targets name:  [0 1 2 3 4 5 6 7 8 9]\n"
          ]
        }
      ]
    },
    {
      "cell_type": "code",
      "source": [
        "# print data(feature)shape\n",
        "print(\"Shape of the features: \", features.shape)"
      ],
      "metadata": {
        "colab": {
          "base_uri": "https://localhost:8080/"
        },
        "id": "g3vL9FnRezDS",
        "outputId": "cb59ade4-e929-40a9-d5d0-7ef70750cddb"
      },
      "execution_count": 7,
      "outputs": [
        {
          "output_type": "stream",
          "name": "stdout",
          "text": [
            "Shape of the features:  (1797, 64)\n"
          ]
        }
      ]
    },
    {
      "cell_type": "markdown",
      "source": [
        "<br/><h2> <b> Perform one hot encoding. </b> </h2><br/>"
      ],
      "metadata": {
        "id": "VQvkRqsaCIEV"
      }
    },
    {
      "cell_type": "code",
      "source": [
        "from sklearn.preprocessing import OneHotEncoder\n",
        "\n",
        "encoder = OneHotEncoder()\n"
      ],
      "metadata": {
        "id": "m8bH5ypGBH3F"
      },
      "execution_count": 8,
      "outputs": []
    },
    {
      "cell_type": "code",
      "source": [
        "encoder.fit(features)\n",
        "features_encoded = encoder.transform(features)\n",
        "features_encoded.shape"
      ],
      "metadata": {
        "colab": {
          "base_uri": "https://localhost:8080/"
        },
        "id": "4EbiWlf4Bedl",
        "outputId": "e33baaf2-8d7e-4e68-96f8-02f837a0d9ef"
      },
      "execution_count": 18,
      "outputs": [
        {
          "output_type": "execute_result",
          "data": {
            "text/plain": [
              "(1797, 890)"
            ]
          },
          "metadata": {},
          "execution_count": 18
        }
      ]
    },
    {
      "cell_type": "code",
      "source": [
        "features_names = []\n",
        "\n",
        "for i in range(890):\n",
        "  features_names.append(str(i))\n",
        "\n",
        "# features_names"
      ],
      "metadata": {
        "id": "W-xPhNN8DMUD"
      },
      "execution_count": 19,
      "outputs": []
    },
    {
      "cell_type": "markdown",
      "source": [
        "<br/><h2> <b> Split the dataset into training and testing data.  </b> </h2><br/>"
      ],
      "metadata": {
        "id": "XEbSO6JeCReG"
      }
    },
    {
      "cell_type": "code",
      "source": [
        "#import the necessary module\n",
        "from sklearn.model_selection import train_test_split\n",
        "\n",
        "#split data set into train and test sets\n",
        "inputs_train, inputs_test, targets_train, targets_test = train_test_split( \n",
        "    features_encoded, targets, test_size = 0.35, random_state = 46)\n",
        "\n",
        "\n",
        "# print(\"Training Inputs: \\n\", inputs_train)\n",
        "# print(\"\\nTesting Inputs: \\n\", inputs_test)\n",
        "# print(\"\\nTraining Targets: \\n\", targets_train)\n",
        "# print(\"\\nTesting Targets: \\n\", targets_test)"
      ],
      "metadata": {
        "id": "E2R9wmMOe4IR"
      },
      "execution_count": 11,
      "outputs": []
    },
    {
      "cell_type": "markdown",
      "source": [
        "<br/><h2> <b> Create decision tree classifier with respect to gini index. </b> </h2><br/>"
      ],
      "metadata": {
        "id": "JiYCR1nnCb_h"
      }
    },
    {
      "cell_type": "code",
      "source": [
        "# Create a Decision Tree Classifier (using Gini index)\n",
        "\n",
        "clf_gini = DecisionTreeClassifier(criterion = \"gini\", random_state = 46, max_depth=3, min_samples_leaf = 46)\n",
        "\n",
        "# Train the model using the training sets\n",
        "\n",
        "clf_gini.fit(inputs_train, targets_train)"
      ],
      "metadata": {
        "colab": {
          "base_uri": "https://localhost:8080/"
        },
        "id": "yZEBqpQ0DjWu",
        "outputId": "99ea428e-ae38-4b6e-f2e6-8ff6c4ea206f"
      },
      "execution_count": 21,
      "outputs": [
        {
          "output_type": "execute_result",
          "data": {
            "text/plain": [
              "DecisionTreeClassifier(max_depth=3, min_samples_leaf=46, random_state=46)"
            ]
          },
          "metadata": {},
          "execution_count": 21
        }
      ]
    },
    {
      "cell_type": "code",
      "source": [
        "#Predict Output\n",
        "\n",
        "target_pred = clf_gini.predict(inputs_test)\n",
        "print(\"Predicted ouptut: \\n\", target_pred)"
      ],
      "metadata": {
        "colab": {
          "base_uri": "https://localhost:8080/"
        },
        "id": "yCG3_DhAD5m8",
        "outputId": "f46b4626-17e7-4820-e030-cceb5b264fa5"
      },
      "execution_count": 22,
      "outputs": [
        {
          "output_type": "stream",
          "name": "stdout",
          "text": [
            "Predicted ouptut: \n",
            " [5 6 6 6 3 3 9 5 6 3 9 7 5 7 3 7 3 0 7 3 3 9 3 3 3 3 7 3 6 6 7 5 3 3 7 7 7\n",
            " 3 7 3 0 3 7 0 3 3 3 3 3 6 6 7 3 9 7 5 7 3 3 5 7 6 3 6 5 5 7 3 7 3 5 7 3 5\n",
            " 5 3 3 3 6 7 3 7 0 3 7 6 7 3 6 3 9 9 0 7 7 7 6 0 3 9 6 3 7 3 5 6 3 3 3 6 3\n",
            " 5 3 5 7 3 9 0 6 3 9 7 6 3 9 7 3 3 7 3 3 5 3 3 7 0 5 7 3 5 3 6 7 3 6 6 0 5\n",
            " 3 7 3 7 5 3 7 5 0 5 9 5 0 6 9 3 9 0 3 3 3 3 3 7 3 3 7 3 7 5 6 3 6 6 5 3 3\n",
            " 5 3 7 5 3 9 3 6 3 3 7 3 3 6 6 3 3 5 7 3 3 6 3 6 3 7 7 3 5 5 0 3 5 6 7 3 3\n",
            " 5 3 3 0 6 3 7 3 7 7 3 3 5 9 3 3 7 3 7 3 5 3 3 0 3 3 3 6 3 7 3 7 3 9 0 5 5\n",
            " 3 0 0 7 3 5 3 0 5 7 9 5 3 3 6 3 9 0 6 3 6 7 3 0 7 6 6 3 0 7 3 5 5 3 7 3 3\n",
            " 5 0 7 7 7 7 7 3 6 6 9 0 7 6 3 0 6 7 3 7 7 7 3 5 6 3 3 3 5 0 7 6 5 3 7 7 3\n",
            " 6 7 3 7 6 9 3 6 3 6 5 6 6 3 3 0 5 5 3 3 3 6 3 3 7 7 3 3 3 3 5 3 3 3 5 3 6\n",
            " 0 3 6 3 7 5 3 7 0 3 7 3 3 5 9 7 3 0 3 3 3 3 5 3 3 6 0 7 3 0 0 7 6 9 3 3 3\n",
            " 3 3 7 5 7 3 0 6 6 3 3 5 3 6 7 0 3 3 6 3 7 3 3 3 7 7 7 9 3 7 3 0 3 7 3 3 7\n",
            " 7 7 0 9 7 7 3 9 6 3 3 0 6 0 5 5 6 7 3 3 7 3 3 0 3 3 9 6 6 7 7 6 7 3 3 9 7\n",
            " 3 5 7 3 3 0 3 5 3 6 7 6 3 7 5 3 6 0 0 5 3 3 6 3 5 0 3 3 0 6 7 3 0 0 3 5 3\n",
            " 7 3 7 0 7 3 6 7 3 7 7 5 0 3 3 5 3 3 7 7 3 7 5 3 3 3 5 5 3 3 0 5 5 9 3 5 7\n",
            " 5 5 9 3 3 5 3 3 6 3 3 7 6 3 0 5 0 3 5 6 7 6 7 6 3 5 7 3 0 0 0 6 3 0 7 6 0\n",
            " 3 7 9 3 5 3 0 7 6 3 7 7 7 3 7 7 7 3 3 9 3 7 7 3 7 7 3 3 7 3 7 3 3 3 3 3 3]\n"
          ]
        }
      ]
    },
    {
      "cell_type": "markdown",
      "source": [
        "<br/><h2> <b> Calculate accuracy, precision, and recall. </b> </h2><br/>"
      ],
      "metadata": {
        "id": "gVZiXS3GCnPl"
      }
    },
    {
      "cell_type": "code",
      "source": [
        "from sklearn import metrics\n",
        "print(\"Accuracy: \", metrics.accuracy_score(targets_test, target_pred))\n",
        "\n",
        "print(\"\\n\\nPrecision: \", metrics.precision_score(targets_test, target_pred, average = 'weighted'))\n",
        "\n",
        "print(\"\\n\\nRecall: \", metrics.recall_score(targets_test, target_pred, average = 'weighted'))"
      ],
      "metadata": {
        "colab": {
          "base_uri": "https://localhost:8080/"
        },
        "id": "3yZ2s6rQD8yd",
        "outputId": "6772d0ad-51d9-426d-ba77-c9672ec36ef5"
      },
      "execution_count": 24,
      "outputs": [
        {
          "output_type": "stream",
          "name": "stdout",
          "text": [
            "Accuracy:  0.45151033386327505\n",
            "\n",
            "\n",
            "Precision:  0.3336578000459595\n",
            "\n",
            "\n",
            "Recall:  0.45151033386327505\n"
          ]
        },
        {
          "output_type": "stream",
          "name": "stderr",
          "text": [
            "/usr/local/lib/python3.7/dist-packages/sklearn/metrics/_classification.py:1318: UndefinedMetricWarning: Precision is ill-defined and being set to 0.0 in labels with no predicted samples. Use `zero_division` parameter to control this behavior.\n",
            "  _warn_prf(average, modifier, msg_start, len(result))\n"
          ]
        }
      ]
    },
    {
      "cell_type": "code",
      "source": [
        "import graphviz\n",
        "from sklearn import tree\n",
        "\n",
        "dot_data = tree.export_graphviz(clf_gini, out_file = None, \n",
        "                                feature_names = features_names,  \n",
        "                                class_names = str(digits.target_names), filled = True)\n",
        "\n",
        "# Draw graph\n",
        "graph = graphviz.Source(dot_data, format=\"png\") \n",
        "graph"
      ],
      "metadata": {
        "colab": {
          "base_uri": "https://localhost:8080/",
          "height": 619
        },
        "id": "9llwtRNKEEgU",
        "outputId": "4a36d647-8e3d-4592-80bb-b682471a99ac"
      },
      "execution_count": 26,
      "outputs": [
        {
          "output_type": "execute_result",
          "data": {
            "text/plain": [
              "<graphviz.files.Source at 0x7f859973bad0>"
            ],
            "image/svg+xml": "<?xml version=\"1.0\" encoding=\"UTF-8\" standalone=\"no\"?>\n<!DOCTYPE svg PUBLIC \"-//W3C//DTD SVG 1.1//EN\"\n \"http://www.w3.org/Graphics/SVG/1.1/DTD/svg11.dtd\">\n<!-- Generated by graphviz version 2.40.1 (20161225.0304)\n -->\n<!-- Title: Tree Pages: 1 -->\n<svg width=\"1636pt\" height=\"433pt\"\n viewBox=\"0.00 0.00 1636.00 433.00\" xmlns=\"http://www.w3.org/2000/svg\" xmlns:xlink=\"http://www.w3.org/1999/xlink\">\n<g id=\"graph0\" class=\"graph\" transform=\"scale(1 1) rotate(0) translate(4 429)\">\n<title>Tree</title>\n<polygon fill=\"#ffffff\" stroke=\"transparent\" points=\"-4,4 -4,-429 1632,-429 1632,4 -4,4\"/>\n<!-- 0 -->\n<g id=\"node1\" class=\"node\">\n<title>0</title>\n<polygon fill=\"#fffefe\" stroke=\"#000000\" points=\"1284.5,-425 894.5,-425 894.5,-342 1284.5,-342 1284.5,-425\"/>\n<text text-anchor=\"middle\" x=\"1089.5\" y=\"-409.8\" font-family=\"Helvetica,sans-Serif\" font-size=\"14.00\" fill=\"#000000\">496 &lt;= 0.5</text>\n<text text-anchor=\"middle\" x=\"1089.5\" y=\"-394.8\" font-family=\"Helvetica,sans-Serif\" font-size=\"14.00\" fill=\"#000000\">gini = 0.899</text>\n<text text-anchor=\"middle\" x=\"1089.5\" y=\"-379.8\" font-family=\"Helvetica,sans-Serif\" font-size=\"14.00\" fill=\"#000000\">samples = 1168</text>\n<text text-anchor=\"middle\" x=\"1089.5\" y=\"-364.8\" font-family=\"Helvetica,sans-Serif\" font-size=\"14.00\" fill=\"#000000\">value = [134, 116, 104, 117, 119, 113, 129, 112, 117, 107]</text>\n<text text-anchor=\"middle\" x=\"1089.5\" y=\"-349.8\" font-family=\"Helvetica,sans-Serif\" font-size=\"14.00\" fill=\"#000000\">class = [</text>\n</g>\n<!-- 1 -->\n<g id=\"node2\" class=\"node\">\n<title>1</title>\n<polygon fill=\"#fdfdff\" stroke=\"#000000\" points=\"1021,-306 656,-306 656,-223 1021,-223 1021,-306\"/>\n<text text-anchor=\"middle\" x=\"838.5\" y=\"-290.8\" font-family=\"Helvetica,sans-Serif\" font-size=\"14.00\" fill=\"#000000\">300 &lt;= 0.5</text>\n<text text-anchor=\"middle\" x=\"838.5\" y=\"-275.8\" font-family=\"Helvetica,sans-Serif\" font-size=\"14.00\" fill=\"#000000\">gini = 0.888</text>\n<text text-anchor=\"middle\" x=\"838.5\" y=\"-260.8\" font-family=\"Helvetica,sans-Serif\" font-size=\"14.00\" fill=\"#000000\">samples = 982</text>\n<text text-anchor=\"middle\" x=\"838.5\" y=\"-245.8\" font-family=\"Helvetica,sans-Serif\" font-size=\"14.00\" fill=\"#000000\">value = [4, 116, 102, 116, 117, 101, 124, 112, 116, 74]</text>\n<text text-anchor=\"middle\" x=\"838.5\" y=\"-230.8\" font-family=\"Helvetica,sans-Serif\" font-size=\"14.00\" fill=\"#000000\">class = &#160;</text>\n</g>\n<!-- 0&#45;&gt;1 -->\n<g id=\"edge1\" class=\"edge\">\n<title>0&#45;&gt;1</title>\n<path fill=\"none\" stroke=\"#000000\" d=\"M1001.7124,-341.8796C980.3126,-331.7339 957.3,-320.8235 935.499,-310.4876\"/>\n<polygon fill=\"#000000\" stroke=\"#000000\" points=\"936.7734,-307.2184 926.2381,-306.0969 933.7746,-313.5435 936.7734,-307.2184\"/>\n<text text-anchor=\"middle\" x=\"934.6384\" y=\"-325.9434\" font-family=\"Helvetica,sans-Serif\" font-size=\"14.00\" fill=\"#000000\">True</text>\n</g>\n<!-- 8 -->\n<g id=\"node9\" class=\"node\">\n<title>8</title>\n<polygon fill=\"#efaf81\" stroke=\"#000000\" points=\"1384.5,-306 1126.5,-306 1126.5,-223 1384.5,-223 1384.5,-306\"/>\n<text text-anchor=\"middle\" x=\"1255.5\" y=\"-290.8\" font-family=\"Helvetica,sans-Serif\" font-size=\"14.00\" fill=\"#000000\">447 &lt;= 0.5</text>\n<text text-anchor=\"middle\" x=\"1255.5\" y=\"-275.8\" font-family=\"Helvetica,sans-Serif\" font-size=\"14.00\" fill=\"#000000\">gini = 0.475</text>\n<text text-anchor=\"middle\" x=\"1255.5\" y=\"-260.8\" font-family=\"Helvetica,sans-Serif\" font-size=\"14.00\" fill=\"#000000\">samples = 186</text>\n<text text-anchor=\"middle\" x=\"1255.5\" y=\"-245.8\" font-family=\"Helvetica,sans-Serif\" font-size=\"14.00\" fill=\"#000000\">value = [130, 0, 2, 1, 2, 12, 5, 0, 1, 33]</text>\n<text text-anchor=\"middle\" x=\"1255.5\" y=\"-230.8\" font-family=\"Helvetica,sans-Serif\" font-size=\"14.00\" fill=\"#000000\">class = [</text>\n</g>\n<!-- 0&#45;&gt;8 -->\n<g id=\"edge8\" class=\"edge\">\n<title>0&#45;&gt;8</title>\n<path fill=\"none\" stroke=\"#000000\" d=\"M1147.5587,-341.8796C1160.9534,-332.2774 1175.3035,-321.9903 1189.0255,-312.1534\"/>\n<polygon fill=\"#000000\" stroke=\"#000000\" points=\"1191.3858,-314.7678 1197.474,-306.0969 1187.3074,-309.0786 1191.3858,-314.7678\"/>\n<text text-anchor=\"middle\" x=\"1193.4062\" y=\"-327.0638\" font-family=\"Helvetica,sans-Serif\" font-size=\"14.00\" fill=\"#000000\">False</text>\n</g>\n<!-- 2 -->\n<g id=\"node3\" class=\"node\">\n<title>2</title>\n<polygon fill=\"#fffcfe\" stroke=\"#000000\" points=\"592.5,-187 284.5,-187 284.5,-104 592.5,-104 592.5,-187\"/>\n<text text-anchor=\"middle\" x=\"438.5\" y=\"-171.8\" font-family=\"Helvetica,sans-Serif\" font-size=\"14.00\" fill=\"#000000\">839 &lt;= 0.5</text>\n<text text-anchor=\"middle\" x=\"438.5\" y=\"-156.8\" font-family=\"Helvetica,sans-Serif\" font-size=\"14.00\" fill=\"#000000\">gini = 0.86</text>\n<text text-anchor=\"middle\" x=\"438.5\" y=\"-141.8\" font-family=\"Helvetica,sans-Serif\" font-size=\"14.00\" fill=\"#000000\">samples = 675</text>\n<text text-anchor=\"middle\" x=\"438.5\" y=\"-126.8\" font-family=\"Helvetica,sans-Serif\" font-size=\"14.00\" fill=\"#000000\">value = [4, 93, 75, 106, 94, 6, 4, 106, 114, 73]</text>\n<text text-anchor=\"middle\" x=\"438.5\" y=\"-111.8\" font-family=\"Helvetica,sans-Serif\" font-size=\"14.00\" fill=\"#000000\">class = &#160;</text>\n</g>\n<!-- 1&#45;&gt;2 -->\n<g id=\"edge2\" class=\"edge\">\n<title>1&#45;&gt;2</title>\n<path fill=\"none\" stroke=\"#000000\" d=\"M698.8802,-222.9631C662.9846,-212.2842 624.2256,-200.7534 587.858,-189.934\"/>\n<polygon fill=\"#000000\" stroke=\"#000000\" points=\"588.7523,-186.5485 578.1694,-187.0516 586.7562,-193.2579 588.7523,-186.5485\"/>\n</g>\n<!-- 5 -->\n<g id=\"node6\" class=\"node\">\n<title>5</title>\n<polygon fill=\"#e8e8fc\" stroke=\"#000000\" points=\"980,-187 697,-187 697,-104 980,-104 980,-187\"/>\n<text text-anchor=\"middle\" x=\"838.5\" y=\"-171.8\" font-family=\"Helvetica,sans-Serif\" font-size=\"14.00\" fill=\"#000000\">856 &lt;= 0.5</text>\n<text text-anchor=\"middle\" x=\"838.5\" y=\"-156.8\" font-family=\"Helvetica,sans-Serif\" font-size=\"14.00\" fill=\"#000000\">gini = 0.731</text>\n<text text-anchor=\"middle\" x=\"838.5\" y=\"-141.8\" font-family=\"Helvetica,sans-Serif\" font-size=\"14.00\" fill=\"#000000\">samples = 307</text>\n<text text-anchor=\"middle\" x=\"838.5\" y=\"-126.8\" font-family=\"Helvetica,sans-Serif\" font-size=\"14.00\" fill=\"#000000\">value = [0, 23, 27, 10, 23, 95, 120, 6, 2, 1]</text>\n<text text-anchor=\"middle\" x=\"838.5\" y=\"-111.8\" font-family=\"Helvetica,sans-Serif\" font-size=\"14.00\" fill=\"#000000\">class = &#160;</text>\n</g>\n<!-- 1&#45;&gt;5 -->\n<g id=\"edge5\" class=\"edge\">\n<title>1&#45;&gt;5</title>\n<path fill=\"none\" stroke=\"#000000\" d=\"M838.5,-222.8796C838.5,-214.6838 838.5,-205.9891 838.5,-197.5013\"/>\n<polygon fill=\"#000000\" stroke=\"#000000\" points=\"842.0001,-197.298 838.5,-187.2981 835.0001,-197.2981 842.0001,-197.298\"/>\n</g>\n<!-- 3 -->\n<g id=\"node4\" class=\"node\">\n<title>3</title>\n<polygon fill=\"#fcfffc\" stroke=\"#000000\" points=\"283,-68 0,-68 0,0 283,0 283,-68\"/>\n<text text-anchor=\"middle\" x=\"141.5\" y=\"-52.8\" font-family=\"Helvetica,sans-Serif\" font-size=\"14.00\" fill=\"#000000\">gini = 0.83</text>\n<text text-anchor=\"middle\" x=\"141.5\" y=\"-37.8\" font-family=\"Helvetica,sans-Serif\" font-size=\"14.00\" fill=\"#000000\">samples = 461</text>\n<text text-anchor=\"middle\" x=\"141.5\" y=\"-22.8\" font-family=\"Helvetica,sans-Serif\" font-size=\"14.00\" fill=\"#000000\">value = [3, 80, 73, 100, 39, 4, 3, 2, 94, 63]</text>\n<text text-anchor=\"middle\" x=\"141.5\" y=\"-7.8\" font-family=\"Helvetica,sans-Serif\" font-size=\"14.00\" fill=\"#000000\">class = 1</text>\n</g>\n<!-- 2&#45;&gt;3 -->\n<g id=\"edge3\" class=\"edge\">\n<title>2&#45;&gt;3</title>\n<path fill=\"none\" stroke=\"#000000\" d=\"M327.9082,-103.9815C299.7299,-93.4028 269.6001,-82.0914 241.959,-71.7144\"/>\n<polygon fill=\"#000000\" stroke=\"#000000\" points=\"242.8853,-68.3237 232.2931,-68.0856 240.4249,-74.8771 242.8853,-68.3237\"/>\n</g>\n<!-- 4 -->\n<g id=\"node5\" class=\"node\">\n<title>4</title>\n<polygon fill=\"#e3c2f7\" stroke=\"#000000\" points=\"576,-68 301,-68 301,0 576,0 576,-68\"/>\n<text text-anchor=\"middle\" x=\"438.5\" y=\"-52.8\" font-family=\"Helvetica,sans-Serif\" font-size=\"14.00\" fill=\"#000000\">gini = 0.682</text>\n<text text-anchor=\"middle\" x=\"438.5\" y=\"-37.8\" font-family=\"Helvetica,sans-Serif\" font-size=\"14.00\" fill=\"#000000\">samples = 214</text>\n<text text-anchor=\"middle\" x=\"438.5\" y=\"-22.8\" font-family=\"Helvetica,sans-Serif\" font-size=\"14.00\" fill=\"#000000\">value = [1, 13, 2, 6, 55, 2, 1, 104, 20, 10]</text>\n<text text-anchor=\"middle\" x=\"438.5\" y=\"-7.8\" font-family=\"Helvetica,sans-Serif\" font-size=\"14.00\" fill=\"#000000\">class = 3</text>\n</g>\n<!-- 2&#45;&gt;4 -->\n<g id=\"edge4\" class=\"edge\">\n<title>2&#45;&gt;4</title>\n<path fill=\"none\" stroke=\"#000000\" d=\"M438.5,-103.9815C438.5,-95.618 438.5,-86.7965 438.5,-78.3409\"/>\n<polygon fill=\"#000000\" stroke=\"#000000\" points=\"442.0001,-78.2636 438.5,-68.2637 435.0001,-78.2637 442.0001,-78.2636\"/>\n</g>\n<!-- 6 -->\n<g id=\"node7\" class=\"node\">\n<title>6</title>\n<polygon fill=\"#8987ef\" stroke=\"#000000\" points=\"852.5,-68 594.5,-68 594.5,0 852.5,0 852.5,-68\"/>\n<text text-anchor=\"middle\" x=\"723.5\" y=\"-52.8\" font-family=\"Helvetica,sans-Serif\" font-size=\"14.00\" fill=\"#000000\">gini = 0.501</text>\n<text text-anchor=\"middle\" x=\"723.5\" y=\"-37.8\" font-family=\"Helvetica,sans-Serif\" font-size=\"14.00\" fill=\"#000000\">samples = 151</text>\n<text text-anchor=\"middle\" x=\"723.5\" y=\"-22.8\" font-family=\"Helvetica,sans-Serif\" font-size=\"14.00\" fill=\"#000000\">value = [0, 15, 27, 1, 0, 4, 102, 0, 1, 1]</text>\n<text text-anchor=\"middle\" x=\"723.5\" y=\"-7.8\" font-family=\"Helvetica,sans-Serif\" font-size=\"14.00\" fill=\"#000000\">class = &#160;</text>\n</g>\n<!-- 5&#45;&gt;6 -->\n<g id=\"edge6\" class=\"edge\">\n<title>5&#45;&gt;6</title>\n<path fill=\"none\" stroke=\"#000000\" d=\"M795.6782,-103.9815C786.0095,-94.607 775.7473,-84.6572 766.0882,-75.2921\"/>\n<polygon fill=\"#000000\" stroke=\"#000000\" points=\"768.4551,-72.7118 758.8392,-68.2637 763.5824,-77.7375 768.4551,-72.7118\"/>\n</g>\n<!-- 7 -->\n<g id=\"node8\" class=\"node\">\n<title>7</title>\n<polygon fill=\"#9acdf2\" stroke=\"#000000\" points=\"1120.5,-68 870.5,-68 870.5,0 1120.5,0 1120.5,-68\"/>\n<text text-anchor=\"middle\" x=\"995.5\" y=\"-52.8\" font-family=\"Helvetica,sans-Serif\" font-size=\"14.00\" fill=\"#000000\">gini = 0.617</text>\n<text text-anchor=\"middle\" x=\"995.5\" y=\"-37.8\" font-family=\"Helvetica,sans-Serif\" font-size=\"14.00\" fill=\"#000000\">samples = 156</text>\n<text text-anchor=\"middle\" x=\"995.5\" y=\"-22.8\" font-family=\"Helvetica,sans-Serif\" font-size=\"14.00\" fill=\"#000000\">value = [0, 8, 0, 9, 23, 91, 18, 6, 1, 0]</text>\n<text text-anchor=\"middle\" x=\"995.5\" y=\"-7.8\" font-family=\"Helvetica,sans-Serif\" font-size=\"14.00\" fill=\"#000000\">class = 2</text>\n</g>\n<!-- 5&#45;&gt;7 -->\n<g id=\"edge7\" class=\"edge\">\n<title>5&#45;&gt;7</title>\n<path fill=\"none\" stroke=\"#000000\" d=\"M896.961,-103.9815C910.7508,-94.1881 925.4247,-83.7668 939.1205,-74.0402\"/>\n<polygon fill=\"#000000\" stroke=\"#000000\" points=\"941.3785,-76.7295 947.505,-68.0856 937.3253,-71.0223 941.3785,-76.7295\"/>\n</g>\n<!-- 9 -->\n<g id=\"node10\" class=\"node\">\n<title>9</title>\n<polygon fill=\"#e78a47\" stroke=\"#000000\" points=\"1376.5,-187 1134.5,-187 1134.5,-104 1376.5,-104 1376.5,-187\"/>\n<text text-anchor=\"middle\" x=\"1255.5\" y=\"-171.8\" font-family=\"Helvetica,sans-Serif\" font-size=\"14.00\" fill=\"#000000\">377 &lt;= 0.5</text>\n<text text-anchor=\"middle\" x=\"1255.5\" y=\"-156.8\" font-family=\"Helvetica,sans-Serif\" font-size=\"14.00\" fill=\"#000000\">gini = 0.125</text>\n<text text-anchor=\"middle\" x=\"1255.5\" y=\"-141.8\" font-family=\"Helvetica,sans-Serif\" font-size=\"14.00\" fill=\"#000000\">samples = 137</text>\n<text text-anchor=\"middle\" x=\"1255.5\" y=\"-126.8\" font-family=\"Helvetica,sans-Serif\" font-size=\"14.00\" fill=\"#000000\">value = [128, 0, 0, 0, 2, 5, 2, 0, 0, 0]</text>\n<text text-anchor=\"middle\" x=\"1255.5\" y=\"-111.8\" font-family=\"Helvetica,sans-Serif\" font-size=\"14.00\" fill=\"#000000\">class = [</text>\n</g>\n<!-- 8&#45;&gt;9 -->\n<g id=\"edge9\" class=\"edge\">\n<title>8&#45;&gt;9</title>\n<path fill=\"none\" stroke=\"#000000\" d=\"M1255.5,-222.8796C1255.5,-214.6838 1255.5,-205.9891 1255.5,-197.5013\"/>\n<polygon fill=\"#000000\" stroke=\"#000000\" points=\"1259.0001,-197.298 1255.5,-187.2981 1252.0001,-197.2981 1259.0001,-197.298\"/>\n</g>\n<!-- 12 -->\n<g id=\"node13\" class=\"node\">\n<title>12</title>\n<polygon fill=\"#ef8498\" stroke=\"#000000\" points=\"1628,-179.5 1395,-179.5 1395,-111.5 1628,-111.5 1628,-179.5\"/>\n<text text-anchor=\"middle\" x=\"1511.5\" y=\"-164.3\" font-family=\"Helvetica,sans-Serif\" font-size=\"14.00\" fill=\"#000000\">gini = 0.518</text>\n<text text-anchor=\"middle\" x=\"1511.5\" y=\"-149.3\" font-family=\"Helvetica,sans-Serif\" font-size=\"14.00\" fill=\"#000000\">samples = 49</text>\n<text text-anchor=\"middle\" x=\"1511.5\" y=\"-134.3\" font-family=\"Helvetica,sans-Serif\" font-size=\"14.00\" fill=\"#000000\">value = [2, 0, 2, 1, 0, 7, 3, 0, 1, 33]</text>\n<text text-anchor=\"middle\" x=\"1511.5\" y=\"-119.3\" font-family=\"Helvetica,sans-Serif\" font-size=\"14.00\" fill=\"#000000\">class = 4</text>\n</g>\n<!-- 8&#45;&gt;12 -->\n<g id=\"edge12\" class=\"edge\">\n<title>8&#45;&gt;12</title>\n<path fill=\"none\" stroke=\"#000000\" d=\"M1345.0364,-222.8796C1372.2508,-210.2291 1402.0226,-196.3899 1428.7678,-183.9576\"/>\n<polygon fill=\"#000000\" stroke=\"#000000\" points=\"1430.4997,-187.0122 1438.0925,-179.623 1427.5489,-180.6645 1430.4997,-187.0122\"/>\n</g>\n<!-- 10 -->\n<g id=\"node11\" class=\"node\">\n<title>10</title>\n<polygon fill=\"#e99457\" stroke=\"#000000\" points=\"1372,-68 1139,-68 1139,0 1372,0 1372,-68\"/>\n<text text-anchor=\"middle\" x=\"1255.5\" y=\"-52.8\" font-family=\"Helvetica,sans-Serif\" font-size=\"14.00\" fill=\"#000000\">gini = 0.258</text>\n<text text-anchor=\"middle\" x=\"1255.5\" y=\"-37.8\" font-family=\"Helvetica,sans-Serif\" font-size=\"14.00\" fill=\"#000000\">samples = 56</text>\n<text text-anchor=\"middle\" x=\"1255.5\" y=\"-22.8\" font-family=\"Helvetica,sans-Serif\" font-size=\"14.00\" fill=\"#000000\">value = [48, 0, 0, 0, 2, 4, 2, 0, 0, 0]</text>\n<text text-anchor=\"middle\" x=\"1255.5\" y=\"-7.8\" font-family=\"Helvetica,sans-Serif\" font-size=\"14.00\" fill=\"#000000\">class = [</text>\n</g>\n<!-- 9&#45;&gt;10 -->\n<g id=\"edge10\" class=\"edge\">\n<title>9&#45;&gt;10</title>\n<path fill=\"none\" stroke=\"#000000\" d=\"M1255.5,-103.9815C1255.5,-95.618 1255.5,-86.7965 1255.5,-78.3409\"/>\n<polygon fill=\"#000000\" stroke=\"#000000\" points=\"1259.0001,-78.2636 1255.5,-68.2637 1252.0001,-78.2637 1259.0001,-78.2636\"/>\n</g>\n<!-- 11 -->\n<g id=\"node12\" class=\"node\">\n<title>11</title>\n<polygon fill=\"#e5833b\" stroke=\"#000000\" points=\"1623,-68 1390,-68 1390,0 1623,0 1623,-68\"/>\n<text text-anchor=\"middle\" x=\"1506.5\" y=\"-52.8\" font-family=\"Helvetica,sans-Serif\" font-size=\"14.00\" fill=\"#000000\">gini = 0.024</text>\n<text text-anchor=\"middle\" x=\"1506.5\" y=\"-37.8\" font-family=\"Helvetica,sans-Serif\" font-size=\"14.00\" fill=\"#000000\">samples = 81</text>\n<text text-anchor=\"middle\" x=\"1506.5\" y=\"-22.8\" font-family=\"Helvetica,sans-Serif\" font-size=\"14.00\" fill=\"#000000\">value = [80, 0, 0, 0, 0, 1, 0, 0, 0, 0]</text>\n<text text-anchor=\"middle\" x=\"1506.5\" y=\"-7.8\" font-family=\"Helvetica,sans-Serif\" font-size=\"14.00\" fill=\"#000000\">class = [</text>\n</g>\n<!-- 9&#45;&gt;11 -->\n<g id=\"edge11\" class=\"edge\">\n<title>9&#45;&gt;11</title>\n<path fill=\"none\" stroke=\"#000000\" d=\"M1348.9631,-103.9815C1372.3611,-93.5876 1397.3513,-82.4864 1420.3743,-72.259\"/>\n<polygon fill=\"#000000\" stroke=\"#000000\" points=\"1422.0512,-75.344 1429.7691,-68.0856 1419.2093,-68.9468 1422.0512,-75.344\"/>\n</g>\n</g>\n</svg>\n"
          },
          "metadata": {},
          "execution_count": 26
        }
      ]
    },
    {
      "cell_type": "code",
      "source": [
        ""
      ],
      "metadata": {
        "id": "HoTZIHchEhMO"
      },
      "execution_count": null,
      "outputs": []
    }
  ]
}