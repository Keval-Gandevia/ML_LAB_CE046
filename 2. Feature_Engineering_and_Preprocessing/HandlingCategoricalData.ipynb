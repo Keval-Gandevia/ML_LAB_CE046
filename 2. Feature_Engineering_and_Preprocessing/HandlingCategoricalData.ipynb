{
  "nbformat": 4,
  "nbformat_minor": 0,
  "metadata": {
    "colab": {
      "name": "Lab_2_CE046_HandlingCategoricalData.ipynb",
      "provenance": [],
      "collapsed_sections": []
    },
    "kernelspec": {
      "name": "python3",
      "display_name": "Python 3"
    },
    "language_info": {
      "name": "python"
    }
  },
  "cells": [
    {
      "cell_type": "markdown",
      "source": [
        "<h1> <b> Lab - 2 </b> </h1>\n",
        "<h2> <b> Excersise on Handling Categorical Data </b> </h1>\n",
        "<br/>\n"
      ],
      "metadata": {
        "id": "-IXV1x5KhOjA"
      }
    },
    {
      "cell_type": "code",
      "execution_count": 1,
      "metadata": {
        "colab": {
          "base_uri": "https://localhost:8080/"
        },
        "id": "XXs0AhSDWvqb",
        "outputId": "bf53859f-f1f1-41dc-d554-ba4d177a4b6e"
      },
      "outputs": [
        {
          "output_type": "stream",
          "name": "stdout",
          "text": [
            "Mounted at /content/drive\n"
          ]
        }
      ],
      "source": [
        "# Step 1: Import Libraries\n",
        "\n",
        "import numpy as np \n",
        "import pandas as pd\n",
        "from sklearn.preprocessing import LabelEncoder,OneHotEncoder\n",
        "\n",
        "# mount drive\n",
        "from google.colab import drive\n",
        "drive.mount('/content/drive')"
      ]
    },
    {
      "cell_type": "code",
      "source": [
        "# step - 2 Load data\n",
        "\n",
        "datasets = pd.read_csv(\"/content/drive/MyDrive/ML LAB/Exercise-CarData.csv\")\n",
        "\n",
        "print(\"\\nDatasets: \\n\", datasets)\n",
        "print(\"\\n Statstics: \\n\", datasets.describe())"
      ],
      "metadata": {
        "colab": {
          "base_uri": "https://localhost:8080/"
        },
        "id": "NO8i9qFFXK-9",
        "outputId": "6ff0a3e2-d8e9-4b8a-a76a-fdc585da1d9e"
      },
      "execution_count": 2,
      "outputs": [
        {
          "output_type": "stream",
          "name": "stdout",
          "text": [
            "\n",
            "Datasets: \n",
            "       Unnamed: 0  Price   Age     KM  ... Automatic    CC  Doors  Weight\n",
            "0              0  13500  23.0  46986  ...         0  2000  three    1165\n",
            "1              1  13750  23.0  72937  ...         0  2000      3    1165\n",
            "2              2  13950  24.0  41711  ...         0  2000      3    1165\n",
            "3              3  14950  26.0  48000  ...         0  2000      3    1165\n",
            "4              4  13750  30.0  38500  ...         0  2000      3    1170\n",
            "...          ...    ...   ...    ...  ...       ...   ...    ...     ...\n",
            "1431        1431   7500   NaN  20544  ...         0  1300      3    1025\n",
            "1432        1432  10845  72.0     ??  ...         0  1300      3    1015\n",
            "1433        1433   8500   NaN  17016  ...         0  1300      3    1015\n",
            "1434        1434   7250  70.0     ??  ...         0  1300      3    1015\n",
            "1435        1435   6950  76.0      1  ...         0  1600      5    1114\n",
            "\n",
            "[1436 rows x 11 columns]\n",
            "\n",
            " Statstics: \n",
            "         Unnamed: 0         Price  ...           CC      Weight\n",
            "count  1436.000000   1436.000000  ...  1436.000000  1436.00000\n",
            "mean    717.500000  10730.824513  ...  1566.827994  1072.45961\n",
            "std     414.681806   3626.964585  ...   187.182436    52.64112\n",
            "min       0.000000   4350.000000  ...  1300.000000  1000.00000\n",
            "25%     358.750000   8450.000000  ...  1400.000000  1040.00000\n",
            "50%     717.500000   9900.000000  ...  1600.000000  1070.00000\n",
            "75%    1076.250000  11950.000000  ...  1600.000000  1085.00000\n",
            "max    1435.000000  32500.000000  ...  2000.000000  1615.00000\n",
            "\n",
            "[8 rows x 7 columns]\n"
          ]
        }
      ]
    },
    {
      "cell_type": "code",
      "source": [
        "# Step 3: Seprate Input and Output attributes\n",
        "\n",
        "# all rows and all cols except first\n",
        "X = datasets.loc[:, datasets.columns != \"Price\"].values\n",
        "\n",
        "# take only output column\n",
        "Y = datasets.loc[:, datasets.columns == \"Price\"].values\n",
        "\n",
        "\n",
        "print(\"Input: \\n\", X)\n",
        "print(\"\\n\\nOutput: \\n\", Y)"
      ],
      "metadata": {
        "colab": {
          "base_uri": "https://localhost:8080/"
        },
        "id": "jpSMK8q7XPgp",
        "outputId": "d6e5229a-9b07-4e54-d082-cf8ecd1ef4bd"
      },
      "execution_count": 3,
      "outputs": [
        {
          "output_type": "stream",
          "name": "stdout",
          "text": [
            "Input: \n",
            " [[0 23.0 '46986' ... 2000 'three' 1165]\n",
            " [1 23.0 '72937' ... 2000 '3' 1165]\n",
            " [2 24.0 '41711' ... 2000 '3' 1165]\n",
            " ...\n",
            " [1433 nan '17016' ... 1300 '3' 1015]\n",
            " [1434 70.0 '??' ... 1300 '3' 1015]\n",
            " [1435 76.0 '1' ... 1600 '5' 1114]]\n",
            "\n",
            "\n",
            "Output: \n",
            " [[13500]\n",
            " [13750]\n",
            " [13950]\n",
            " ...\n",
            " [ 8500]\n",
            " [ 7250]\n",
            " [ 6950]]\n"
          ]
        }
      ]
    },
    {
      "cell_type": "markdown",
      "source": [
        "<br/>\n",
        "\n",
        "<h3> <b> Handling categorical data operation on 'FuelType' column.  </b> </h3>\n",
        "\n",
        "*   Select a column 'FuelType' from datasets and assigned to new_x.\n",
        "*   Create a label encoder and transform the new_x.\n",
        "*   Replace null values with 'Petrol'.\n",
        "*   Assign the data of 'FuelType' to dummy and remove column.\n",
        "*   Concatenate dummy and datasets to make new datasets.\n",
        "*   Use onehotencoder to convert into categorical data.\n",
        "\n",
        "<br/>"
      ],
      "metadata": {
        "id": "5eZySkUXhlDH"
      }
    },
    {
      "cell_type": "code",
      "source": [
        "new_x = datasets.iloc[:, 4]\n",
        "\n",
        "le = LabelEncoder()\n",
        "new_x = le.fit_transform(new_x)\n",
        "\n",
        "print(new_x)\n",
        "\n",
        "datasets['FuelType'] = datasets['FuelType'].fillna('Petrol')\n",
        "datasets['FuelType']"
      ],
      "metadata": {
        "colab": {
          "base_uri": "https://localhost:8080/"
        },
        "id": "xNbZzSlPSm4T",
        "outputId": "739617aa-f370-4920-f280-dfa133ae54b7"
      },
      "execution_count": 4,
      "outputs": [
        {
          "output_type": "stream",
          "name": "stdout",
          "text": [
            "[1 1 1 ... 2 3 2]\n"
          ]
        },
        {
          "output_type": "execute_result",
          "data": {
            "text/plain": [
              "0       Diesel\n",
              "1       Diesel\n",
              "2       Diesel\n",
              "3       Diesel\n",
              "4       Diesel\n",
              "         ...  \n",
              "1431    Petrol\n",
              "1432    Petrol\n",
              "1433    Petrol\n",
              "1434    Petrol\n",
              "1435    Petrol\n",
              "Name: FuelType, Length: 1436, dtype: object"
            ]
          },
          "metadata": {},
          "execution_count": 4
        }
      ]
    },
    {
      "cell_type": "code",
      "source": [
        "dummy = pd.get_dummies(datasets['FuelType'])\n",
        "print(\"\\n\\nDummy :\\n\",dummy)\n",
        "\n",
        "datasets.drop(['FuelType'], axis = 1)\n",
        "datasets = pd.concat([dummy,datasets],axis = 1)\n",
        "print(\"\\n\\nFinal Data :\\n\",datasets)"
      ],
      "metadata": {
        "colab": {
          "base_uri": "https://localhost:8080/"
        },
        "id": "qermlZphUS6P",
        "outputId": "752d783f-7d94-4833-db19-972cf0e8de1f"
      },
      "execution_count": 5,
      "outputs": [
        {
          "output_type": "stream",
          "name": "stdout",
          "text": [
            "\n",
            "\n",
            "Dummy :\n",
            "       CNG  Diesel  Petrol\n",
            "0       0       1       0\n",
            "1       0       1       0\n",
            "2       0       1       0\n",
            "3       0       1       0\n",
            "4       0       1       0\n",
            "...   ...     ...     ...\n",
            "1431    0       0       1\n",
            "1432    0       0       1\n",
            "1433    0       0       1\n",
            "1434    0       0       1\n",
            "1435    0       0       1\n",
            "\n",
            "[1436 rows x 3 columns]\n",
            "\n",
            "\n",
            "Final Data :\n",
            "       CNG  Diesel  Petrol  Unnamed: 0  ...  Automatic    CC  Doors Weight\n",
            "0       0       1       0           0  ...          0  2000  three   1165\n",
            "1       0       1       0           1  ...          0  2000      3   1165\n",
            "2       0       1       0           2  ...          0  2000      3   1165\n",
            "3       0       1       0           3  ...          0  2000      3   1165\n",
            "4       0       1       0           4  ...          0  2000      3   1170\n",
            "...   ...     ...     ...         ...  ...        ...   ...    ...    ...\n",
            "1431    0       0       1        1431  ...          0  1300      3   1025\n",
            "1432    0       0       1        1432  ...          0  1300      3   1015\n",
            "1433    0       0       1        1433  ...          0  1300      3   1015\n",
            "1434    0       0       1        1434  ...          0  1300      3   1015\n",
            "1435    0       0       1        1435  ...          0  1600      5   1114\n",
            "\n",
            "[1436 rows x 14 columns]\n"
          ]
        }
      ]
    },
    {
      "cell_type": "code",
      "source": [
        "#Use One Hot Encoder from scikit learn\n",
        "onehotencoder = OneHotEncoder()\n",
        "\n",
        "x = onehotencoder.fit_transform(datasets.FuelType.values.reshape(-1,1)).toarray()\n",
        "\n",
        "x"
      ],
      "metadata": {
        "colab": {
          "base_uri": "https://localhost:8080/"
        },
        "id": "waAIpC4vVSDq",
        "outputId": "2d3e4416-70a5-4f47-b013-b7923b24a9d5"
      },
      "execution_count": 6,
      "outputs": [
        {
          "output_type": "execute_result",
          "data": {
            "text/plain": [
              "array([[0., 1., 0.],\n",
              "       [0., 1., 0.],\n",
              "       [0., 1., 0.],\n",
              "       ...,\n",
              "       [0., 0., 1.],\n",
              "       [0., 0., 1.],\n",
              "       [0., 0., 1.]])"
            ]
          },
          "metadata": {},
          "execution_count": 6
        }
      ]
    },
    {
      "cell_type": "code",
      "source": [
        "print(x.shape[1])\n",
        "# print(x.shape)\n",
        "cols = []\n",
        "for i in range(x.shape[1]):\n",
        "  cols.append('FuelType' + str(int(i)))\n",
        "print(cols)\n"
      ],
      "metadata": {
        "colab": {
          "base_uri": "https://localhost:8080/"
        },
        "id": "Q7imo2CscT4v",
        "outputId": "17f96eed-d433-417e-b4b7-e237c1739584"
      },
      "execution_count": 7,
      "outputs": [
        {
          "output_type": "stream",
          "name": "stdout",
          "text": [
            "3\n",
            "['FuelType0', 'FuelType1', 'FuelType2']\n"
          ]
        }
      ]
    },
    {
      "cell_type": "code",
      "source": [
        "dfOneHot = pd.DataFrame(x, columns = cols) \n",
        "df = pd.concat([datasets, dfOneHot], axis=1) #column\n",
        "#droping the country column \n",
        "df= df.drop(['FuelType'], axis=1) \n",
        "#printing to verify \n",
        "print(df.head())"
      ],
      "metadata": {
        "colab": {
          "base_uri": "https://localhost:8080/"
        },
        "id": "MyXrvkzLVjjG",
        "outputId": "0e3963e9-40a1-4888-b844-22756ccabcee"
      },
      "execution_count": 8,
      "outputs": [
        {
          "output_type": "stream",
          "name": "stdout",
          "text": [
            "   CNG  Diesel  Petrol  Unnamed: 0  ...  Weight  FuelType0 FuelType1 FuelType2\n",
            "0    0       1       0           0  ...    1165        0.0       1.0       0.0\n",
            "1    0       1       0           1  ...    1165        0.0       1.0       0.0\n",
            "2    0       1       0           2  ...    1165        0.0       1.0       0.0\n",
            "3    0       1       0           3  ...    1165        0.0       1.0       0.0\n",
            "4    0       1       0           4  ...    1170        0.0       1.0       0.0\n",
            "\n",
            "[5 rows x 16 columns]\n"
          ]
        }
      ]
    }
  ]
}