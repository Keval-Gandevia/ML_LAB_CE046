{
  "nbformat": 4,
  "nbformat_minor": 0,
  "metadata": {
    "colab": {
      "name": "Lab_2_CE046_DataTransformation.ipynb",
      "provenance": [],
      "collapsed_sections": []
    },
    "kernelspec": {
      "name": "python3",
      "display_name": "Python 3"
    },
    "language_info": {
      "name": "python"
    }
  },
  "cells": [
    {
      "cell_type": "markdown",
      "source": [
        "<h1> <b> Lab - 2 </b> </h1>\n",
        "<h2> <b> Excersise on Data Transformation </b> </h1>\n",
        "<br/>\n"
      ],
      "metadata": {
        "id": "gR98P_A1KWhA"
      }
    },
    {
      "cell_type": "code",
      "execution_count": null,
      "metadata": {
        "colab": {
          "base_uri": "https://localhost:8080/"
        },
        "id": "muR8z_k3KOsR",
        "outputId": "9a936bd2-0465-4f35-ba2a-52e0bf91a93c"
      },
      "outputs": [
        {
          "output_type": "stream",
          "name": "stdout",
          "text": [
            "Drive already mounted at /content/drive; to attempt to forcibly remount, call drive.mount(\"/content/drive\", force_remount=True).\n"
          ]
        }
      ],
      "source": [
        "# Step 1: Import Libraries\n",
        "\n",
        "import numpy as np \n",
        "import pandas as pd\n",
        "from sklearn.preprocessing import MinMaxScaler, StandardScaler\n",
        "\n",
        "# mount drive\n",
        "from google.colab import drive\n",
        "drive.mount('/content/drive')"
      ]
    },
    {
      "cell_type": "code",
      "source": [
        "# step - 2 Load data\n",
        "\n",
        "datasets = pd.read_csv(\"/content/drive/MyDrive/ML LAB/Exercise-CarData.csv\")\n",
        "\n",
        "print(\"\\nDatasets: \\n\", datasets)\n",
        "print(\"\\n Statstics: \\n\", datasets.describe())"
      ],
      "metadata": {
        "colab": {
          "base_uri": "https://localhost:8080/"
        },
        "id": "lhz9EqPRKq0s",
        "outputId": "81ce02a4-b4f2-455c-a286-0aaf5f6297b7"
      },
      "execution_count": null,
      "outputs": [
        {
          "output_type": "stream",
          "name": "stdout",
          "text": [
            "\n",
            "Datasets: \n",
            "       Unnamed: 0  Price   Age     KM  ... Automatic    CC  Doors  Weight\n",
            "0              0  13500  23.0  46986  ...         0  2000  three    1165\n",
            "1              1  13750  23.0  72937  ...         0  2000      3    1165\n",
            "2              2  13950  24.0  41711  ...         0  2000      3    1165\n",
            "3              3  14950  26.0  48000  ...         0  2000      3    1165\n",
            "4              4  13750  30.0  38500  ...         0  2000      3    1170\n",
            "...          ...    ...   ...    ...  ...       ...   ...    ...     ...\n",
            "1431        1431   7500   NaN  20544  ...         0  1300      3    1025\n",
            "1432        1432  10845  72.0     ??  ...         0  1300      3    1015\n",
            "1433        1433   8500   NaN  17016  ...         0  1300      3    1015\n",
            "1434        1434   7250  70.0     ??  ...         0  1300      3    1015\n",
            "1435        1435   6950  76.0      1  ...         0  1600      5    1114\n",
            "\n",
            "[1436 rows x 11 columns]\n",
            "\n",
            " Statstics: \n",
            "         Unnamed: 0         Price  ...           CC      Weight\n",
            "count  1436.000000   1436.000000  ...  1436.000000  1436.00000\n",
            "mean    717.500000  10730.824513  ...  1566.827994  1072.45961\n",
            "std     414.681806   3626.964585  ...   187.182436    52.64112\n",
            "min       0.000000   4350.000000  ...  1300.000000  1000.00000\n",
            "25%     358.750000   8450.000000  ...  1400.000000  1040.00000\n",
            "50%     717.500000   9900.000000  ...  1600.000000  1070.00000\n",
            "75%    1076.250000  11950.000000  ...  1600.000000  1085.00000\n",
            "max    1435.000000  32500.000000  ...  2000.000000  1615.00000\n",
            "\n",
            "[8 rows x 7 columns]\n"
          ]
        }
      ]
    },
    {
      "cell_type": "code",
      "source": [
        "# Step 3: Seprate Input and Output attributes\n",
        "\n",
        "# all rows and all cols except first\n",
        "X = datasets.loc[:, datasets.columns != \"Price\"].values\n",
        "\n",
        "# take only output column\n",
        "Y = datasets.loc[:, datasets.columns == \"Price\"].values\n",
        "\n",
        "print(\"Input: \\n\", X)\n",
        "print(\"\\n\\nOutput: \\n\", Y)"
      ],
      "metadata": {
        "colab": {
          "base_uri": "https://localhost:8080/"
        },
        "id": "ciRtvFT1KoNw",
        "outputId": "8223eb06-032f-4d1f-ad81-27bfcec82cbb"
      },
      "execution_count": null,
      "outputs": [
        {
          "output_type": "stream",
          "name": "stdout",
          "text": [
            "Input: \n",
            " [[0 23.0 '46986' ... 2000 'three' 1165]\n",
            " [1 23.0 '72937' ... 2000 '3' 1165]\n",
            " [2 24.0 '41711' ... 2000 '3' 1165]\n",
            " ...\n",
            " [1433 nan '17016' ... 1300 '3' 1015]\n",
            " [1434 70.0 '??' ... 1300 '3' 1015]\n",
            " [1435 76.0 '1' ... 1600 '5' 1114]]\n",
            "\n",
            "\n",
            "Output: \n",
            " [[13500]\n",
            " [13750]\n",
            " [13950]\n",
            " ...\n",
            " [ 8500]\n",
            " [ 7250]\n",
            " [ 6950]]\n"
          ]
        }
      ]
    },
    {
      "cell_type": "markdown",
      "source": [
        "<br/>\n",
        "\n",
        "<h3> <b> Perfomring Scaling on 'Age' column </b> </h3>\n",
        "\n",
        "*   Fetch 'Age' column from datasets, put into X_new.\n",
        "*   Fill null values with mean of the column.\n",
        "*   Update X_new with new values of 'Age'.\n",
        "*   Define the scaler and do scaling on 'Age' column.\n",
        "\n",
        "<br/>"
      ],
      "metadata": {
        "id": "jnspMrfcqUv5"
      }
    },
    {
      "cell_type": "code",
      "source": [
        "# take 'Age' Column\n",
        "X_new = datasets.iloc[:, 2:3]\n",
        "print(X_new)"
      ],
      "metadata": {
        "colab": {
          "base_uri": "https://localhost:8080/"
        },
        "id": "qpwMUxYFqOKJ",
        "outputId": "f15ddd73-c44a-46aa-b3c5-fbe8b4aa2da9"
      },
      "execution_count": null,
      "outputs": [
        {
          "output_type": "stream",
          "name": "stdout",
          "text": [
            "       Age\n",
            "0     23.0\n",
            "1     23.0\n",
            "2     24.0\n",
            "3     26.0\n",
            "4     30.0\n",
            "...    ...\n",
            "1431   NaN\n",
            "1432  72.0\n",
            "1433   NaN\n",
            "1434  70.0\n",
            "1435  76.0\n",
            "\n",
            "[1436 rows x 1 columns]\n"
          ]
        }
      ]
    },
    {
      "cell_type": "code",
      "source": [
        "# fill null values\n",
        "\n",
        "datasets['Age'].fillna(datasets['Age'].mean(skipna=True), inplace=True)\n",
        "datasets['Age'].unique()"
      ],
      "metadata": {
        "colab": {
          "base_uri": "https://localhost:8080/"
        },
        "id": "Ski1YnNCOYve",
        "outputId": "57c23115-6ce8-4e25-e7bb-2fa2d27e375b"
      },
      "execution_count": null,
      "outputs": [
        {
          "output_type": "execute_result",
          "data": {
            "text/plain": [
              "array([23.        , 24.        , 26.        , 30.        , 32.        ,\n",
              "       27.        , 25.        , 22.        , 31.        , 28.        ,\n",
              "       29.        , 55.67215569, 20.        , 19.        , 17.        ,\n",
              "       11.        , 18.        , 13.        , 14.        ,  4.        ,\n",
              "        8.        ,  7.        , 16.        , 15.        , 10.        ,\n",
              "       12.        ,  9.        ,  6.        ,  2.        ,  1.        ,\n",
              "       43.        , 38.        , 40.        , 44.        , 41.        ,\n",
              "       37.        , 39.        , 42.        , 35.        , 34.        ,\n",
              "       33.        , 36.        , 53.        , 51.        , 54.        ,\n",
              "       45.        , 55.        , 48.        , 52.        , 49.        ,\n",
              "       56.        , 50.        , 47.        , 46.        , 58.        ,\n",
              "       68.        , 59.        , 62.        , 65.        , 67.        ,\n",
              "       64.        , 60.        , 61.        , 66.        , 57.        ,\n",
              "       63.        , 73.        , 79.        , 78.        , 74.        ,\n",
              "       77.        , 69.        , 80.        , 76.        , 70.        ,\n",
              "       71.        , 75.        , 72.        ])"
            ]
          },
          "metadata": {},
          "execution_count": 20
        }
      ]
    },
    {
      "cell_type": "code",
      "source": [
        "# update X_new\n",
        "\n",
        "X_new = datasets.iloc[:, 2:3]\n",
        "print(X_new)"
      ],
      "metadata": {
        "colab": {
          "base_uri": "https://localhost:8080/"
        },
        "id": "Eb4q4XwEPK8u",
        "outputId": "a280f277-e6c3-40b2-d477-8ac460549957"
      },
      "execution_count": null,
      "outputs": [
        {
          "output_type": "stream",
          "name": "stdout",
          "text": [
            "            Age\n",
            "0     23.000000\n",
            "1     23.000000\n",
            "2     24.000000\n",
            "3     26.000000\n",
            "4     30.000000\n",
            "...         ...\n",
            "1431  55.672156\n",
            "1432  72.000000\n",
            "1433  55.672156\n",
            "1434  70.000000\n",
            "1435  76.000000\n",
            "\n",
            "[1436 rows x 1 columns]\n"
          ]
        }
      ]
    },
    {
      "cell_type": "code",
      "source": [
        "# Step 4 : Perform scaling on 'Age'\n",
        "\n",
        "scaler = MinMaxScaler()\n",
        "X_scaled = scaler.fit_transform(X_new)\n",
        "print(\"\\nScaled X : \\n\", X_scaled)"
      ],
      "metadata": {
        "colab": {
          "base_uri": "https://localhost:8080/"
        },
        "id": "RfkvVuyhNu4q",
        "outputId": "28c386ee-3019-40c9-9267-e30bedd32c6a"
      },
      "execution_count": null,
      "outputs": [
        {
          "output_type": "stream",
          "name": "stdout",
          "text": [
            "\n",
            "Scaled X : \n",
            " [[0.27848101]\n",
            " [0.27848101]\n",
            " [0.29113924]\n",
            " ...\n",
            " [0.6920526 ]\n",
            " [0.87341772]\n",
            " [0.94936709]]\n"
          ]
        }
      ]
    },
    {
      "cell_type": "code",
      "source": [
        "std = StandardScaler()\n",
        "X_std = std.fit_transform(X_new)\n",
        "print(\"\\n\\nStandardized X : \\n\", X_std)"
      ],
      "metadata": {
        "colab": {
          "base_uri": "https://localhost:8080/"
        },
        "id": "SRRjpmIQNxgo",
        "outputId": "4ac98391-cbbd-4e9e-c073-b8df77e7de4e"
      },
      "execution_count": null,
      "outputs": [
        {
          "output_type": "stream",
          "name": "stdout",
          "text": [
            "\n",
            "\n",
            "Standardized X : \n",
            " [[-1.82280225]\n",
            " [-1.82280225]\n",
            " [-1.76701156]\n",
            " ...\n",
            " [ 0.        ]\n",
            " [ 0.79936038]\n",
            " [ 1.13410455]]\n"
          ]
        }
      ]
    }
  ]
}