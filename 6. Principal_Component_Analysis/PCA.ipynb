{
  "nbformat": 4,
  "nbformat_minor": 0,
  "metadata": {
    "colab": {
      "name": "Lab_6_CE046_PCA_Exercise_2.ipynb",
      "provenance": [],
      "collapsed_sections": []
    },
    "kernelspec": {
      "name": "python3",
      "display_name": "Python 3"
    },
    "language_info": {
      "name": "python"
    }
  },
  "cells": [
    {
      "cell_type": "markdown",
      "source": [
        "<h1> <b> Lab - 6 </b> </h1>\n",
        "<h3></b> </h3>\n",
        "\n",
        "1.   Exercise - 2: Run PCA on IRIS dataset. Visualise the output in\n",
        "2 dimensions using to Principal components. Choose different pairs of principal components and\n",
        "note down your observations.\n",
        "\n",
        "2.   Exercise - 3: Run PCA + Naive Bayes classifier on IRIS dataset and calculate\n",
        "precision and recall of the system.\n",
        "\n",
        "\n",
        "<br>"
      ],
      "metadata": {
        "id": "VEHzKzyPeeHh"
      }
    },
    {
      "cell_type": "markdown",
      "source": [
        "<br/><h2> <b> Import necessary libraries. </b> </h2><br/>"
      ],
      "metadata": {
        "id": "8T6IXrV5fV4G"
      }
    },
    {
      "cell_type": "code",
      "execution_count": 80,
      "metadata": {
        "id": "brRFe2d8eVwQ"
      },
      "outputs": [],
      "source": [
        "import numpy as np\n",
        "import matplotlib.pyplot as plt\n",
        "from sklearn import datasets\n",
        "from sklearn.decomposition import PCA\n",
        "from sklearn.model_selection import train_test_split\n",
        "from sklearn.naive_bayes import GaussianNB\n",
        "from sklearn.metrics import precision_score,recall_score, accuracy_score"
      ]
    },
    {
      "cell_type": "markdown",
      "source": [
        "<br/><h2> <b> Load the data. </b> </h2><br/>"
      ],
      "metadata": {
        "id": "RsCNgGXCfa7Z"
      }
    },
    {
      "cell_type": "code",
      "source": [
        "iris = datasets.load_iris()\n",
        "iris.data.shape"
      ],
      "metadata": {
        "colab": {
          "base_uri": "https://localhost:8080/"
        },
        "id": "e9Q5lUSTet20",
        "outputId": "11c3e7e4-faea-4df4-f2c1-fbc9a7d91c44"
      },
      "execution_count": 81,
      "outputs": [
        {
          "output_type": "execute_result",
          "data": {
            "text/plain": [
              "(150, 4)"
            ]
          },
          "metadata": {},
          "execution_count": 81
        }
      ]
    },
    {
      "cell_type": "markdown",
      "source": [
        "<br/><h2> <b> Extract features and targets from the dataset. </b> </h2><br/>"
      ],
      "metadata": {
        "id": "32kGlm49fd6b"
      }
    },
    {
      "cell_type": "code",
      "source": [
        "features = iris.data\n",
        "targets = iris.target\n",
        "\n",
        "print(\"Shape of the features: \", features.shape)\n",
        "print(\"Shape of the targets: \", targets.shape)\n"
      ],
      "metadata": {
        "colab": {
          "base_uri": "https://localhost:8080/"
        },
        "id": "2g2a8HEre8Nl",
        "outputId": "21cc8877-ad87-413b-df86-b87c94aae05d"
      },
      "execution_count": 82,
      "outputs": [
        {
          "output_type": "stream",
          "name": "stdout",
          "text": [
            "Shape of the features:  (150, 4)\n",
            "Shape of the targets:  (150,)\n"
          ]
        }
      ]
    },
    {
      "cell_type": "markdown",
      "source": [
        "<br/><h2> <b> Perform dimensionality reduction </b> </h2><br/>"
      ],
      "metadata": {
        "id": "KJiwNdVrftYc"
      }
    },
    {
      "cell_type": "markdown",
      "source": [
        "# Reducing the dimension of features from 4 to 3."
      ],
      "metadata": {
        "id": "xQU6M1rQfkbq"
      }
    },
    {
      "cell_type": "markdown",
      "source": [
        "<br/><h2> <b> Making 3 principle components from 4 features. </b> </h2><br/>"
      ],
      "metadata": {
        "id": "orQk1gILhaSz"
      }
    },
    {
      "cell_type": "code",
      "source": [
        "pca = PCA(n_components = 3)"
      ],
      "metadata": {
        "id": "kQTs7cGVfyrU"
      },
      "execution_count": 105,
      "outputs": []
    },
    {
      "cell_type": "code",
      "source": [
        "pca.fit(features)"
      ],
      "metadata": {
        "colab": {
          "base_uri": "https://localhost:8080/"
        },
        "id": "ww5dDfmXf-Md",
        "outputId": "2bb62ba9-63e2-4cc8-c11d-2b865535b518"
      },
      "execution_count": 106,
      "outputs": [
        {
          "output_type": "execute_result",
          "data": {
            "text/plain": [
              "PCA(n_components=3)"
            ]
          },
          "metadata": {},
          "execution_count": 106
        }
      ]
    },
    {
      "cell_type": "markdown",
      "source": [
        "<br/><h2> <b> Calculating Eigenvectors and Eigenvalues. </b> </h2><br/>"
      ],
      "metadata": {
        "id": "jhBonYX3hmjC"
      }
    },
    {
      "cell_type": "code",
      "source": [
        "print(\"Eigen Vectors:\\n\")\n",
        "print(pca.components_)\n",
        "\n",
        "print(\"\\nEigen Values:\\n\")\n",
        "print(pca.explained_variance_)"
      ],
      "metadata": {
        "colab": {
          "base_uri": "https://localhost:8080/"
        },
        "id": "Np_PCmigf_Vl",
        "outputId": "6f27cef3-9179-4cec-a4a8-bef39bfd6d2d"
      },
      "execution_count": 107,
      "outputs": [
        {
          "output_type": "stream",
          "name": "stdout",
          "text": [
            "Eigen Vectors:\n",
            "\n",
            "[[ 0.36138659 -0.08452251  0.85667061  0.3582892 ]\n",
            " [ 0.65658877  0.73016143 -0.17337266 -0.07548102]\n",
            " [-0.58202985  0.59791083  0.07623608  0.54583143]]\n",
            "\n",
            "Eigen Values:\n",
            "\n",
            "[4.22824171 0.24267075 0.0782095 ]\n"
          ]
        }
      ]
    },
    {
      "cell_type": "markdown",
      "source": [
        "<br/><h2> <b> Transform features to Principle components. </b> </h2><br/>"
      ],
      "metadata": {
        "id": "5w4sve_ZhtE2"
      }
    },
    {
      "cell_type": "code",
      "source": [
        "transformed = pca.transform(features)\n",
        "\n",
        "# features should be reduced to 3 from 4.\n",
        "transformed.shape"
      ],
      "metadata": {
        "colab": {
          "base_uri": "https://localhost:8080/"
        },
        "id": "k_1R_e0IgLL3",
        "outputId": "2b4b2341-052e-482c-95c7-4b89295f71c8"
      },
      "execution_count": 108,
      "outputs": [
        {
          "output_type": "execute_result",
          "data": {
            "text/plain": [
              "(150, 3)"
            ]
          },
          "metadata": {},
          "execution_count": 108
        }
      ]
    },
    {
      "cell_type": "markdown",
      "source": [
        "<br/><h2> <b> Visualization of principle components in 2D. </b> </h2><br/>"
      ],
      "metadata": {
        "id": "S2eyBY01h41U"
      }
    },
    {
      "cell_type": "code",
      "source": [
        "fig = plt.figure()\n",
        "ax = plt.axes(projection = '3d')\n",
        "ax.scatter(transformed[:,1], np.zeros(len(transformed[:,1])), np.zeros(len(transformed[:,1])), c = \"orange\") # (value, 0, 0)\n",
        "ax.scatter(np.zeros(len(transformed[:,2])), transformed[:,2],np.zeros(len(transformed[:,2])), c = \"blue\") # (0, value, 0)\n",
        "ax.scatter(np.zeros(len(transformed[:,2])), np.zeros(len(transformed[:,2])), transformed[:,2], c = \"red\") # (0, 0, value)\n",
        "ax.scatter(transformed[:,0], transformed[:,1], transformed[:,2], c = 'g')"
      ],
      "metadata": {
        "colab": {
          "base_uri": "https://localhost:8080/",
          "height": 265
        },
        "id": "VXqtfL3FgYOw",
        "outputId": "16309c17-aa0d-4737-c605-9170aad7edb2"
      },
      "execution_count": 109,
      "outputs": [
        {
          "output_type": "execute_result",
          "data": {
            "text/plain": [
              "<mpl_toolkits.mplot3d.art3d.Path3DCollection at 0x7f5384def510>"
            ]
          },
          "metadata": {},
          "execution_count": 109
        },
        {
          "output_type": "display_data",
          "data": {
            "image/png": "[encoded data removed]",
            "text/plain": [
              "<Figure size 432x288 with 1 Axes>"
            ]
          },
          "metadata": {
            "needs_background": "light"
          }
        }
      ]
    },
    {
      "cell_type": "markdown",
      "source": [
        "<br/><h2> <b> Split the dataset into training and testing data. </b> </h2><br/>"
      ],
      "metadata": {
        "id": "L5VHuFVCiBG1"
      }
    },
    {
      "cell_type": "code",
      "source": [
        "X_train, X_test, y_train, y_test = train_test_split(features, targets, test_size = 0.33, random_state = 46)\n",
        "print(X_train.shape, X_test.shape)"
      ],
      "metadata": {
        "colab": {
          "base_uri": "https://localhost:8080/"
        },
        "id": "Yo9f5n2WgwYK",
        "outputId": "b6071cd0-b11e-451a-8c19-4172c9184b8e"
      },
      "execution_count": 110,
      "outputs": [
        {
          "output_type": "stream",
          "name": "stdout",
          "text": [
            "(100, 4) (50, 4)\n"
          ]
        }
      ]
    },
    {
      "cell_type": "markdown",
      "source": [
        "<br/><h2> <b> Convert original data of training and testing into PCA basis data. </b> </h2><br/>"
      ],
      "metadata": {
        "id": "GgYM3aCeiGj5"
      }
    },
    {
      "cell_type": "code",
      "source": [
        "X_train_pca = pca.transform(X_train)\n",
        "X_test_pca = pca.transform(X_test)\n",
        "print(X_train_pca.shape, X_test_pca.shape)"
      ],
      "metadata": {
        "colab": {
          "base_uri": "https://localhost:8080/"
        },
        "id": "IVtzCue8hPvb",
        "outputId": "3f1b3937-875a-4598-9819-c7fc29167e20"
      },
      "execution_count": 111,
      "outputs": [
        {
          "output_type": "stream",
          "name": "stdout",
          "text": [
            "(100, 3) (50, 3)\n"
          ]
        }
      ]
    },
    {
      "cell_type": "markdown",
      "source": [
        "<br/><h2> <b> Apply Naive Bayes algorithm and calculate the accuracy of the model. </b> </h2><br/>"
      ],
      "metadata": {
        "id": "P2GLPtuGiYf6"
      }
    },
    {
      "cell_type": "code",
      "source": [
        "gnb = GaussianNB()\n",
        "gnb.fit(X_train_pca, y_train)\n",
        "\n",
        "y_pred = gnb.predict(X_test_pca)\n",
        "print(\"Accuracy: \", accuracy_score(y_test, y_pred))\n",
        "print(\"\\nPrecision: \",precision_score(y_test, y_pred, average = \"weighted\"))\n",
        "print(\"\\nRecall: \",recall_score(y_test, y_pred, average = \"weighted\"))"
      ],
      "metadata": {
        "colab": {
          "base_uri": "https://localhost:8080/"
        },
        "id": "EhJDs7bPhQKz",
        "outputId": "248c7e41-8b7a-474b-a4a6-e6a1f5c95232"
      },
      "execution_count": 112,
      "outputs": [
        {
          "output_type": "stream",
          "name": "stdout",
          "text": [
            "Accuracy:  0.9\n",
            "\n",
            "Precision:  0.9010833333333333\n",
            "\n",
            "Recall:  0.9\n"
          ]
        }
      ]
    },
    {
      "cell_type": "markdown",
      "source": [
        "# Reducing the dimension of features from 4 to 2."
      ],
      "metadata": {
        "id": "OUXJmAQQi20q"
      }
    },
    {
      "cell_type": "markdown",
      "source": [
        "<br/><h2> <b> Making 2 principle components from 4 features. </b> </h2><br/>"
      ],
      "metadata": {
        "id": "RQy0fdfRi_IS"
      }
    },
    {
      "cell_type": "code",
      "source": [
        "pca = PCA(n_components = 2)"
      ],
      "metadata": {
        "id": "OmQgoXmVi6dp"
      },
      "execution_count": 113,
      "outputs": []
    },
    {
      "cell_type": "code",
      "source": [
        "pca.fit(features)"
      ],
      "metadata": {
        "colab": {
          "base_uri": "https://localhost:8080/"
        },
        "id": "xBc-mnXQjIEN",
        "outputId": "8f6a8ed7-c747-42d7-d2be-78ba4d5f2f39"
      },
      "execution_count": 114,
      "outputs": [
        {
          "output_type": "execute_result",
          "data": {
            "text/plain": [
              "PCA(n_components=2)"
            ]
          },
          "metadata": {},
          "execution_count": 114
        }
      ]
    },
    {
      "cell_type": "markdown",
      "source": [
        "<br/><h2> <b> Calculating Eigenvectors and Eigenvalues. </b> </h2><br/>"
      ],
      "metadata": {
        "id": "PYB4MgXjjQgv"
      }
    },
    {
      "cell_type": "code",
      "source": [
        "print(\"Eigen Vectors:\\n\")\n",
        "print(pca.components_)\n",
        "\n",
        "print(\"\\nEigen Values:\\n\")\n",
        "print(pca.explained_variance_)"
      ],
      "metadata": {
        "colab": {
          "base_uri": "https://localhost:8080/"
        },
        "id": "QOygeqDQjLGf",
        "outputId": "7f064dc9-23da-4a19-f7ce-a2e062c2b5b6"
      },
      "execution_count": 115,
      "outputs": [
        {
          "output_type": "stream",
          "name": "stdout",
          "text": [
            "Eigen Vectors:\n",
            "\n",
            "[[ 0.36138659 -0.08452251  0.85667061  0.3582892 ]\n",
            " [ 0.65658877  0.73016143 -0.17337266 -0.07548102]]\n",
            "\n",
            "Eigen Values:\n",
            "\n",
            "[4.22824171 0.24267075]\n"
          ]
        }
      ]
    },
    {
      "cell_type": "markdown",
      "source": [
        "<br/><h2> <b> Transform features to Principle components. </b> </h2><br/>"
      ],
      "metadata": {
        "id": "OywyisESjZVW"
      }
    },
    {
      "cell_type": "code",
      "source": [
        "transformed = pca.transform(features)\n",
        "\n",
        "# features should be reduced to 2 from 4.\n",
        "transformed.shape"
      ],
      "metadata": {
        "colab": {
          "base_uri": "https://localhost:8080/"
        },
        "id": "WwO9GtIAjTtZ",
        "outputId": "92391e8b-a813-498b-9a43-72c796e0c9e6"
      },
      "execution_count": 116,
      "outputs": [
        {
          "output_type": "execute_result",
          "data": {
            "text/plain": [
              "(150, 2)"
            ]
          },
          "metadata": {},
          "execution_count": 116
        }
      ]
    },
    {
      "cell_type": "markdown",
      "source": [
        "<br/><h2> <b> Visualization of principle components in 2D. </b> </h2><br/>"
      ],
      "metadata": {
        "id": "T4qstEVsjg7u"
      }
    },
    {
      "cell_type": "code",
      "source": [
        "plt.scatter(transformed[:,0], np.zeros(len(transformed[:,0]))) # (value, 0)\n",
        "plt.scatter(np.zeros(len(transformed[:,1])), transformed[:,1]) # (0, value)\n",
        "plt.scatter(transformed[:,0], transformed[:,1], c = 'green')"
      ],
      "metadata": {
        "colab": {
          "base_uri": "https://localhost:8080/",
          "height": 287
        },
        "id": "t5mJIWyljceA",
        "outputId": "581f9ea5-f2a4-44c9-d735-6644f9ee1981"
      },
      "execution_count": 117,
      "outputs": [
        {
          "output_type": "execute_result",
          "data": {
            "text/plain": [
              "<matplotlib.collections.PathCollection at 0x7f5384d85550>"
            ]
          },
          "metadata": {},
          "execution_count": 117
        },
        {
          "output_type": "display_data",
          "data": {
            "image/png": "[encoded data removed]",
            "text/plain": [
              "<Figure size 432x288 with 1 Axes>"
            ]
          },
          "metadata": {
            "needs_background": "light"
          }
        }
      ]
    },
    {
      "cell_type": "markdown",
      "source": [
        "<br/><h2> <b> Split the dataset into training and testing data. </b> </h2><br/>"
      ],
      "metadata": {
        "id": "8JntfGm0j1KV"
      }
    },
    {
      "cell_type": "code",
      "source": [
        "X_train, X_test, y_train, y_test = train_test_split(features, targets, test_size = 0.33, random_state = 46)\n",
        "print(X_train.shape, X_test.shape)"
      ],
      "metadata": {
        "colab": {
          "base_uri": "https://localhost:8080/"
        },
        "id": "sZ0YEw_KjoAC",
        "outputId": "53a687a1-0a78-4768-b975-19016981476d"
      },
      "execution_count": 118,
      "outputs": [
        {
          "output_type": "stream",
          "name": "stdout",
          "text": [
            "(100, 4) (50, 4)\n"
          ]
        }
      ]
    },
    {
      "cell_type": "markdown",
      "source": [
        "<br/><h2> <b> Convert original data of training and testing into PCA basis data. </b> </h2><br/>"
      ],
      "metadata": {
        "id": "oS3W5gayj7xr"
      }
    },
    {
      "cell_type": "code",
      "source": [
        "X_train_pca = pca.transform(X_train)\n",
        "X_test_pca = pca.transform(X_test)\n",
        "print(X_train_pca.shape,X_test_pca.shape)"
      ],
      "metadata": {
        "colab": {
          "base_uri": "https://localhost:8080/"
        },
        "id": "wNYlEqxaj36N",
        "outputId": "7c2dde90-acdb-4aa0-c6b4-1fcbadc857ae"
      },
      "execution_count": 119,
      "outputs": [
        {
          "output_type": "stream",
          "name": "stdout",
          "text": [
            "(100, 2) (50, 2)\n"
          ]
        }
      ]
    },
    {
      "cell_type": "markdown",
      "source": [
        "<br/><h2> <b> Apply Naive Bayes algorithm and calculate the accuracy of the model. </b> </h2><br/>"
      ],
      "metadata": {
        "id": "EQQE-N_BkEz0"
      }
    },
    {
      "cell_type": "code",
      "source": [
        "gnb = GaussianNB()\n",
        "gnb.fit(X_train_pca, y_train)\n",
        "\n",
        "y_pred = gnb.predict(X_test_pca)\n",
        "print(\"Accuracy: \", accuracy_score(y_test, y_pred))\n",
        "print(\"\\nPrecision: \",precision_score(y_test, y_pred, average = \"weighted\"))\n",
        "print(\"\\nRecall: \",recall_score(y_test, y_pred, average = \"weighted\"))"
      ],
      "metadata": {
        "colab": {
          "base_uri": "https://localhost:8080/"
        },
        "id": "awRejX3wkG7Z",
        "outputId": "c48ba664-443c-41ce-e72f-c0439fcd8ff2"
      },
      "execution_count": 120,
      "outputs": [
        {
          "output_type": "stream",
          "name": "stdout",
          "text": [
            "Accuracy:  0.88\n",
            "\n",
            "Precision:  0.8827350427350428\n",
            "\n",
            "Recall:  0.88\n"
          ]
        }
      ]
    },
    {
      "cell_type": "markdown",
      "source": [
        "# Reducing the dimension of features from 4 to 2."
      ],
      "metadata": {
        "id": "oDv9DTUJmxtc"
      }
    },
    {
      "cell_type": "markdown",
      "source": [
        "<br/><h2> <b> Making 1 principle components from 4 features. </b> </h2><br/>"
      ],
      "metadata": {
        "id": "bg0fJWaem2GT"
      }
    },
    {
      "cell_type": "code",
      "source": [
        "pca = PCA(n_components = 1)"
      ],
      "metadata": {
        "id": "8dQXAXEFm1WL"
      },
      "execution_count": 121,
      "outputs": []
    },
    {
      "cell_type": "code",
      "source": [
        "pca.fit(features)"
      ],
      "metadata": {
        "colab": {
          "base_uri": "https://localhost:8080/"
        },
        "id": "jx7NMbjGm-Cp",
        "outputId": "99d8b33d-cbea-4500-9dfa-718a88bfc8a0"
      },
      "execution_count": 122,
      "outputs": [
        {
          "output_type": "execute_result",
          "data": {
            "text/plain": [
              "PCA(n_components=1)"
            ]
          },
          "metadata": {},
          "execution_count": 122
        }
      ]
    },
    {
      "cell_type": "markdown",
      "source": [
        "<br/><h2> <b> Calculating Eigenvectors and Eigenvalues. </b> </h2><br/>"
      ],
      "metadata": {
        "id": "APDHndHDnCN8"
      }
    },
    {
      "cell_type": "code",
      "source": [
        "print(\"Eigen Vectors:\\n\")\n",
        "print(pca.components_)\n",
        "\n",
        "print(\"\\nEigen Values:\\n\")\n",
        "print(pca.explained_variance_)"
      ],
      "metadata": {
        "colab": {
          "base_uri": "https://localhost:8080/"
        },
        "id": "cykN4dRmm_sI",
        "outputId": "e6481bcb-5f65-4576-f59a-73a6894dbe8d"
      },
      "execution_count": 123,
      "outputs": [
        {
          "output_type": "stream",
          "name": "stdout",
          "text": [
            "Eigen Vectors:\n",
            "\n",
            "[[ 0.36138659 -0.08452251  0.85667061  0.3582892 ]]\n",
            "\n",
            "Eigen Values:\n",
            "\n",
            "[4.22824171]\n"
          ]
        }
      ]
    },
    {
      "cell_type": "markdown",
      "source": [
        "<br/><h2> <b> Transform features to Principle components. </b> </h2><br/>"
      ],
      "metadata": {
        "id": "D0SkH5E6nIjy"
      }
    },
    {
      "cell_type": "code",
      "source": [
        "transformed = pca.transform(features)\n",
        "\n",
        "# features should be reduced to 1 from 4.\n",
        "transformed.shape"
      ],
      "metadata": {
        "colab": {
          "base_uri": "https://localhost:8080/"
        },
        "id": "fnQfmdEjnE_K",
        "outputId": "7a051846-2113-4fcd-c4f3-97eaa69bef44"
      },
      "execution_count": 124,
      "outputs": [
        {
          "output_type": "execute_result",
          "data": {
            "text/plain": [
              "(150, 1)"
            ]
          },
          "metadata": {},
          "execution_count": 124
        }
      ]
    },
    {
      "cell_type": "markdown",
      "source": [
        "<br/><h2> <b> Visualization of principle components in 2D. </b> </h2><br/>"
      ],
      "metadata": {
        "id": "hBAo_KFZnPAC"
      }
    },
    {
      "cell_type": "code",
      "source": [
        "plt.scatter(transformed, np.zeros(len(transformed))) # (value, 0)"
      ],
      "metadata": {
        "colab": {
          "base_uri": "https://localhost:8080/",
          "height": 283
        },
        "id": "APyafgQonL-y",
        "outputId": "b8272b41-50b5-4007-bb31-2871c6dd6a6a"
      },
      "execution_count": 125,
      "outputs": [
        {
          "output_type": "execute_result",
          "data": {
            "text/plain": [
              "<matplotlib.collections.PathCollection at 0x7f5384ce8490>"
            ]
          },
          "metadata": {},
          "execution_count": 125
        },
        {
          "output_type": "display_data",
          "data": {
            "image/png": "[encoded data removed]",
            "text/plain": [
              "<Figure size 432x288 with 1 Axes>"
            ]
          },
          "metadata": {
            "needs_background": "light"
          }
        }
      ]
    },
    {
      "cell_type": "markdown",
      "source": [
        "<br/><h2> <b> Split the dataset into training and testing data. </b> </h2><br/>"
      ],
      "metadata": {
        "id": "YjrXlKOvna_V"
      }
    },
    {
      "cell_type": "code",
      "source": [
        "X_train, X_test, y_train, y_test = train_test_split(features, targets, test_size = 0.33, random_state = 46)\n",
        "print(X_train.shape, X_test.shape)"
      ],
      "metadata": {
        "colab": {
          "base_uri": "https://localhost:8080/"
        },
        "id": "Iwq8oDcMnXLZ",
        "outputId": "9850f93c-92e1-4826-9124-d89615152dd8"
      },
      "execution_count": 126,
      "outputs": [
        {
          "output_type": "stream",
          "name": "stdout",
          "text": [
            "(100, 4) (50, 4)\n"
          ]
        }
      ]
    },
    {
      "cell_type": "markdown",
      "source": [
        "<br/><h2> <b> Convert original data of training and testing into PCA basis data. </b> </h2><br/>"
      ],
      "metadata": {
        "id": "WLTZ-kvhnh9W"
      }
    },
    {
      "cell_type": "code",
      "source": [
        "X_train_pca = pca.transform(X_train)\n",
        "X_test_pca = pca.transform(X_test)\n",
        "print(X_train_pca.shape,X_test_pca.shape)"
      ],
      "metadata": {
        "colab": {
          "base_uri": "https://localhost:8080/"
        },
        "id": "G1b6hksZne80",
        "outputId": "5487fb3d-1353-49c0-bd10-c8f606b74b36"
      },
      "execution_count": 127,
      "outputs": [
        {
          "output_type": "stream",
          "name": "stdout",
          "text": [
            "(100, 1) (50, 1)\n"
          ]
        }
      ]
    },
    {
      "cell_type": "markdown",
      "source": [
        "<br/><h2> <b> Apply Naive Bayes algorithm and calculate the accuracy of the model. </b> </h2><br/>"
      ],
      "metadata": {
        "id": "w4SsK9KknooO"
      }
    },
    {
      "cell_type": "code",
      "source": [
        "gnb = GaussianNB()\n",
        "gnb.fit(X_train_pca, y_train)\n",
        "\n",
        "y_pred = gnb.predict(X_test_pca)\n",
        "print(\"Accuracy: \", accuracy_score(y_test, y_pred))\n",
        "print(\"\\nPrecision: \",precision_score(y_test, y_pred, average = \"weighted\"))\n",
        "print(\"\\nRecall: \",recall_score(y_test, y_pred, average = \"weighted\"))"
      ],
      "metadata": {
        "colab": {
          "base_uri": "https://localhost:8080/"
        },
        "id": "XH-FBQXsnljo",
        "outputId": "1d6a6c50-76d8-4ed4-8949-5d1fad4dfb05"
      },
      "execution_count": 128,
      "outputs": [
        {
          "output_type": "stream",
          "name": "stdout",
          "text": [
            "Accuracy:  0.92\n",
            "\n",
            "Precision:  0.92\n",
            "\n",
            "Recall:  0.92\n"
          ]
        }
      ]
    },
    {
      "cell_type": "markdown",
      "source": [
        "# Observations\n",
        "\n",
        "\n",
        "\n"
      ],
      "metadata": {
        "id": "B_4qxvSIn14T"
      }
    },
    {
      "cell_type": "markdown",
      "source": [
        "\n",
        "1.   Accuracy when 3 Principle components = 90%\n",
        "2.   Accuracy when 2 Principle components = 88% \n",
        "3.   Accuracy when 1 Principle components = 92%\n",
        "\n",
        "\n",
        "<h1><b>By looking at the accuracies, we can conclude that accuracies are approximately remain same in all cases. So, instead of using all 4 features we can use only 1 feature to solve the problem. Hence, reduces the time and increases the processing speed.</b></h1>"
      ],
      "metadata": {
        "id": "cuzO_oU7n71L"
      }
    }
  ]
}