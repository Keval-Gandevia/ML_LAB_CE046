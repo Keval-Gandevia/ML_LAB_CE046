{
  "nbformat": 4,
  "nbformat_minor": 0,
  "metadata": {
    "colab": {
      "name": "Lab_2_CE046_HandlingMissingValues.ipynb",
      "provenance": [],
      "collapsed_sections": []
    },
    "kernelspec": {
      "name": "python3",
      "display_name": "Python 3"
    },
    "language_info": {
      "name": "python"
    }
  },
  "cells": [
    {
      "cell_type": "markdown",
      "source": [
        "<h1> <b> Lab - 2 </b> </h1>\n",
        "<h2> <b> Excersise on Handling Missing Values </b> </h1>\n",
        "<br/>\n"
      ],
      "metadata": {
        "id": "zTPoHYa6o-sS"
      }
    },
    {
      "cell_type": "code",
      "execution_count": 54,
      "metadata": {
        "colab": {
          "base_uri": "https://localhost:8080/"
        },
        "id": "_QVfTQSYo2g8",
        "outputId": "42bdffa5-1788-4b58-a18e-9901bab53bbe"
      },
      "outputs": [
        {
          "output_type": "stream",
          "name": "stdout",
          "text": [
            "Drive already mounted at /content/drive; to attempt to forcibly remount, call drive.mount(\"/content/drive\", force_remount=True).\n"
          ]
        }
      ],
      "source": [
        "# Step 1: Import Libraries\n",
        "\n",
        "import numpy as np \n",
        "import pandas as pd\n",
        "from sklearn.impute import SimpleImputer \n",
        "\n",
        "# mount drive\n",
        "\n",
        "from google.colab import drive\n",
        "drive.mount('/content/drive')"
      ]
    },
    {
      "cell_type": "code",
      "source": [
        "# step - 2 Load data\n",
        "\n",
        "datasets = pd.read_csv(\"/content/drive/MyDrive/ML LAB/Exercise-CarData.csv\")\n",
        "\n",
        "print(\"\\nDatasets: \\n\", datasets)\n",
        "print(\"\\n Statstics: \\n\", datasets.describe())"
      ],
      "metadata": {
        "colab": {
          "base_uri": "https://localhost:8080/"
        },
        "id": "hrnPlw8KqaGf",
        "outputId": "31f6b1c1-c5eb-4701-e9bf-63f12bfb1437"
      },
      "execution_count": 55,
      "outputs": [
        {
          "output_type": "stream",
          "name": "stdout",
          "text": [
            "\n",
            "Datasets: \n",
            "       Unnamed: 0  Price   Age     KM  ... Automatic    CC  Doors  Weight\n",
            "0              0  13500  23.0  46986  ...         0  2000  three    1165\n",
            "1              1  13750  23.0  72937  ...         0  2000      3    1165\n",
            "2              2  13950  24.0  41711  ...         0  2000      3    1165\n",
            "3              3  14950  26.0  48000  ...         0  2000      3    1165\n",
            "4              4  13750  30.0  38500  ...         0  2000      3    1170\n",
            "...          ...    ...   ...    ...  ...       ...   ...    ...     ...\n",
            "1431        1431   7500   NaN  20544  ...         0  1300      3    1025\n",
            "1432        1432  10845  72.0     ??  ...         0  1300      3    1015\n",
            "1433        1433   8500   NaN  17016  ...         0  1300      3    1015\n",
            "1434        1434   7250  70.0     ??  ...         0  1300      3    1015\n",
            "1435        1435   6950  76.0      1  ...         0  1600      5    1114\n",
            "\n",
            "[1436 rows x 11 columns]\n",
            "\n",
            " Statstics: \n",
            "         Unnamed: 0         Price  ...           CC      Weight\n",
            "count  1436.000000   1436.000000  ...  1436.000000  1436.00000\n",
            "mean    717.500000  10730.824513  ...  1566.827994  1072.45961\n",
            "std     414.681806   3626.964585  ...   187.182436    52.64112\n",
            "min       0.000000   4350.000000  ...  1300.000000  1000.00000\n",
            "25%     358.750000   8450.000000  ...  1400.000000  1040.00000\n",
            "50%     717.500000   9900.000000  ...  1600.000000  1070.00000\n",
            "75%    1076.250000  11950.000000  ...  1600.000000  1085.00000\n",
            "max    1435.000000  32500.000000  ...  2000.000000  1615.00000\n",
            "\n",
            "[8 rows x 7 columns]\n"
          ]
        }
      ]
    },
    {
      "cell_type": "code",
      "source": [
        "# Step 3: Seprate Input and Output attributes\n",
        "\n",
        "# all rows and all cols except first\n",
        "X = datasets.loc[:, datasets.columns != \"Price\"].values\n",
        "\n",
        "# take only output column\n",
        "Y = datasets.loc[:, datasets.columns == \"Price\"].values\n",
        "\n",
        "print(\"Input: \\n\", X)\n",
        "print(\"\\n\\nOutput: \\n\", Y)"
      ],
      "metadata": {
        "colab": {
          "base_uri": "https://localhost:8080/"
        },
        "id": "C-MEdawozUB7",
        "outputId": "47dbc535-9b0b-4d99-9b1f-918cffc470bc"
      },
      "execution_count": 56,
      "outputs": [
        {
          "output_type": "stream",
          "name": "stdout",
          "text": [
            "Input: \n",
            " [[0 23.0 '46986' ... 2000 'three' 1165]\n",
            " [1 23.0 '72937' ... 2000 '3' 1165]\n",
            " [2 24.0 '41711' ... 2000 '3' 1165]\n",
            " ...\n",
            " [1433 nan '17016' ... 1300 '3' 1015]\n",
            " [1434 70.0 '??' ... 1300 '3' 1015]\n",
            " [1435 76.0 '1' ... 1600 '5' 1114]]\n",
            "\n",
            "\n",
            "Output: \n",
            " [[13500]\n",
            " [13750]\n",
            " [13950]\n",
            " ...\n",
            " [ 8500]\n",
            " [ 7250]\n",
            " [ 6950]]\n"
          ]
        }
      ]
    },
    {
      "cell_type": "markdown",
      "source": [
        "<br/>\n",
        " <h3><b> In handling the Price </b></h3>\n",
        "\n",
        "*   First, we check null values are present or not.\n",
        "*   In this case, null values are not present.\n",
        "\n",
        "<br/>"
      ],
      "metadata": {
        "id": "50mQci7oheSL"
      }
    },
    {
      "cell_type": "code",
      "source": [
        "# handling price\n",
        "\n",
        "print(datasets['Price'].isna().sum())\n",
        "\n",
        "# answer is zero means no null value."
      ],
      "metadata": {
        "colab": {
          "base_uri": "https://localhost:8080/"
        },
        "id": "ajS-hRLn-_0j",
        "outputId": "cd72f835-e6bd-4a0d-de9e-d16f1be6b6db"
      },
      "execution_count": 57,
      "outputs": [
        {
          "output_type": "stream",
          "name": "stdout",
          "text": [
            "0\n"
          ]
        }
      ]
    },
    {
      "cell_type": "markdown",
      "source": [
        "<br/>\n",
        " <h3><b> In handling the age </b></h3>\n",
        "\n",
        "*   First, we check null values are present or not.\n",
        "*   In this case, null values are present. So, we replace it by mean of the entire column.\n",
        "\n",
        "<br/>"
      ],
      "metadata": {
        "id": "p6C34l4ziKED"
      }
    },
    {
      "cell_type": "code",
      "source": [
        "# handling age\n",
        "\n",
        "datasets['Age'].unique()"
      ],
      "metadata": {
        "colab": {
          "base_uri": "https://localhost:8080/"
        },
        "id": "C_sPJafc_rgr",
        "outputId": "fc8085bc-415f-49a9-aab4-8c7f0754cbcf"
      },
      "execution_count": 58,
      "outputs": [
        {
          "output_type": "execute_result",
          "data": {
            "text/plain": [
              "array([23., 24., 26., 30., 32., 27., 25., 22., 31., 28., 29., nan, 20.,\n",
              "       19., 17., 11., 18., 13., 14.,  4.,  8.,  7., 16., 15., 10., 12.,\n",
              "        9.,  6.,  2.,  1., 43., 38., 40., 44., 41., 37., 39., 42., 35.,\n",
              "       34., 33., 36., 53., 51., 54., 45., 55., 48., 52., 49., 56., 50.,\n",
              "       47., 46., 58., 68., 59., 62., 65., 67., 64., 60., 61., 66., 57.,\n",
              "       63., 73., 79., 78., 74., 77., 69., 80., 76., 70., 71., 75., 72.])"
            ]
          },
          "metadata": {},
          "execution_count": 58
        }
      ]
    },
    {
      "cell_type": "code",
      "source": [
        "#replace nan with mean value\n",
        "\n",
        "# skipna = True ---> skip while calculating the mean\n",
        "# inplace = True ---> because we are not assigning result on the left side.\n",
        "\n",
        "datasets['Age'].fillna(datasets['Age'].mean(skipna = True), inplace = True)\n",
        "datasets['Age'].unique()"
      ],
      "metadata": {
        "colab": {
          "base_uri": "https://localhost:8080/"
        },
        "id": "SsfzNIfn_5PA",
        "outputId": "03994ff0-2125-4a79-d9cd-25a5bcaea56d"
      },
      "execution_count": 59,
      "outputs": [
        {
          "output_type": "execute_result",
          "data": {
            "text/plain": [
              "array([23.        , 24.        , 26.        , 30.        , 32.        ,\n",
              "       27.        , 25.        , 22.        , 31.        , 28.        ,\n",
              "       29.        , 55.67215569, 20.        , 19.        , 17.        ,\n",
              "       11.        , 18.        , 13.        , 14.        ,  4.        ,\n",
              "        8.        ,  7.        , 16.        , 15.        , 10.        ,\n",
              "       12.        ,  9.        ,  6.        ,  2.        ,  1.        ,\n",
              "       43.        , 38.        , 40.        , 44.        , 41.        ,\n",
              "       37.        , 39.        , 42.        , 35.        , 34.        ,\n",
              "       33.        , 36.        , 53.        , 51.        , 54.        ,\n",
              "       45.        , 55.        , 48.        , 52.        , 49.        ,\n",
              "       56.        , 50.        , 47.        , 46.        , 58.        ,\n",
              "       68.        , 59.        , 62.        , 65.        , 67.        ,\n",
              "       64.        , 60.        , 61.        , 66.        , 57.        ,\n",
              "       63.        , 73.        , 79.        , 78.        , 74.        ,\n",
              "       77.        , 69.        , 80.        , 76.        , 70.        ,\n",
              "       71.        , 75.        , 72.        ])"
            ]
          },
          "metadata": {},
          "execution_count": 59
        }
      ]
    },
    {
      "cell_type": "markdown",
      "source": [
        "<br/>\n",
        " <h3><b> In handling the KM </b></h3>\n",
        "\n",
        "*   In this case, ?? is present.\n",
        "*   Replace ?? with some random number (because we need to convert into float).\n",
        "*   Convert object type to float.\n",
        "*   Replace random number with NaN.\n",
        "*   Now, Replace NaN with mean of the entire column.\n",
        "\n",
        "<br/>"
      ],
      "metadata": {
        "id": "sOdbBKW6jaTc"
      }
    },
    {
      "cell_type": "code",
      "source": [
        "# handling KM\n",
        "\n",
        "display(datasets['KM'].unique())"
      ],
      "metadata": {
        "colab": {
          "base_uri": "https://localhost:8080/",
          "height": 53
        },
        "id": "rdoym02HASUr",
        "outputId": "d25e154e-bdd6-4514-d5fa-e58a1401c7d4"
      },
      "execution_count": 60,
      "outputs": [
        {
          "output_type": "display_data",
          "data": {
            "text/plain": [
              "array(['46986', '72937', '41711', ..., '30964', '20544', '17016'],\n",
              "      dtype=object)"
            ]
          },
          "metadata": {}
        }
      ]
    },
    {
      "cell_type": "code",
      "source": [
        "# replace '??' with -99999\n",
        "datasets['KM'] = datasets['KM'].replace('??',-99999)\n",
        "datasets['KM']"
      ],
      "metadata": {
        "colab": {
          "base_uri": "https://localhost:8080/"
        },
        "id": "y-tdJYD5A2tT",
        "outputId": "e24b8036-8e49-48f9-8a27-ca30f57acab8"
      },
      "execution_count": 61,
      "outputs": [
        {
          "output_type": "execute_result",
          "data": {
            "text/plain": [
              "0        46986\n",
              "1        72937\n",
              "2        41711\n",
              "3        48000\n",
              "4        38500\n",
              "         ...  \n",
              "1431     20544\n",
              "1432    -99999\n",
              "1433     17016\n",
              "1434    -99999\n",
              "1435         1\n",
              "Name: KM, Length: 1436, dtype: object"
            ]
          },
          "metadata": {},
          "execution_count": 61
        }
      ]
    },
    {
      "cell_type": "code",
      "source": [
        "# convert into float\n",
        "\n",
        "datasets[\"KM\"] = datasets[\"KM\"].astype(float)\n",
        "datasets[\"KM\"] = datasets['KM'].replace(-99999, np.nan)\n",
        "datasets[\"KM\"]"
      ],
      "metadata": {
        "colab": {
          "base_uri": "https://localhost:8080/"
        },
        "id": "UWcVyfipAl6k",
        "outputId": "4b7a5159-a1a8-4e4b-a868-f4b3e935bd10"
      },
      "execution_count": 62,
      "outputs": [
        {
          "output_type": "execute_result",
          "data": {
            "text/plain": [
              "0       46986.0\n",
              "1       72937.0\n",
              "2       41711.0\n",
              "3       48000.0\n",
              "4       38500.0\n",
              "         ...   \n",
              "1431    20544.0\n",
              "1432        NaN\n",
              "1433    17016.0\n",
              "1434        NaN\n",
              "1435        1.0\n",
              "Name: KM, Length: 1436, dtype: float64"
            ]
          },
          "metadata": {},
          "execution_count": 62
        }
      ]
    },
    {
      "cell_type": "code",
      "source": [
        "# replace nan with mean\n",
        "\n",
        "datasets['KM'] = datasets['KM'].fillna(datasets['KM'].mean(skipna=True))\n",
        "datasets['KM']"
      ],
      "metadata": {
        "colab": {
          "base_uri": "https://localhost:8080/"
        },
        "id": "82pxlE_SB9kt",
        "outputId": "a869337b-e36e-4427-9f2b-6a9ab7ffdcd9"
      },
      "execution_count": 63,
      "outputs": [
        {
          "output_type": "execute_result",
          "data": {
            "text/plain": [
              "0       46986.000000\n",
              "1       72937.000000\n",
              "2       41711.000000\n",
              "3       48000.000000\n",
              "4       38500.000000\n",
              "            ...     \n",
              "1431    20544.000000\n",
              "1432    68647.239972\n",
              "1433    17016.000000\n",
              "1434    68647.239972\n",
              "1435        1.000000\n",
              "Name: KM, Length: 1436, dtype: float64"
            ]
          },
          "metadata": {},
          "execution_count": 63
        }
      ]
    },
    {
      "cell_type": "markdown",
      "source": [
        "<br/>\n",
        " <h3><b> In handling the FuelType </b></h3>\n",
        "\n",
        "*   First check that which values are more in column.\n",
        "*   In this case, Petrol has more values.\n",
        "*   So, we replace nan with Petrol.\n",
        "\n",
        "<br/>"
      ],
      "metadata": {
        "id": "w67aQgZ6ku7d"
      }
    },
    {
      "cell_type": "code",
      "source": [
        "# handling 'FuelType'\n",
        "\n",
        "print(datasets['FuelType'].unique())\n",
        "print(datasets['FuelType'].value_counts())"
      ],
      "metadata": {
        "colab": {
          "base_uri": "https://localhost:8080/"
        },
        "id": "vd1AZ5ybCVgJ",
        "outputId": "ebbb463e-9691-4e5b-edb0-b74c073b75d0"
      },
      "execution_count": 64,
      "outputs": [
        {
          "output_type": "stream",
          "name": "stdout",
          "text": [
            "['Diesel' nan 'Petrol' 'CNG']\n",
            "Petrol    1177\n",
            "Diesel     144\n",
            "CNG         15\n",
            "Name: FuelType, dtype: int64\n"
          ]
        }
      ]
    },
    {
      "cell_type": "code",
      "source": [
        "# replaing nan with petrol\n",
        "\n",
        "datasets['FuelType'] = datasets['FuelType'].fillna('Petrol')\n",
        "datasets['FuelType']"
      ],
      "metadata": {
        "colab": {
          "base_uri": "https://localhost:8080/"
        },
        "id": "CFNl2Vq1C0yB",
        "outputId": "2da6f46e-8227-4873-9986-fe14814ab4c9"
      },
      "execution_count": 65,
      "outputs": [
        {
          "output_type": "execute_result",
          "data": {
            "text/plain": [
              "0       Diesel\n",
              "1       Diesel\n",
              "2       Diesel\n",
              "3       Diesel\n",
              "4       Diesel\n",
              "         ...  \n",
              "1431    Petrol\n",
              "1432    Petrol\n",
              "1433    Petrol\n",
              "1434    Petrol\n",
              "1435    Petrol\n",
              "Name: FuelType, Length: 1436, dtype: object"
            ]
          },
          "metadata": {},
          "execution_count": 65
        }
      ]
    },
    {
      "cell_type": "markdown",
      "source": [
        "<br/>\n",
        " <h3><b> In handling the HP </b></h3>\n",
        "\n",
        "*   In this case, ???? is present.\n",
        "*   Replace ???? with some random number (because we need to convert into float).\n",
        "*   Convert object type to float.\n",
        "*   Replace random number with NaN.\n",
        "*   Now, Replace NaN with mean of the entire column.\n",
        "\n",
        "<br/>"
      ],
      "metadata": {
        "id": "g_oo66HTlVjd"
      }
    },
    {
      "cell_type": "code",
      "source": [
        "display(datasets['HP'].unique())"
      ],
      "metadata": {
        "colab": {
          "base_uri": "https://localhost:8080/",
          "height": 53
        },
        "id": "qDuteekRDP3L",
        "outputId": "48f6000a-cf1c-4748-e8d0-6a6ef06b76b6"
      },
      "execution_count": 66,
      "outputs": [
        {
          "output_type": "display_data",
          "data": {
            "text/plain": [
              "array(['90', '????', '192', '110', '97', '71', '116', '98', '69', '86',\n",
              "       '72', '107', '73'], dtype=object)"
            ]
          },
          "metadata": {}
        }
      ]
    },
    {
      "cell_type": "code",
      "source": [
        "datasets['HP'] = datasets['HP'].replace('????',-99999)\n",
        "datasets['HP']"
      ],
      "metadata": {
        "colab": {
          "base_uri": "https://localhost:8080/"
        },
        "id": "LKV718I5D3pJ",
        "outputId": "fca00129-f678-4745-c88e-7579421ff6cc"
      },
      "execution_count": 67,
      "outputs": [
        {
          "output_type": "execute_result",
          "data": {
            "text/plain": [
              "0        90\n",
              "1        90\n",
              "2        90\n",
              "3        90\n",
              "4        90\n",
              "       ... \n",
              "1431     86\n",
              "1432     86\n",
              "1433     86\n",
              "1434     86\n",
              "1435    110\n",
              "Name: HP, Length: 1436, dtype: object"
            ]
          },
          "metadata": {},
          "execution_count": 67
        }
      ]
    },
    {
      "cell_type": "code",
      "source": [
        "# convert into float\n",
        "\n",
        "datasets[\"HP\"] = datasets[\"HP\"].astype(float)\n",
        "datasets[\"HP\"] = datasets['HP'].replace(-99999, np.nan)\n",
        "datasets[\"HP\"]"
      ],
      "metadata": {
        "colab": {
          "base_uri": "https://localhost:8080/"
        },
        "id": "Pyxo6jyREHsT",
        "outputId": "e243ec9b-3584-43be-d532-2bef66f5f6b5"
      },
      "execution_count": 68,
      "outputs": [
        {
          "output_type": "execute_result",
          "data": {
            "text/plain": [
              "0        90.0\n",
              "1        90.0\n",
              "2        90.0\n",
              "3        90.0\n",
              "4        90.0\n",
              "        ...  \n",
              "1431     86.0\n",
              "1432     86.0\n",
              "1433     86.0\n",
              "1434     86.0\n",
              "1435    110.0\n",
              "Name: HP, Length: 1436, dtype: float64"
            ]
          },
          "metadata": {},
          "execution_count": 68
        }
      ]
    },
    {
      "cell_type": "code",
      "source": [
        "datasets['HP'] = datasets['HP'].fillna(datasets['HP'].mean(skipna=True))\n",
        "print(datasets['HP'])"
      ],
      "metadata": {
        "colab": {
          "base_uri": "https://localhost:8080/"
        },
        "id": "CZOA_CrAET49",
        "outputId": "3e140edf-cc1c-4107-8404-5688f7c9e7b8"
      },
      "execution_count": 69,
      "outputs": [
        {
          "output_type": "stream",
          "name": "stdout",
          "text": [
            "0        90.0\n",
            "1        90.0\n",
            "2        90.0\n",
            "3        90.0\n",
            "4        90.0\n",
            "        ...  \n",
            "1431     86.0\n",
            "1432     86.0\n",
            "1433     86.0\n",
            "1434     86.0\n",
            "1435    110.0\n",
            "Name: HP, Length: 1436, dtype: float64\n"
          ]
        }
      ]
    },
    {
      "cell_type": "markdown",
      "source": [
        "<br/>\n",
        " <h3><b> In handling the MetColor </b></h3>\n",
        "\n",
        "*   In this case, there can be only two values 0 and 1.\n",
        "*   So, first we check that null values are present or not.\n",
        "*   Null values are replaced with '1' because of more occcurence in dataset.\n",
        "\n",
        "<br/>"
      ],
      "metadata": {
        "id": "ImcOOdA9l15E"
      }
    },
    {
      "cell_type": "code",
      "source": [
        "display(datasets['MetColor'].unique())\n",
        "print(datasets['MetColor'].value_counts())"
      ],
      "metadata": {
        "colab": {
          "base_uri": "https://localhost:8080/",
          "height": 90
        },
        "id": "PRv_g7kxEhJW",
        "outputId": "f1931065-2e30-47f9-9b2d-90fb449f1b9c"
      },
      "execution_count": 70,
      "outputs": [
        {
          "output_type": "display_data",
          "data": {
            "text/plain": [
              "array([ 1., nan,  0.])"
            ]
          },
          "metadata": {}
        },
        {
          "output_type": "stream",
          "name": "stdout",
          "text": [
            "1.0    868\n",
            "0.0    418\n",
            "Name: MetColor, dtype: int64\n"
          ]
        }
      ]
    },
    {
      "cell_type": "code",
      "source": [
        "datasets['MetColor'] = datasets['MetColor'].fillna(1)\n",
        "datasets['MetColor']"
      ],
      "metadata": {
        "colab": {
          "base_uri": "https://localhost:8080/"
        },
        "id": "Ovutyk0KFP7Y",
        "outputId": "99e03df4-3651-4682-e12b-7ac43ae7ee27"
      },
      "execution_count": 71,
      "outputs": [
        {
          "output_type": "execute_result",
          "data": {
            "text/plain": [
              "0       1.0\n",
              "1       1.0\n",
              "2       1.0\n",
              "3       0.0\n",
              "4       0.0\n",
              "       ... \n",
              "1431    1.0\n",
              "1432    0.0\n",
              "1433    0.0\n",
              "1434    1.0\n",
              "1435    0.0\n",
              "Name: MetColor, Length: 1436, dtype: float64"
            ]
          },
          "metadata": {},
          "execution_count": 71
        }
      ]
    },
    {
      "cell_type": "markdown",
      "source": [
        "<br/>\n",
        " <h3><b> In handling the Automatic </b></h3>\n",
        "\n",
        "*   First, we check null values are present or not.\n",
        "*   In this case, null values are not present.\n",
        "\n",
        "<br/>"
      ],
      "metadata": {
        "id": "C30-tPxamuik"
      }
    },
    {
      "cell_type": "code",
      "source": [
        "display(datasets['Automatic'].unique())"
      ],
      "metadata": {
        "colab": {
          "base_uri": "https://localhost:8080/",
          "height": 35
        },
        "id": "hWl4IqtKFtD6",
        "outputId": "7d156893-24bd-497f-a50a-84ac7edc8882"
      },
      "execution_count": 72,
      "outputs": [
        {
          "output_type": "display_data",
          "data": {
            "text/plain": [
              "array([0, 1])"
            ]
          },
          "metadata": {}
        }
      ]
    },
    {
      "cell_type": "markdown",
      "source": [
        "<br/>\n",
        " <h3><b> In handling the CC </b></h3>\n",
        "\n",
        "*   First, we check null values are present or not.\n",
        "*   In this case, null values are not present.\n",
        "\n",
        "<br/>"
      ],
      "metadata": {
        "id": "4Dc9rLNzm2OG"
      }
    },
    {
      "cell_type": "code",
      "source": [
        "display(datasets['CC'].unique())"
      ],
      "metadata": {
        "colab": {
          "base_uri": "https://localhost:8080/",
          "height": 53
        },
        "id": "Z2sWsR2jF13F",
        "outputId": "531c87fd-51eb-4d0f-ef8f-29e792507a2a"
      },
      "execution_count": 73,
      "outputs": [
        {
          "output_type": "display_data",
          "data": {
            "text/plain": [
              "array([2000, 1800, 1900, 1600, 1400, 1598, 1995, 1398, 1300, 1587, 1975,\n",
              "       1332])"
            ]
          },
          "metadata": {}
        }
      ]
    },
    {
      "cell_type": "markdown",
      "source": [
        "<br/>\n",
        " <h3><b> In handling the Doors </b></h3>\n",
        "\n",
        "*   We try to check which values are present.\n",
        "*   In this case, for some of the row values are in form of word.\n",
        "*   We declare the mapping for word. Replace word with corresponding value.\n",
        "*   Then, convert from object type to int type.\n",
        "*   Checking for null values which are not present in this case.\n",
        "\n",
        "<br/>"
      ],
      "metadata": {
        "id": "6yBVQigYm6al"
      }
    },
    {
      "cell_type": "code",
      "source": [
        "display(datasets['Doors'].unique())"
      ],
      "metadata": {
        "colab": {
          "base_uri": "https://localhost:8080/",
          "height": 35
        },
        "id": "Y9rcGykfF7QA",
        "outputId": "055395ae-ae2c-49e0-9773-384f56e3ce5e"
      },
      "execution_count": 74,
      "outputs": [
        {
          "output_type": "display_data",
          "data": {
            "text/plain": [
              "array(['three', '3', '5', '4', 'four', 'five', '2'], dtype=object)"
            ]
          },
          "metadata": {}
        }
      ]
    },
    {
      "cell_type": "code",
      "source": [
        "mapping = {'three':'3','four':'4','five':'5'}\n",
        "datasets['Doors'] = datasets['Doors'].replace(mapping)"
      ],
      "metadata": {
        "id": "XRxudtFlGF7d"
      },
      "execution_count": 75,
      "outputs": []
    },
    {
      "cell_type": "code",
      "source": [
        "datasets['Doors'] = datasets['Doors'].astype(int)\n",
        "display(datasets['Doors'].unique())"
      ],
      "metadata": {
        "colab": {
          "base_uri": "https://localhost:8080/",
          "height": 35
        },
        "id": "Ubslss1DGYb-",
        "outputId": "c3df58d4-45a4-4781-c289-42be2d7fb8ac"
      },
      "execution_count": 76,
      "outputs": [
        {
          "output_type": "display_data",
          "data": {
            "text/plain": [
              "array([3, 5, 4, 2])"
            ]
          },
          "metadata": {}
        }
      ]
    },
    {
      "cell_type": "markdown",
      "source": [
        "## Handling Missing values using Imputer"
      ],
      "metadata": {
        "id": "p35JX0_-IOhY"
      }
    },
    {
      "cell_type": "code",
      "source": [
        "# Step 1: Import Libraries\n",
        "\n",
        "import numpy as np \n",
        "import pandas as pd\n",
        "from sklearn.impute import SimpleImputer \n",
        "\n",
        "# mount drive\n",
        "\n",
        "from google.colab import drive\n",
        "drive.mount('/content/drive')"
      ],
      "metadata": {
        "colab": {
          "base_uri": "https://localhost:8080/"
        },
        "id": "RcIW1qhAICkq",
        "outputId": "c61e13ec-9862-4a05-dc24-3fddda7ae4de"
      },
      "execution_count": 33,
      "outputs": [
        {
          "output_type": "stream",
          "name": "stdout",
          "text": [
            "Drive already mounted at /content/drive; to attempt to forcibly remount, call drive.mount(\"/content/drive\", force_remount=True).\n"
          ]
        }
      ]
    },
    {
      "cell_type": "code",
      "source": [
        "# step - 2 Load data\n",
        "\n",
        "datasets = pd.read_csv(\"/content/drive/MyDrive/ML LAB/Exercise-CarData.csv\")\n",
        "\n",
        "print(\"\\nDatasets: \\n\", datasets)\n",
        "print(\"\\n Statstics: \\n\", datasets.describe())"
      ],
      "metadata": {
        "colab": {
          "base_uri": "https://localhost:8080/"
        },
        "id": "QNKODJUkIg9q",
        "outputId": "592e9a67-964c-4258-dcf3-0afc52da2942"
      },
      "execution_count": 34,
      "outputs": [
        {
          "output_type": "stream",
          "name": "stdout",
          "text": [
            "\n",
            "Datasets: \n",
            "       Unnamed: 0  Price   Age     KM  ... Automatic    CC  Doors  Weight\n",
            "0              0  13500  23.0  46986  ...         0  2000  three    1165\n",
            "1              1  13750  23.0  72937  ...         0  2000      3    1165\n",
            "2              2  13950  24.0  41711  ...         0  2000      3    1165\n",
            "3              3  14950  26.0  48000  ...         0  2000      3    1165\n",
            "4              4  13750  30.0  38500  ...         0  2000      3    1170\n",
            "...          ...    ...   ...    ...  ...       ...   ...    ...     ...\n",
            "1431        1431   7500   NaN  20544  ...         0  1300      3    1025\n",
            "1432        1432  10845  72.0     ??  ...         0  1300      3    1015\n",
            "1433        1433   8500   NaN  17016  ...         0  1300      3    1015\n",
            "1434        1434   7250  70.0     ??  ...         0  1300      3    1015\n",
            "1435        1435   6950  76.0      1  ...         0  1600      5    1114\n",
            "\n",
            "[1436 rows x 11 columns]\n",
            "\n",
            " Statstics: \n",
            "         Unnamed: 0         Price  ...           CC      Weight\n",
            "count  1436.000000   1436.000000  ...  1436.000000  1436.00000\n",
            "mean    717.500000  10730.824513  ...  1566.827994  1072.45961\n",
            "std     414.681806   3626.964585  ...   187.182436    52.64112\n",
            "min       0.000000   4350.000000  ...  1300.000000  1000.00000\n",
            "25%     358.750000   8450.000000  ...  1400.000000  1040.00000\n",
            "50%     717.500000   9900.000000  ...  1600.000000  1070.00000\n",
            "75%    1076.250000  11950.000000  ...  1600.000000  1085.00000\n",
            "max    1435.000000  32500.000000  ...  2000.000000  1615.00000\n",
            "\n",
            "[8 rows x 7 columns]\n"
          ]
        }
      ]
    },
    {
      "cell_type": "code",
      "source": [
        "# Step 3: Seprate Input and Output attributes\n",
        "\n",
        "# all rows and all cols except first\n",
        "X = datasets.loc[:, datasets.columns != \"Price\"].values\n",
        "\n",
        "# take only output column\n",
        "Y = datasets.loc[:, datasets.columns == \"Price\"].values\n",
        "\n",
        "print(\"Input: \\n\", X)\n",
        "print(\"\\n\\nOutput: \\n\", Y)"
      ],
      "metadata": {
        "colab": {
          "base_uri": "https://localhost:8080/"
        },
        "id": "wt77NfXSIneR",
        "outputId": "b1fb858f-0da4-4eec-a8cf-0d1b9529d56d"
      },
      "execution_count": 35,
      "outputs": [
        {
          "output_type": "stream",
          "name": "stdout",
          "text": [
            "Input: \n",
            " [[0 23.0 '46986' ... 2000 'three' 1165]\n",
            " [1 23.0 '72937' ... 2000 '3' 1165]\n",
            " [2 24.0 '41711' ... 2000 '3' 1165]\n",
            " ...\n",
            " [1433 nan '17016' ... 1300 '3' 1015]\n",
            " [1434 70.0 '??' ... 1300 '3' 1015]\n",
            " [1435 76.0 '1' ... 1600 '5' 1114]]\n",
            "\n",
            "\n",
            "Output: \n",
            " [[13500]\n",
            " [13750]\n",
            " [13950]\n",
            " ...\n",
            " [ 8500]\n",
            " [ 7250]\n",
            " [ 6950]]\n"
          ]
        }
      ]
    },
    {
      "cell_type": "code",
      "source": [
        "# drop row who has value null in all columns.\n",
        "\n",
        "datasets.dropna(axis = 0, how = 'all',inplace = True)\n",
        "print(\"\\nNew Data :\",datasets)"
      ],
      "metadata": {
        "colab": {
          "base_uri": "https://localhost:8080/"
        },
        "id": "M5Vpbpy4IuXj",
        "outputId": "63a14ae6-1a35-4161-fd8f-058fc65f83b2"
      },
      "execution_count": 36,
      "outputs": [
        {
          "output_type": "stream",
          "name": "stdout",
          "text": [
            "\n",
            "New Data :       Unnamed: 0  Price   Age     KM  ... Automatic    CC  Doors  Weight\n",
            "0              0  13500  23.0  46986  ...         0  2000  three    1165\n",
            "1              1  13750  23.0  72937  ...         0  2000      3    1165\n",
            "2              2  13950  24.0  41711  ...         0  2000      3    1165\n",
            "3              3  14950  26.0  48000  ...         0  2000      3    1165\n",
            "4              4  13750  30.0  38500  ...         0  2000      3    1170\n",
            "...          ...    ...   ...    ...  ...       ...   ...    ...     ...\n",
            "1431        1431   7500   NaN  20544  ...         0  1300      3    1025\n",
            "1432        1432  10845  72.0     ??  ...         0  1300      3    1015\n",
            "1433        1433   8500   NaN  17016  ...         0  1300      3    1015\n",
            "1434        1434   7250  70.0     ??  ...         0  1300      3    1015\n",
            "1435        1435   6950  76.0      1  ...         0  1600      5    1114\n",
            "\n",
            "[1436 rows x 11 columns]\n"
          ]
        }
      ]
    },
    {
      "cell_type": "code",
      "source": [
        "# all rows and all cols except first\n",
        "X = datasets.loc[:, datasets.columns != \"Price\"].values\n",
        "\n",
        "# take only output column\n",
        "Y = datasets.loc[:, datasets.columns == \"Price\"].values"
      ],
      "metadata": {
        "id": "Iy7oB_WQIDsn"
      },
      "execution_count": 52,
      "outputs": []
    },
    {
      "cell_type": "code",
      "source": [
        "imputer = SimpleImputer(missing_values = np.nan,strategy = \"mean\")\n",
        "\n",
        "# performing for 'Age' column.\n",
        "imputer = imputer.fit(X[:, 1:2])\n",
        "\n",
        "X[:, 1:2] = imputer.transform(X[:, 1:2]) \n",
        "\n",
        "# filling the missing value with mean \n",
        "print(\"\\n\\nNew Input with Mean Value for NaN : \\n\\n\", X[:, 1:2]) "
      ],
      "metadata": {
        "id": "oSttdDmUI5MS",
        "colab": {
          "base_uri": "https://localhost:8080/"
        },
        "outputId": "494a58ba-1bb2-4774-f924-7995568cd3df"
      },
      "execution_count": 77,
      "outputs": [
        {
          "output_type": "stream",
          "name": "stdout",
          "text": [
            "\n",
            "\n",
            "New Input with Mean Value for NaN : \n",
            "\n",
            " [[23.0]\n",
            " [23.0]\n",
            " [24.0]\n",
            " ...\n",
            " [55.67215568862275]\n",
            " [70.0]\n",
            " [76.0]]\n"
          ]
        }
      ]
    }
  ]
}